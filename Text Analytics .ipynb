{
 "cells": [
  {
   "cell_type": "markdown",
   "id": "794243c0",
   "metadata": {},
   "source": [
    "# Text Analytics Coursework "
   ]
  },
  {
   "cell_type": "code",
   "execution_count": 333,
   "id": "annoying-ethiopia",
   "metadata": {},
   "outputs": [
    {
     "name": "stdout",
     "output_type": "stream",
     "text": [
      "The autoreload extension is already loaded. To reload it, use:\n",
      "  %reload_ext autoreload\n"
     ]
    }
   ],
   "source": [
    "%load_ext autoreload\n",
    "%autoreload 2\n",
    "\n",
    "# Use HuggingFace's datasets library to access the Emotion dataset\n",
    "from datasets import load_dataset\n",
    "import numpy as np"
   ]
  },
  {
   "cell_type": "markdown",
   "id": "09e90e82-bbdb-4532-91b1-58229d4f1043",
   "metadata": {},
   "source": [
    "# Social Media Emotion Classification\n",
    "\n",
    "The dataset classifies Tweets into anger, joy, optimism or sadness.\n",
    "\n",
    "First we need to load the data. The data is already split into train, validation and test. The _validation_ set (also called 'development' set or 'devset') can be used to compute performance of your model when tuning hyperparameters, optimising combinations of features, or looking at the errors your model makes before improving it. This allows you to hold out the test set (i.e., not to look at it at all when developing your method) to give a fair evaluation of the model and how well it generalises to new examples. This avoids tuning the model to specific examples in the test set. An alternative approach to validation is to not use a single fixed validation set, but instead use [cross validation](https://scikit-learn.org/stable/modules/cross_validation.html). "
   ]
  },
  {
   "cell_type": "code",
   "execution_count": 334,
   "id": "efaf1096-acce-4226-a172-5357f49e91c1",
   "metadata": {
    "scrolled": false
   },
   "outputs": [
    {
     "name": "stdout",
     "output_type": "stream",
     "text": [
      "Training dataset with 3257 instances loaded\n",
      "Development/validation dataset with 374 instances loaded\n",
      "Test dataset with 1421 instances loaded\n"
     ]
    }
   ],
   "source": [
    "cache_dir = \"./data_cache\"\n",
    "\n",
    "train_dataset = load_dataset(\n",
    "    \"tweet_eval\",\n",
    "    name=\"emotion\",\n",
    "    split=\"train\",\n",
    "    cache_dir=cache_dir,\n",
    ")\n",
    "print(f\"Training dataset with {len(train_dataset)} instances loaded\")\n",
    "\n",
    "\n",
    "val_dataset = load_dataset(\n",
    "    \"tweet_eval\",\n",
    "    name=\"emotion\",\n",
    "    split=\"validation\",\n",
    "    cache_dir=cache_dir,\n",
    ")\n",
    "print(f\"Development/validation dataset with {len(val_dataset)} instances loaded\")\n",
    "\n",
    "\n",
    "test_dataset = load_dataset(\n",
    "    \"tweet_eval\",\n",
    "    name=\"emotion\",\n",
    "    split=\"test\",\n",
    "    cache_dir=cache_dir,\n",
    ")\n",
    "print(f\"Test dataset with {len(test_dataset)} instances loaded\")\n",
    "\n",
    "# Access the input text and target labels like this...\n",
    "train_texts = train_dataset['text']\n",
    "train_labels = train_dataset['label']\n",
    "\n",
    "val_texts = val_dataset['text']\n",
    "val_labels = val_dataset['label']\n",
    "\n",
    "test_texts = test_dataset['text']\n",
    "test_labels = test_dataset['label']"
   ]
  },
  {
   "cell_type": "code",
   "execution_count": 171,
   "id": "71c13c8d",
   "metadata": {},
   "outputs": [],
   "source": [
    "# Define a dictionary to map numerical labels to string representations\n",
    "label_mapping = {\n",
    "    0: \"anger\",\n",
    "    1: \"joy\",\n",
    "    2: \"optimism\",\n",
    "    3: \"sadness\"\n",
    "}\n",
    "\n",
    "# Suppose you have a numerical label\n",
    "\n",
    "# Map the numerical label to its string representation\n",
    "train_labels = [label_mapping[label] for label in train_labels]\n",
    "test_labels = [label_mapping[label] for label in test_labels]\n",
    "val_labels = [label_mapping[label] for label in val_labels]\n"
   ]
  },
  {
   "cell_type": "code",
   "execution_count": 19,
   "id": "5749892b",
   "metadata": {
    "scrolled": false
   },
   "outputs": [
    {
     "data": {
      "image/png": "[encoded data removed]",
      "text/plain": [
       "<Figure size 640x480 with 1 Axes>"
      ]
     },
     "metadata": {},
     "output_type": "display_data"
    }
   ],
   "source": [
    "import matplotlib.pyplot as plt\n",
    "plt.hist(train_labels)\n",
    "\n",
    "plt.show()"
   ]
  },
  {
   "cell_type": "markdown",
   "id": "5c94f4e3",
   "metadata": {},
   "source": [
    "# 1.1 Non Neural Network Approach: LogisticRegression"
   ]
  },
  {
   "cell_type": "markdown",
   "id": "838d880b",
   "metadata": {},
   "source": [
    "## 1.Logistic regression with lemmatizer"
   ]
  },
  {
   "cell_type": "code",
   "execution_count": 319,
   "id": "e2fe037c",
   "metadata": {
    "scrolled": false
   },
   "outputs": [
    {
     "name": "stderr",
     "output_type": "stream",
     "text": [
      "/opt/anaconda3/envs/text_analytics/lib/python3.11/site-packages/sklearn/feature_extraction/text.py:525: UserWarning: The parameter 'token_pattern' will not be used since 'tokenizer' is not None'\n",
      "  warnings.warn(\n"
     ]
    },
    {
     "name": "stdout",
     "output_type": "stream",
     "text": [
      "Accuracy = 0.6737967914438503\n",
      "Precision (macro average) = 0.6406724494411061\n",
      "Recall (macro average) = 0.5885065456884712\n",
      "F1 score (macro average) = 0.6047160410950647\n",
      "              precision    recall  f1-score   support\n",
      "\n",
      "       anger       0.68      0.84      0.75       160\n",
      "         joy       0.79      0.55      0.65        97\n",
      "    optimism       0.48      0.36      0.41        28\n",
      "     sadness       0.61      0.61      0.61        89\n",
      "\n",
      "    accuracy                           0.67       374\n",
      "   macro avg       0.64      0.59      0.60       374\n",
      "weighted avg       0.68      0.67      0.67       374\n",
      "\n"
     ]
    }
   ],
   "source": [
    "from sklearn.feature_extraction.text import CountVectorizer\n",
    "from nltk import word_tokenize\n",
    "\n",
    "# CountVectorizer can do its own tokenization, but for consistency we want to\n",
    "# carry on using WordNetTokenizer. \n",
    "\n",
    "class LemmaTokenizer(object):  # this 'tokenizer' will also do additional preprocessing steps, namely, lemmatize verbs and adjectives\n",
    "    \n",
    "    def __init__(self):\n",
    "        self.wnl = WordNetLemmatizer()\n",
    "        \n",
    "    def __call__(self, tweets):\n",
    "        return [self.wnl.lemmatize(self.wnl.lemmatize(tok, pos='v'), pos='a') for tok in word_tokenize(tweets)]\n",
    "    \n",
    "vectorizer = CountVectorizer(tokenizer=LemmaTokenizer(), ngram_range=(1, 2))\n",
    "\n",
    "\n",
    "vectorizer.fit(train_texts)  # Learn the vocabulary\n",
    "X_train = vectorizer.transform(train_texts) # extract training set bags of words\n",
    "X_val = vectorizer.transform(val_texts)\n",
    "X_test = vectorizer.transform(test_texts)  # extract test set bags of words\n",
    "\n",
    "\n",
    "\n",
    "# WRITE YOUR CODE HERE\n",
    "from sklearn.linear_model import LogisticRegression\n",
    "\n",
    "classifier = LogisticRegression()\n",
    "classifier.fit(X_train, train_labels)\n",
    "y_val_pred = classifier.predict(X_val)\n",
    "\n",
    "from sklearn.metrics import accuracy_score, precision_score, recall_score, f1_score, classification_report\n",
    "\n",
    "acc = accuracy_score(val_labels, y_val_pred)\n",
    "print(f'Accuracy = {acc}')\n",
    "\n",
    "prec = precision_score(val_labels, y_val_pred, average='macro')\n",
    "print(f'Precision (macro average) = {prec}')\n",
    "\n",
    "rec = recall_score(val_labels, y_val_pred, average='macro')\n",
    "print(f'Recall (macro average) = {rec}')\n",
    "\n",
    "f1 = f1_score(val_labels, y_val_pred, average='macro')\n",
    "print(f'F1 score (macro average) = {f1}')\n",
    "\n",
    "# We can get all of these with a per-class breakdown using classification_report:\n",
    "print(classification_report(val_labels, y_val_pred))"
   ]
  },
  {
   "cell_type": "code",
   "execution_count": 56,
   "id": "fa059c74",
   "metadata": {
    "scrolled": true
   },
   "outputs": [
    {
     "name": "stderr",
     "output_type": "stream",
     "text": [
      "/opt/anaconda3/envs/text_analytics/lib/python3.11/site-packages/sklearn/feature_extraction/text.py:525: UserWarning: The parameter 'token_pattern' will not be used since 'tokenizer' is not None'\n",
      "  warnings.warn(\n"
     ]
    }
   ],
   "source": [
    "from sklearn.feature_extraction.text import CountVectorizer\n",
    "from nltk import word_tokenize\n",
    "\n",
    "# CountVectorizer can do its own tokenization, but for consistency we want to\n",
    "# carry on using WordNetTokenizer. \n",
    "vectorizer = CountVectorizer(tokenizer=word_tokenize)  # construct the vectorizer\n",
    "\n",
    "vectorizer.fit(train_texts)  # Learn the vocabulary\n",
    "X_train = vectorizer.transform(train_texts) # extract training set bags of words\n",
    "X_val = vectorizer.transform(val_texts)\n",
    "X_test = vectorizer.transform(test_texts)  # extract test set bags of words"
   ]
  },
  {
   "cell_type": "code",
   "execution_count": 70,
   "id": "3f35a688",
   "metadata": {},
   "outputs": [],
   "source": [
    "vocabulary = vectorizer.vocabulary_"
   ]
  },
  {
   "cell_type": "markdown",
   "id": "5dce5b10",
   "metadata": {},
   "source": [
    "## 1.2 LogisticRegression without feature"
   ]
  },
  {
   "cell_type": "code",
   "execution_count": 65,
   "id": "633ce84f",
   "metadata": {},
   "outputs": [
    {
     "data": {
      "text/html": [
       "<style>#sk-container-id-4 {\n",
       "  /* Definition of color scheme common for light and dark mode */\n",
       "  --sklearn-color-text: black;\n",
       "  --sklearn-color-line: gray;\n",
       "  /* Definition of color scheme for unfitted estimators */\n",
       "  --sklearn-color-unfitted-level-0: #fff5e6;\n",
       "  --sklearn-color-unfitted-level-1: #f6e4d2;\n",
       "  --sklearn-color-unfitted-level-2: #ffe0b3;\n",
       "  --sklearn-color-unfitted-level-3: chocolate;\n",
       "  /* Definition of color scheme for fitted estimators */\n",
       "  --sklearn-color-fitted-level-0: #f0f8ff;\n",
       "  --sklearn-color-fitted-level-1: #d4ebff;\n",
       "  --sklearn-color-fitted-level-2: #b3dbfd;\n",
       "  --sklearn-color-fitted-level-3: cornflowerblue;\n",
       "\n",
       "  /* Specific color for light theme */\n",
       "  --sklearn-color-text-on-default-background: var(--sg-text-color, var(--theme-code-foreground, var(--jp-content-font-color1, black)));\n",
       "  --sklearn-color-background: var(--sg-background-color, var(--theme-background, var(--jp-layout-color0, white)));\n",
       "  --sklearn-color-border-box: var(--sg-text-color, var(--theme-code-foreground, var(--jp-content-font-color1, black)));\n",
       "  --sklearn-color-icon: #696969;\n",
       "\n",
       "  @media (prefers-color-scheme: dark) {\n",
       "    /* Redefinition of color scheme for dark theme */\n",
       "    --sklearn-color-text-on-default-background: var(--sg-text-color, var(--theme-code-foreground, var(--jp-content-font-color1, white)));\n",
       "    --sklearn-color-background: var(--sg-background-color, var(--theme-background, var(--jp-layout-color0, #111)));\n",
       "    --sklearn-color-border-box: var(--sg-text-color, var(--theme-code-foreground, var(--jp-content-font-color1, white)));\n",
       "    --sklearn-color-icon: #878787;\n",
       "  }\n",
       "}\n",
       "\n",
       "#sk-container-id-4 {\n",
       "  color: var(--sklearn-color-text);\n",
       "}\n",
       "\n",
       "#sk-container-id-4 pre {\n",
       "  padding: 0;\n",
       "}\n",
       "\n",
       "#sk-container-id-4 input.sk-hidden--visually {\n",
       "  border: 0;\n",
       "  clip: rect(1px 1px 1px 1px);\n",
       "  clip: rect(1px, 1px, 1px, 1px);\n",
       "  height: 1px;\n",
       "  margin: -1px;\n",
       "  overflow: hidden;\n",
       "  padding: 0;\n",
       "  position: absolute;\n",
       "  width: 1px;\n",
       "}\n",
       "\n",
       "#sk-container-id-4 div.sk-dashed-wrapped {\n",
       "  border: 1px dashed var(--sklearn-color-line);\n",
       "  margin: 0 0.4em 0.5em 0.4em;\n",
       "  box-sizing: border-box;\n",
       "  padding-bottom: 0.4em;\n",
       "  background-color: var(--sklearn-color-background);\n",
       "}\n",
       "\n",
       "#sk-container-id-4 div.sk-container {\n",
       "  /* jupyter's `normalize.less` sets `[hidden] { display: none; }`\n",
       "     but bootstrap.min.css set `[hidden] { display: none !important; }`\n",
       "     so we also need the `!important` here to be able to override the\n",
       "     default hidden behavior on the sphinx rendered scikit-learn.org.\n",
       "     See: https://github.com/scikit-learn/scikit-learn/issues/21755 */\n",
       "  display: inline-block !important;\n",
       "  position: relative;\n",
       "}\n",
       "\n",
       "#sk-container-id-4 div.sk-text-repr-fallback {\n",
       "  display: none;\n",
       "}\n",
       "\n",
       "div.sk-parallel-item,\n",
       "div.sk-serial,\n",
       "div.sk-item {\n",
       "  /* draw centered vertical line to link estimators */\n",
       "  background-image: linear-gradient(var(--sklearn-color-text-on-default-background), var(--sklearn-color-text-on-default-background));\n",
       "  background-size: 2px 100%;\n",
       "  background-repeat: no-repeat;\n",
       "  background-position: center center;\n",
       "}\n",
       "\n",
       "/* Parallel-specific style estimator block */\n",
       "\n",
       "#sk-container-id-4 div.sk-parallel-item::after {\n",
       "  content: \"\";\n",
       "  width: 100%;\n",
       "  border-bottom: 2px solid var(--sklearn-color-text-on-default-background);\n",
       "  flex-grow: 1;\n",
       "}\n",
       "\n",
       "#sk-container-id-4 div.sk-parallel {\n",
       "  display: flex;\n",
       "  align-items: stretch;\n",
       "  justify-content: center;\n",
       "  background-color: var(--sklearn-color-background);\n",
       "  position: relative;\n",
       "}\n",
       "\n",
       "#sk-container-id-4 div.sk-parallel-item {\n",
       "  display: flex;\n",
       "  flex-direction: column;\n",
       "}\n",
       "\n",
       "#sk-container-id-4 div.sk-parallel-item:first-child::after {\n",
       "  align-self: flex-end;\n",
       "  width: 50%;\n",
       "}\n",
       "\n",
       "#sk-container-id-4 div.sk-parallel-item:last-child::after {\n",
       "  align-self: flex-start;\n",
       "  width: 50%;\n",
       "}\n",
       "\n",
       "#sk-container-id-4 div.sk-parallel-item:only-child::after {\n",
       "  width: 0;\n",
       "}\n",
       "\n",
       "/* Serial-specific style estimator block */\n",
       "\n",
       "#sk-container-id-4 div.sk-serial {\n",
       "  display: flex;\n",
       "  flex-direction: column;\n",
       "  align-items: center;\n",
       "  background-color: var(--sklearn-color-background);\n",
       "  padding-right: 1em;\n",
       "  padding-left: 1em;\n",
       "}\n",
       "\n",
       "\n",
       "/* Toggleable style: style used for estimator/Pipeline/ColumnTransformer box that is\n",
       "clickable and can be expanded/collapsed.\n",
       "- Pipeline and ColumnTransformer use this feature and define the default style\n",
       "- Estimators will overwrite some part of the style using the `sk-estimator` class\n",
       "*/\n",
       "\n",
       "/* Pipeline and ColumnTransformer style (default) */\n",
       "\n",
       "#sk-container-id-4 div.sk-toggleable {\n",
       "  /* Default theme specific background. It is overwritten whether we have a\n",
       "  specific estimator or a Pipeline/ColumnTransformer */\n",
       "  background-color: var(--sklearn-color-background);\n",
       "}\n",
       "\n",
       "/* Toggleable label */\n",
       "#sk-container-id-4 label.sk-toggleable__label {\n",
       "  cursor: pointer;\n",
       "  display: block;\n",
       "  width: 100%;\n",
       "  margin-bottom: 0;\n",
       "  padding: 0.5em;\n",
       "  box-sizing: border-box;\n",
       "  text-align: center;\n",
       "}\n",
       "\n",
       "#sk-container-id-4 label.sk-toggleable__label-arrow:before {\n",
       "  /* Arrow on the left of the label */\n",
       "  content: \"▸\";\n",
       "  float: left;\n",
       "  margin-right: 0.25em;\n",
       "  color: var(--sklearn-color-icon);\n",
       "}\n",
       "\n",
       "#sk-container-id-4 label.sk-toggleable__label-arrow:hover:before {\n",
       "  color: var(--sklearn-color-text);\n",
       "}\n",
       "\n",
       "/* Toggleable content - dropdown */\n",
       "\n",
       "#sk-container-id-4 div.sk-toggleable__content {\n",
       "  max-height: 0;\n",
       "  max-width: 0;\n",
       "  overflow: hidden;\n",
       "  text-align: left;\n",
       "  /* unfitted */\n",
       "  background-color: var(--sklearn-color-unfitted-level-0);\n",
       "}\n",
       "\n",
       "#sk-container-id-4 div.sk-toggleable__content.fitted {\n",
       "  /* fitted */\n",
       "  background-color: var(--sklearn-color-fitted-level-0);\n",
       "}\n",
       "\n",
       "#sk-container-id-4 div.sk-toggleable__content pre {\n",
       "  margin: 0.2em;\n",
       "  border-radius: 0.25em;\n",
       "  color: var(--sklearn-color-text);\n",
       "  /* unfitted */\n",
       "  background-color: var(--sklearn-color-unfitted-level-0);\n",
       "}\n",
       "\n",
       "#sk-container-id-4 div.sk-toggleable__content.fitted pre {\n",
       "  /* unfitted */\n",
       "  background-color: var(--sklearn-color-fitted-level-0);\n",
       "}\n",
       "\n",
       "#sk-container-id-4 input.sk-toggleable__control:checked~div.sk-toggleable__content {\n",
       "  /* Expand drop-down */\n",
       "  max-height: 200px;\n",
       "  max-width: 100%;\n",
       "  overflow: auto;\n",
       "}\n",
       "\n",
       "#sk-container-id-4 input.sk-toggleable__control:checked~label.sk-toggleable__label-arrow:before {\n",
       "  content: \"▾\";\n",
       "}\n",
       "\n",
       "/* Pipeline/ColumnTransformer-specific style */\n",
       "\n",
       "#sk-container-id-4 div.sk-label input.sk-toggleable__control:checked~label.sk-toggleable__label {\n",
       "  color: var(--sklearn-color-text);\n",
       "  background-color: var(--sklearn-color-unfitted-level-2);\n",
       "}\n",
       "\n",
       "#sk-container-id-4 div.sk-label.fitted input.sk-toggleable__control:checked~label.sk-toggleable__label {\n",
       "  background-color: var(--sklearn-color-fitted-level-2);\n",
       "}\n",
       "\n",
       "/* Estimator-specific style */\n",
       "\n",
       "/* Colorize estimator box */\n",
       "#sk-container-id-4 div.sk-estimator input.sk-toggleable__control:checked~label.sk-toggleable__label {\n",
       "  /* unfitted */\n",
       "  background-color: var(--sklearn-color-unfitted-level-2);\n",
       "}\n",
       "\n",
       "#sk-container-id-4 div.sk-estimator.fitted input.sk-toggleable__control:checked~label.sk-toggleable__label {\n",
       "  /* fitted */\n",
       "  background-color: var(--sklearn-color-fitted-level-2);\n",
       "}\n",
       "\n",
       "#sk-container-id-4 div.sk-label label.sk-toggleable__label,\n",
       "#sk-container-id-4 div.sk-label label {\n",
       "  /* The background is the default theme color */\n",
       "  color: var(--sklearn-color-text-on-default-background);\n",
       "}\n",
       "\n",
       "/* On hover, darken the color of the background */\n",
       "#sk-container-id-4 div.sk-label:hover label.sk-toggleable__label {\n",
       "  color: var(--sklearn-color-text);\n",
       "  background-color: var(--sklearn-color-unfitted-level-2);\n",
       "}\n",
       "\n",
       "/* Label box, darken color on hover, fitted */\n",
       "#sk-container-id-4 div.sk-label.fitted:hover label.sk-toggleable__label.fitted {\n",
       "  color: var(--sklearn-color-text);\n",
       "  background-color: var(--sklearn-color-fitted-level-2);\n",
       "}\n",
       "\n",
       "/* Estimator label */\n",
       "\n",
       "#sk-container-id-4 div.sk-label label {\n",
       "  font-family: monospace;\n",
       "  font-weight: bold;\n",
       "  display: inline-block;\n",
       "  line-height: 1.2em;\n",
       "}\n",
       "\n",
       "#sk-container-id-4 div.sk-label-container {\n",
       "  text-align: center;\n",
       "}\n",
       "\n",
       "/* Estimator-specific */\n",
       "#sk-container-id-4 div.sk-estimator {\n",
       "  font-family: monospace;\n",
       "  border: 1px dotted var(--sklearn-color-border-box);\n",
       "  border-radius: 0.25em;\n",
       "  box-sizing: border-box;\n",
       "  margin-bottom: 0.5em;\n",
       "  /* unfitted */\n",
       "  background-color: var(--sklearn-color-unfitted-level-0);\n",
       "}\n",
       "\n",
       "#sk-container-id-4 div.sk-estimator.fitted {\n",
       "  /* fitted */\n",
       "  background-color: var(--sklearn-color-fitted-level-0);\n",
       "}\n",
       "\n",
       "/* on hover */\n",
       "#sk-container-id-4 div.sk-estimator:hover {\n",
       "  /* unfitted */\n",
       "  background-color: var(--sklearn-color-unfitted-level-2);\n",
       "}\n",
       "\n",
       "#sk-container-id-4 div.sk-estimator.fitted:hover {\n",
       "  /* fitted */\n",
       "  background-color: var(--sklearn-color-fitted-level-2);\n",
       "}\n",
       "\n",
       "/* Specification for estimator info (e.g. \"i\" and \"?\") */\n",
       "\n",
       "/* Common style for \"i\" and \"?\" */\n",
       "\n",
       ".sk-estimator-doc-link,\n",
       "a:link.sk-estimator-doc-link,\n",
       "a:visited.sk-estimator-doc-link {\n",
       "  float: right;\n",
       "  font-size: smaller;\n",
       "  line-height: 1em;\n",
       "  font-family: monospace;\n",
       "  background-color: var(--sklearn-color-background);\n",
       "  border-radius: 1em;\n",
       "  height: 1em;\n",
       "  width: 1em;\n",
       "  text-decoration: none !important;\n",
       "  margin-left: 1ex;\n",
       "  /* unfitted */\n",
       "  border: var(--sklearn-color-unfitted-level-1) 1pt solid;\n",
       "  color: var(--sklearn-color-unfitted-level-1);\n",
       "}\n",
       "\n",
       ".sk-estimator-doc-link.fitted,\n",
       "a:link.sk-estimator-doc-link.fitted,\n",
       "a:visited.sk-estimator-doc-link.fitted {\n",
       "  /* fitted */\n",
       "  border: var(--sklearn-color-fitted-level-1) 1pt solid;\n",
       "  color: var(--sklearn-color-fitted-level-1);\n",
       "}\n",
       "\n",
       "/* On hover */\n",
       "div.sk-estimator:hover .sk-estimator-doc-link:hover,\n",
       ".sk-estimator-doc-link:hover,\n",
       "div.sk-label-container:hover .sk-estimator-doc-link:hover,\n",
       ".sk-estimator-doc-link:hover {\n",
       "  /* unfitted */\n",
       "  background-color: var(--sklearn-color-unfitted-level-3);\n",
       "  color: var(--sklearn-color-background);\n",
       "  text-decoration: none;\n",
       "}\n",
       "\n",
       "div.sk-estimator.fitted:hover .sk-estimator-doc-link.fitted:hover,\n",
       ".sk-estimator-doc-link.fitted:hover,\n",
       "div.sk-label-container:hover .sk-estimator-doc-link.fitted:hover,\n",
       ".sk-estimator-doc-link.fitted:hover {\n",
       "  /* fitted */\n",
       "  background-color: var(--sklearn-color-fitted-level-3);\n",
       "  color: var(--sklearn-color-background);\n",
       "  text-decoration: none;\n",
       "}\n",
       "\n",
       "/* Span, style for the box shown on hovering the info icon */\n",
       ".sk-estimator-doc-link span {\n",
       "  display: none;\n",
       "  z-index: 9999;\n",
       "  position: relative;\n",
       "  font-weight: normal;\n",
       "  right: .2ex;\n",
       "  padding: .5ex;\n",
       "  margin: .5ex;\n",
       "  width: min-content;\n",
       "  min-width: 20ex;\n",
       "  max-width: 50ex;\n",
       "  color: var(--sklearn-color-text);\n",
       "  box-shadow: 2pt 2pt 4pt #999;\n",
       "  /* unfitted */\n",
       "  background: var(--sklearn-color-unfitted-level-0);\n",
       "  border: .5pt solid var(--sklearn-color-unfitted-level-3);\n",
       "}\n",
       "\n",
       ".sk-estimator-doc-link.fitted span {\n",
       "  /* fitted */\n",
       "  background: var(--sklearn-color-fitted-level-0);\n",
       "  border: var(--sklearn-color-fitted-level-3);\n",
       "}\n",
       "\n",
       ".sk-estimator-doc-link:hover span {\n",
       "  display: block;\n",
       "}\n",
       "\n",
       "/* \"?\"-specific style due to the `<a>` HTML tag */\n",
       "\n",
       "#sk-container-id-4 a.estimator_doc_link {\n",
       "  float: right;\n",
       "  font-size: 1rem;\n",
       "  line-height: 1em;\n",
       "  font-family: monospace;\n",
       "  background-color: var(--sklearn-color-background);\n",
       "  border-radius: 1rem;\n",
       "  height: 1rem;\n",
       "  width: 1rem;\n",
       "  text-decoration: none;\n",
       "  /* unfitted */\n",
       "  color: var(--sklearn-color-unfitted-level-1);\n",
       "  border: var(--sklearn-color-unfitted-level-1) 1pt solid;\n",
       "}\n",
       "\n",
       "#sk-container-id-4 a.estimator_doc_link.fitted {\n",
       "  /* fitted */\n",
       "  border: var(--sklearn-color-fitted-level-1) 1pt solid;\n",
       "  color: var(--sklearn-color-fitted-level-1);\n",
       "}\n",
       "\n",
       "/* On hover */\n",
       "#sk-container-id-4 a.estimator_doc_link:hover {\n",
       "  /* unfitted */\n",
       "  background-color: var(--sklearn-color-unfitted-level-3);\n",
       "  color: var(--sklearn-color-background);\n",
       "  text-decoration: none;\n",
       "}\n",
       "\n",
       "#sk-container-id-4 a.estimator_doc_link.fitted:hover {\n",
       "  /* fitted */\n",
       "  background-color: var(--sklearn-color-fitted-level-3);\n",
       "}\n",
       "</style><div id=\"sk-container-id-4\" class=\"sk-top-container\"><div class=\"sk-text-repr-fallback\"><pre>LogisticRegression()</pre><b>In a Jupyter environment, please rerun this cell to show the HTML representation or trust the notebook. <br />On GitHub, the HTML representation is unable to render, please try loading this page with nbviewer.org.</b></div><div class=\"sk-container\" hidden><div class=\"sk-item\"><div class=\"sk-estimator fitted sk-toggleable\"><input class=\"sk-toggleable__control sk-hidden--visually\" id=\"sk-estimator-id-4\" type=\"checkbox\" checked><label for=\"sk-estimator-id-4\" class=\"sk-toggleable__label fitted sk-toggleable__label-arrow fitted\">&nbsp;&nbsp;LogisticRegression<a class=\"sk-estimator-doc-link fitted\" rel=\"noreferrer\" target=\"_blank\" href=\"https://scikit-learn.org/1.4/modules/generated/sklearn.linear_model.LogisticRegression.html\">?<span>Documentation for LogisticRegression</span></a><span class=\"sk-estimator-doc-link fitted\">i<span>Fitted</span></span></label><div class=\"sk-toggleable__content fitted\"><pre>LogisticRegression()</pre></div> </div></div></div></div>"
      ],
      "text/plain": [
       "LogisticRegression()"
      ]
     },
     "execution_count": 65,
     "metadata": {},
     "output_type": "execute_result"
    }
   ],
   "source": [
    "# WRITE YOUR CODE HERE\n",
    "\n",
    "from sklearn.linear_model import LogisticRegression\n",
    "\n",
    "classifier = LogisticRegression()\n",
    "classifier.fit(X_train, train_labels)"
   ]
  },
  {
   "cell_type": "code",
   "execution_count": 61,
   "id": "0841c776",
   "metadata": {},
   "outputs": [],
   "source": [
    "# WRITE YOUR CODE HERE\n",
    "\n",
    "y_val_pred = classifier.predict(X_val)"
   ]
  },
  {
   "cell_type": "code",
   "execution_count": 64,
   "id": "8a9b4846",
   "metadata": {
    "scrolled": true
   },
   "outputs": [
    {
     "name": "stdout",
     "output_type": "stream",
     "text": [
      "Accuracy = 0.6443850267379679\n",
      "Precision (macro average) = 0.6046152518978607\n",
      "Recall (macro average) = 0.573580354040145\n",
      "F1 score (macro average) = 0.5850716759482986\n",
      "              precision    recall  f1-score   support\n",
      "\n",
      "       anger       0.68      0.76      0.72       160\n",
      "         joy       0.67      0.56      0.61        97\n",
      "    optimism       0.48      0.36      0.41        28\n",
      "     sadness       0.60      0.62      0.61        89\n",
      "\n",
      "    accuracy                           0.64       374\n",
      "   macro avg       0.60      0.57      0.59       374\n",
      "weighted avg       0.64      0.64      0.64       374\n",
      "\n"
     ]
    }
   ],
   "source": [
    "\n",
    "# WRITE YOUR CODE HERE\n",
    "from sklearn.metrics import accuracy_score, precision_score, recall_score, f1_score, classification_report\n",
    "\n",
    "acc = accuracy_score(val_labels, y_val_pred)\n",
    "print(f'Accuracy = {acc}')\n",
    "\n",
    "prec = precision_score(val_labels, y_val_pred, average='macro')\n",
    "print(f'Precision (macro average) = {prec}')\n",
    "\n",
    "rec = recall_score(val_labels, y_val_pred, average='macro')\n",
    "print(f'Recall (macro average) = {rec}')\n",
    "\n",
    "f1 = f1_score(val_labels, y_val_pred, average='macro')\n",
    "print(f'F1 score (macro average) = {f1}')\n",
    "\n",
    "# We can get all of these with a per-class breakdown using classification_report:\n",
    "print(classification_report(val_labels, y_val_pred))"
   ]
  },
  {
   "cell_type": "markdown",
   "id": "3cab5c8a",
   "metadata": {},
   "source": [
    "## 1.3 Logistic Regression with Custom tokenizer  (LR+Bigram)"
   ]
  },
  {
   "cell_type": "code",
   "execution_count": 393,
   "id": "03690d1a",
   "metadata": {},
   "outputs": [
    {
     "name": "stderr",
     "output_type": "stream",
     "text": [
      "[nltk_data] Downloading package stopwords to\n",
      "[nltk_data]     /Users/dangngocbach/nltk_data...\n",
      "[nltk_data]   Package stopwords is already up-to-date!\n",
      "/opt/anaconda3/envs/text_analytics/lib/python3.11/site-packages/sklearn/feature_extraction/text.py:525: UserWarning: The parameter 'token_pattern' will not be used since 'tokenizer' is not None'\n",
      "  warnings.warn(\n"
     ]
    },
    {
     "name": "stdout",
     "output_type": "stream",
     "text": [
      "Accuracy = 0.6764705882352942\n",
      "Precision (macro average) = 0.6750111676940946\n",
      "Recall (macro average) = 0.5834861246711125\n",
      "F1 score (macro average) = 0.6101728387479041\n",
      "              precision    recall  f1-score   support\n",
      "\n",
      "           0       0.66      0.85      0.75       160\n",
      "           1       0.71      0.57      0.63        97\n",
      "           2       0.64      0.32      0.43        28\n",
      "           3       0.68      0.60      0.63        89\n",
      "\n",
      "    accuracy                           0.68       374\n",
      "   macro avg       0.68      0.58      0.61       374\n",
      "weighted avg       0.68      0.68      0.67       374\n",
      "\n"
     ]
    }
   ],
   "source": [
    "from sklearn.feature_extraction.text import CountVectorizer\n",
    "from nltk import word_tokenize\n",
    "from nltk.corpus import stopwords\n",
    "from nltk.stem import WordNetLemmatizer\n",
    "lemmatizer = WordNetLemmatizer()\n",
    "\n",
    "import nltk\n",
    "nltk.download('stopwords')\n",
    "stop_words = set(stopwords.words('english'))\n",
    "\n",
    "\n",
    "\n",
    "# Custom tokenizer with preprocessing steps\n",
    "def custom_tokenizer(text):\n",
    "    # Convert to lowercase\n",
    "    text = text.lower()\n",
    "    \n",
    "    # Remove user mentions\n",
    "    text = re.sub(r'@\\w+', '', text)\n",
    "    \n",
    "    tokens = word_tokenize(text)\n",
    "    \n",
    "    # Remove stop words\n",
    "    tokens = [token for token in tokens if token not in stop_words]\n",
    "    \n",
    "    # Lemmatize tokens\n",
    "#     tokens = [lemmatizer.lemmatize(token) for token in tokens]\n",
    "    \n",
    "    return tokens\n",
    "\n",
    "\n",
    "# Construct the vectorizer with custom tokenizer\n",
    "vectorizer = CountVectorizer(tokenizer=custom_tokenizer, ngram_range=(1, 2))\n",
    "\n",
    "# Assuming train_texts, val_texts, and test_texts are already defined\n",
    "vectorizer.fit(train_texts)  # Learn the vocabulary\n",
    "X_train = vectorizer.transform(train_texts)  # Extract training set bags of words\n",
    "X_val = vectorizer.transform(val_texts)  # Extract validation set bags of words\n",
    "X_test = vectorizer.transform(test_texts)  # Extract test set bags of words\n",
    "\n",
    "\n",
    "\n",
    "from sklearn.linear_model import LogisticRegression\n",
    "from sklearn.metrics import accuracy_score, precision_score, recall_score, f1_score, classification_report\n",
    "\n",
    "# Train the Logistic Regression classifier\n",
    "classifier = LogisticRegression()\n",
    "classifier.fit(X_train, train_labels)\n",
    "y_val_pred = classifier.predict(X_val)\n",
    "\n",
    "# Evaluate the model\n",
    "acc = accuracy_score(val_labels, y_val_pred)\n",
    "print(f'Accuracy = {acc}')\n",
    "\n",
    "prec = precision_score(val_labels, y_val_pred, average='macro')\n",
    "print(f'Precision (macro average) = {prec}')\n",
    "\n",
    "rec = recall_score(val_labels, y_val_pred, average='macro')\n",
    "print(f'Recall (macro average) = {rec}')\n",
    "\n",
    "f1 = f1_score(val_labels, y_val_pred, average='macro')\n",
    "print(f'F1 score (macro average) = {f1}')\n",
    "\n",
    "# Print a classification report with a per-class breakdown\n",
    "print(classification_report(val_labels, y_val_pred))\n",
    "\n"
   ]
  },
  {
   "cell_type": "markdown",
   "id": "0f7df2a8",
   "metadata": {},
   "source": [
    "## 1.4 Logistic Regerssion custom tokenizer with Lexicon (LR+Lexi)"
   ]
  },
  {
   "cell_type": "code",
   "execution_count": 340,
   "id": "7f32b6b3",
   "metadata": {},
   "outputs": [
    {
     "name": "stderr",
     "output_type": "stream",
     "text": [
      "[nltk_data] Downloading package vader_lexicon to\n",
      "[nltk_data]     /Users/dangngocbach/nltk_data...\n",
      "[nltk_data]   Package vader_lexicon is already up-to-date!\n"
     ]
    }
   ],
   "source": [
    "import nltk\n",
    "from nltk.sentiment.vader import SentimentIntensityAnalyzer\n",
    "\n",
    "nltk.download('vader_lexicon')\n",
    "\n",
    "analyser = SentimentIntensityAnalyzer()"
   ]
  },
  {
   "cell_type": "code",
   "execution_count": 342,
   "id": "c9fc204b",
   "metadata": {},
   "outputs": [
    {
     "name": "stdout",
     "output_type": "stream",
     "text": [
      "happy: 2.7\n",
      "wonderful: 2.7\n",
      "horrible: -2.5\n",
      "boring: -1.3\n",
      "tablecloth: NOT IN LEXICON\n",
      "not: NOT IN LEXICON\n"
     ]
    }
   ],
   "source": [
    "testwords = ['happy', 'wonderful', 'horrible', 'boring', 'tablecloth', 'not']\n",
    "\n",
    "for word in testwords:\n",
    "    if word in analyser.lexicon:\n",
    "        print(f'{word}: {analyser.lexicon[word]}')\n",
    "    else:\n",
    "        print(f'{word}: NOT IN LEXICON')"
   ]
  },
  {
   "cell_type": "code",
   "execution_count": 343,
   "id": "2b3c0132",
   "metadata": {},
   "outputs": [
    {
     "name": "stdout",
     "output_type": "stream",
     "text": [
      "['“', 'worry', 'payment', 'problem', 'may', 'never', \"'\", '.', 'joyce', 'meyer', '#', 'motivation', 'leadership', '“ worry', 'worry payment', 'payment problem', 'problem may', 'may never', \"never '\", \"' .\"]\n"
     ]
    }
   ],
   "source": [
    "# Print out some of the features in the vocabulary:\n",
    "print(list(vectorizer.vocabulary_)[:20])\n",
    "\n",
    "vocabulary = vectorizer.vocabulary_\n",
    "\n",
    "lex_pos_scores = np.zeros((1, len(vocabulary)))\n",
    "lex_neg_scores = np.zeros((1, len(vocabulary)))\n",
    "\n",
    "# get the Vader lexicon scores for each word in our vocabulary\n",
    "for i, term in enumerate(vocabulary):\n",
    "    if term in analyser.lexicon and analyser.lexicon[term] > 0:\n",
    "        lex_pos_scores[0, i] = 1\n",
    "    elif term in analyser.lexicon and analyser.lexicon[term] < 0:\n",
    "        lex_neg_scores[0, i] = 1"
   ]
  },
  {
   "cell_type": "code",
   "execution_count": 344,
   "id": "9a861883",
   "metadata": {},
   "outputs": [],
   "source": [
    "# Compute the scores for each instance in the data set. \n",
    "\n",
    "# Multiply the lexicon scores by the feature vectors, then sum over the \n",
    "# vocabulary to get the total positive and total negative counts:\n",
    "lex_pos_train = np.sum(X_train.multiply(lex_pos_scores), axis=1)\n",
    "lex_pos_test = np.sum(X_test.multiply(lex_pos_scores), axis=1)\n",
    "lex_pos_val = np.sum(X_val.multiply(lex_pos_scores), axis=1)\n",
    "\n",
    "\n",
    "lex_neg_train = np.sum(X_train.multiply(lex_neg_scores), axis=1)\n",
    "lex_neg_test = np.sum(X_test.multiply(lex_neg_scores), axis=1)\n",
    "lex_neg_val = np.sum(X_val.multiply(lex_neg_scores), axis=1)\n"
   ]
  },
  {
   "cell_type": "code",
   "execution_count": 345,
   "id": "9efb1590",
   "metadata": {},
   "outputs": [],
   "source": [
    "from scipy.sparse import hstack\n",
    "\n",
    "X_train = hstack((X_train, lex_pos_train, lex_neg_train))\n",
    "X_test = hstack((X_test, lex_pos_test, lex_neg_test))\n",
    "X_val = hstack((X_val, lex_pos_val, lex_neg_val))"
   ]
  },
  {
   "cell_type": "code",
   "execution_count": 347,
   "id": "e73a0623",
   "metadata": {},
   "outputs": [
    {
     "name": "stdout",
     "output_type": "stream",
     "text": [
      "Accuracy = 0.6764705882352942\n",
      "Precision (macro average) = 0.6750111676940946\n",
      "Recall (macro average) = 0.5834861246711125\n",
      "F1 score (macro average) = 0.6101728387479041\n",
      "              precision    recall  f1-score   support\n",
      "\n",
      "           0       0.66      0.85      0.75       160\n",
      "           1       0.71      0.57      0.63        97\n",
      "           2       0.64      0.32      0.43        28\n",
      "           3       0.68      0.60      0.63        89\n",
      "\n",
      "    accuracy                           0.68       374\n",
      "   macro avg       0.68      0.58      0.61       374\n",
      "weighted avg       0.68      0.68      0.67       374\n",
      "\n"
     ]
    }
   ],
   "source": [
    "### WRITE YOUR OWN CODE HERE\n",
    "logistic = LogisticRegression()\n",
    "classifier.fit(X_train, train_labels)\n",
    "\n",
    "y_test_pred = classifier.predict(X_val)\n",
    "\n",
    "\n",
    "acc = accuracy_score(val_labels, y_val_pred)\n",
    "print(f'Accuracy = {acc}')\n",
    "\n",
    "prec = precision_score(val_labels, y_val_pred, average='macro')\n",
    "print(f'Precision (macro average) = {prec}')\n",
    "\n",
    "rec = recall_score(val_labels, y_val_pred, average='macro')\n",
    "print(f'Recall (macro average) = {rec}')\n",
    "\n",
    "f1 = f1_score(val_labels, y_val_pred, average='macro')\n",
    "print(f'F1 score (macro average) = {f1}')\n",
    "\n",
    "# We can get all of these with a per-class breakdown using classification_report:\n",
    "print(classification_report(val_labels, y_val_pred))"
   ]
  },
  {
   "cell_type": "markdown",
   "id": "10316eff",
   "metadata": {},
   "source": [
    "## Hyper tune logistic regression"
   ]
  },
  {
   "cell_type": "code",
   "execution_count": 350,
   "id": "265e1721",
   "metadata": {},
   "outputs": [
    {
     "name": "stdout",
     "output_type": "stream",
     "text": [
      "Fitting 3 folds for each of 15 candidates, totalling 45 fits\n",
      "[CV] END ...............C=0.01, penalty=l2, solver=newton-cg; total time=   0.1s\n",
      "[CV] END ...............C=0.01, penalty=l2, solver=newton-cg; total time=   0.1s\n",
      "[CV] END ...............C=0.01, penalty=l2, solver=newton-cg; total time=   0.1s\n",
      "[CV] END ...................C=0.01, penalty=l2, solver=lbfgs; total time=   0.2s\n",
      "[CV] END ...................C=0.01, penalty=l2, solver=lbfgs; total time=   0.2s\n",
      "[CV] END ...................C=0.01, penalty=l2, solver=lbfgs; total time=   0.2s\n",
      "[CV] END ...............C=0.01, penalty=l2, solver=liblinear; total time=   0.1s\n",
      "[CV] END ...............C=0.01, penalty=l2, solver=liblinear; total time=   0.0s\n",
      "[CV] END ...............C=0.01, penalty=l2, solver=liblinear; total time=   0.0s\n",
      "[CV] END ................C=0.1, penalty=l2, solver=newton-cg; total time=   0.2s\n",
      "[CV] END ................C=0.1, penalty=l2, solver=newton-cg; total time=   0.1s\n",
      "[CV] END ................C=0.1, penalty=l2, solver=newton-cg; total time=   0.2s\n",
      "[CV] END ....................C=0.1, penalty=l2, solver=lbfgs; total time=   0.5s\n",
      "[CV] END ....................C=0.1, penalty=l2, solver=lbfgs; total time=   0.5s\n",
      "[CV] END ....................C=0.1, penalty=l2, solver=lbfgs; total time=   0.4s\n",
      "[CV] END ................C=0.1, penalty=l2, solver=liblinear; total time=   0.1s\n",
      "[CV] END ................C=0.1, penalty=l2, solver=liblinear; total time=   0.1s\n",
      "[CV] END ................C=0.1, penalty=l2, solver=liblinear; total time=   0.1s\n",
      "[CV] END ..................C=1, penalty=l2, solver=newton-cg; total time=   0.3s\n",
      "[CV] END ..................C=1, penalty=l2, solver=newton-cg; total time=   0.2s\n",
      "[CV] END ..................C=1, penalty=l2, solver=newton-cg; total time=   0.2s\n",
      "[CV] END ......................C=1, penalty=l2, solver=lbfgs; total time=   0.6s\n",
      "[CV] END ......................C=1, penalty=l2, solver=lbfgs; total time=   0.6s\n",
      "[CV] END ......................C=1, penalty=l2, solver=lbfgs; total time=   0.7s\n",
      "[CV] END ..................C=1, penalty=l2, solver=liblinear; total time=   0.1s\n",
      "[CV] END ..................C=1, penalty=l2, solver=liblinear; total time=   0.1s\n",
      "[CV] END ..................C=1, penalty=l2, solver=liblinear; total time=   0.1s\n",
      "[CV] END .................C=10, penalty=l2, solver=newton-cg; total time=   0.5s\n",
      "[CV] END .................C=10, penalty=l2, solver=newton-cg; total time=   0.3s\n",
      "[CV] END .................C=10, penalty=l2, solver=newton-cg; total time=   0.3s\n",
      "[CV] END .....................C=10, penalty=l2, solver=lbfgs; total time=   0.6s\n",
      "[CV] END .....................C=10, penalty=l2, solver=lbfgs; total time=   0.6s\n",
      "[CV] END .....................C=10, penalty=l2, solver=lbfgs; total time=   0.7s\n",
      "[CV] END .................C=10, penalty=l2, solver=liblinear; total time=   0.1s\n",
      "[CV] END .................C=10, penalty=l2, solver=liblinear; total time=   0.1s\n",
      "[CV] END .................C=10, penalty=l2, solver=liblinear; total time=   0.1s\n",
      "[CV] END ................C=100, penalty=l2, solver=newton-cg; total time=   0.4s\n",
      "[CV] END ................C=100, penalty=l2, solver=newton-cg; total time=   0.5s\n",
      "[CV] END ................C=100, penalty=l2, solver=newton-cg; total time=   0.3s\n",
      "[CV] END ....................C=100, penalty=l2, solver=lbfgs; total time=   0.4s\n",
      "[CV] END ....................C=100, penalty=l2, solver=lbfgs; total time=   0.4s\n",
      "[CV] END ....................C=100, penalty=l2, solver=lbfgs; total time=   0.5s\n",
      "[CV] END ................C=100, penalty=l2, solver=liblinear; total time=   0.1s\n",
      "[CV] END ................C=100, penalty=l2, solver=liblinear; total time=   0.1s\n",
      "[CV] END ................C=100, penalty=l2, solver=liblinear; total time=   0.1s\n",
      "Best Parameters: {'C': 100, 'penalty': 'l2', 'solver': 'newton-cg'}\n",
      "Best Score: 0.6926666157462806\n"
     ]
    }
   ],
   "source": [
    "from sklearn.model_selection import train_test_split, GridSearchCV\n",
    "\n",
    "LR = LogisticRegression()\n",
    "LRparam_grid = {\n",
    "    'C': [0.01, 0.1, 1, 10, 100],\n",
    "    'penalty': ['l2'],\n",
    "    # 'max_iter': list(range(100,800,100)),\n",
    "    'solver': ['newton-cg', 'lbfgs', 'liblinear']\n",
    "}\n",
    "\n",
    "grid_search = GridSearchCV(LR, LRparam_grid, refit=True, verbose=2, cv=3)\n",
    "\n",
    "# Fit the model\n",
    "grid_search.fit(X_train, train_labels)\n",
    "\n",
    "# Best parameters and score\n",
    "print(\"Best Parameters:\", grid_search.best_params_)\n",
    "print(\"Best Score:\", grid_search.best_score_)\n"
   ]
  },
  {
   "cell_type": "code",
   "execution_count": 351,
   "id": "a7c076b3",
   "metadata": {},
   "outputs": [
    {
     "name": "stdout",
     "output_type": "stream",
     "text": [
      "Accuracy = 0.6622097114707952\n",
      "Precision (macro average) = 0.6258138287619587\n",
      "Recall (macro average) = 0.567679144687884\n",
      "F1 score (macro average) = 0.5803576215348373\n",
      "              precision    recall  f1-score   support\n",
      "\n",
      "           0       0.67      0.81      0.73       558\n",
      "           1       0.69      0.61      0.64       358\n",
      "           2       0.49      0.21      0.30       123\n",
      "           3       0.66      0.64      0.65       382\n",
      "\n",
      "    accuracy                           0.66      1421\n",
      "   macro avg       0.63      0.57      0.58      1421\n",
      "weighted avg       0.65      0.66      0.65      1421\n",
      "\n"
     ]
    }
   ],
   "source": [
    "#Best Parameters: {'C': 10, 'penalty': 'l2', 'solver': 'liblinear'}\n",
    "\n",
    "    \n",
    "y_test_pred = grid_search.predict(X_test)\n",
    "\n",
    "# Evaluate the model\n",
    "acc = accuracy_score(test_labels, y_test_pred)\n",
    "print(f'Accuracy = {acc}')\n",
    "\n",
    "prec = precision_score(test_labels, y_test_pred, average='macro')\n",
    "print(f'Precision (macro average) = {prec}')\n",
    "\n",
    "rec = recall_score(test_labels, y_test_pred, average='macro')\n",
    "print(f'Recall (macro average) = {rec}')\n",
    "\n",
    "f1 = f1_score(test_labels, y_test_pred, average='macro')\n",
    "print(f'F1 score (macro average) = {f1}')\n",
    "\n",
    "# Print a classification report with a per-class breakdown\n",
    "print(classification_report(test_labels, y_test_pred))\n"
   ]
  },
  {
   "cell_type": "code",
   "execution_count": 82,
   "id": "9271220e",
   "metadata": {},
   "outputs": [
    {
     "name": "stdout",
     "output_type": "stream",
     "text": [
      "Review: #Deppression is real. Partners w/ #depressed people truly dont understand the depth in which they affect us. Add in #anxiety &amp;makes it worse; true label = sadness, prediction = anger.\n",
      "Review: What makes you feel #joyful?; true label = joy, prediction = sadness.\n",
      "Review: i am revolting.; true label = anger, prediction = sadness.\n",
      "Review: @user @user #cmbyn does screen  August 4 &amp; 6 at #miff; true label = sadness, prediction = joy.\n",
      "Review: Pressured. 😦; true label = sadness, prediction = anger.\n",
      "Review: @user #shocking loss of talented young man#prayers#pray for his family; true label = sadness, prediction = anger.\n",
      "Review: @user @user Americans do not spank their children, and they are a God fearing people who knows the biggest sin is hypocrisy.; true label = optimism, prediction = anger.\n",
      "Review: Favorite character who's name starts with the letter M?\\n #Prisonbreak5  #The100 #GreysAnatomy; true label = joy, prediction = anger.\n",
      "Review: I'm so nervous I could puke + my body temp is rising ha ha ha ha ha; true label = joy, prediction = sadness.\n",
      "Review: @user Is it just me that thinks it looks boring?; true label = sadness, prediction = anger.\n",
      "Review: ,, The solar eclipse was really cool.. #inspiring!; true label = joy, prediction = sadness.\n",
      "Review: @user @user there was a fair bit of raging folk last night... something to do with pension day?; true label = anger, prediction = sadness.\n",
      "Review: @user No #racism, no #hatred , no #sectarianism  ... Only yes to love; true label = optimism, prediction = anger.\n",
      "Review: sleep is and will always be one of the best remedies for a tired and weary soul; true label = optimism, prediction = sadness.\n",
      "Review: yukwon no video do zico the world is shaking; true label = sadness, prediction = joy.\n",
      "Review: BUT, I have offended so many people with the idea that conflicts and value judgments are separate that we need to have a talk.; true label = optimism, prediction = anger.\n",
      "Review: @user Rumor has you are #wellendowed #awesome! Truth is you are a #big 😲 #notsomuch so you know a bunch of #gaypeople #sowhat; true label = anger, prediction = joy.\n",
      "Review: IK to PMLN: 'Darling, I will haunt you in your nightmares, dressed like a dream.' BEST THING EVER. #GameOverNawaz; true label = joy, prediction = sadness.\n",
      "Review: OMG we're eating drinking in a restaurant and  so is a baby!!! Quell horror #YummyMummiesAU; true label = anger, prediction = joy.\n",
      "Review: hello phy6 i'm stressing over u ayuku na??¿ ☹; true label = sadness, prediction = anger.\n"
     ]
    }
   ],
   "source": [
    "error_indexes = y_test_pred != test_labels  # compare predictions to gold labels\n",
    "\n",
    "# get the text of reviews where the classifier made an error:\n",
    "reviews_err = np.array(test_texts)[error_indexes]\n",
    "\n",
    "# WRITE YOUR CODE HERE\n",
    "pred_err = y_test_pred[error_indexes]\n",
    "gold_err = np.array(test_labels)[error_indexes]\n",
    "\n",
    "for i in range(20):  # just print the first ten\n",
    "    print(f'Review: {reviews_err[i]}; true label = {gold_err[i]}, prediction = {pred_err[i]}.')"
   ]
  },
  {
   "cell_type": "code",
   "execution_count": 164,
   "id": "95e2c7d0",
   "metadata": {},
   "outputs": [],
   "source": [
    "# remove special character also remove emoji - lower score - "
   ]
  },
  {
   "cell_type": "markdown",
   "id": "18061616",
   "metadata": {},
   "source": [
    "## II. Neural network"
   ]
  },
  {
   "cell_type": "code",
   "execution_count": 264,
   "id": "8a15a4d6",
   "metadata": {},
   "outputs": [
    {
     "name": "stdout",
     "output_type": "stream",
     "text": [
      "The autoreload extension is already loaded. To reload it, use:\n",
      "  %reload_ext autoreload\n"
     ]
    }
   ],
   "source": [
    "import numpy as np\n",
    "import torch\n",
    "from datasets import load_dataset\n",
    "from tqdm import tqdm\n",
    "from sklearn.feature_extraction.text import CountVectorizer\n",
    "from gensim.models import word2vec\n",
    "from gensim.utils import tokenize\n",
    "import gensim.downloader\n",
    "import matplotlib.pyplot as plt\n",
    "\n",
    "%load_ext autoreload\n",
    "%autoreload 2"
   ]
  },
  {
   "cell_type": "code",
   "execution_count": 265,
   "id": "2c60a268",
   "metadata": {},
   "outputs": [
    {
     "data": {
      "text/plain": [
       "Dataset({\n",
       "    features: ['text', 'label', 'tokens'],\n",
       "    num_rows: 3257\n",
       "})"
      ]
     },
     "execution_count": 265,
     "metadata": {},
     "output_type": "execute_result"
    }
   ],
   "source": [
    "def tok_text(sample):\n",
    "    sample[\"tokens\"] = list(tokenize(sample['text']))\n",
    "    return sample\n",
    "\n",
    "tok_train_dataset = train_dataset.map(tok_text)\n",
    "\n",
    "tok_train_dataset"
   ]
  },
  {
   "cell_type": "code",
   "execution_count": 266,
   "id": "ba6df5e2",
   "metadata": {},
   "outputs": [
    {
     "name": "stdout",
     "output_type": "stream",
     "text": [
      "Dictionary<9310 unique tokens: ['Joyce', 'Meyer', 'Worry', 'a', 'down']...>\n"
     ]
    }
   ],
   "source": [
    "from gensim.corpora import Dictionary\n",
    "\n",
    "dictionary = Dictionary(tok_train_dataset[\"tokens\"]) # construct word<->id mappings - it does it in alphabetical order\n",
    "print(dictionary)"
   ]
  },
  {
   "cell_type": "code",
   "execution_count": 267,
   "id": "5bfd0668",
   "metadata": {},
   "outputs": [
    {
     "data": {
      "application/vnd.jupyter.widget-view+json": {
       "model_id": "a4007aeb0f884d18b2b5f9f18f11efe9",
       "version_major": 2,
       "version_minor": 0
      },
      "text/plain": [
       "Map:   0%|          | 0/3257 [00:00<?, ? examples/s]"
      ]
     },
     "metadata": {},
     "output_type": "display_data"
    },
    {
     "data": {
      "text/plain": [
       "Dataset({\n",
       "    features: ['text', 'label', 'tokens', 'input_ids'],\n",
       "    num_rows: 3257\n",
       "})"
      ]
     },
     "execution_count": 267,
     "metadata": {},
     "output_type": "execute_result"
    }
   ],
   "source": [
    "# WRITE YOUR CODE HERE\n",
    "\n",
    "# tokenize training set and convert to input IDs.\n",
    "def encode_text(sample):\n",
    "   \n",
    "    input_ids = []\n",
    "    for token in sample[\"tokens\"]:\n",
    "        if token in dictionary.token2id:  # Skip words that are not in the vocabulary.\n",
    "            input_ids.append(dictionary.token2id[token] + 1) \n",
    "            \n",
    "    sample['input_ids'] = input_ids \n",
    "    return sample\n",
    "\n",
    "# The map method of the dataset object takes a function as its argument, \n",
    "# and applies that function to each document in the dataset.\n",
    "pre_train_dataset = tok_train_dataset.map(encode_text)\n",
    "len(pre_train_dataset)  # length of preprocessed training dataset\n",
    "\n",
    "pre_train_dataset"
   ]
  },
  {
   "cell_type": "code",
   "execution_count": 268,
   "id": "0d811fb5",
   "metadata": {
    "scrolled": false
   },
   "outputs": [
    {
     "name": "stdout",
     "output_type": "stream",
     "text": [
      "Mean of the document length: 16.516733190052197\n",
      "Median of the document length: 17.0\n",
      "Maximum document length: 34\n"
     ]
    },
    {
     "data": {
      "text/plain": [
       "(array([120., 257., 400., 519., 404., 481., 620., 337., 105.,  14.]),\n",
       " array([ 1. ,  4.3,  7.6, 10.9, 14.2, 17.5, 20.8, 24.1, 27.4, 30.7, 34. ]),\n",
       " <BarContainer object of 10 artists>)"
      ]
     },
     "execution_count": 268,
     "metadata": {},
     "output_type": "execute_result"
    },
    {
     "data": {
      "image/png": "[encoded data removed]",
      "text/plain": [
       "<Figure size 640x480 with 1 Axes>"
      ]
     },
     "metadata": {},
     "output_type": "display_data"
    }
   ],
   "source": [
    "rv_l = [len(doc) for doc in pre_train_dataset['input_ids']]\n",
    "print('Mean of the document length: {}'.format(np.mean(rv_l)))\n",
    "print('Median of the document length: {}'.format(np.median(rv_l)))\n",
    "print('Maximum document length: {}'.format(np.max(rv_l)))\n",
    "\n",
    "plt.hist(rv_l)"
   ]
  },
  {
   "cell_type": "code",
   "execution_count": 269,
   "id": "ed27bbb6",
   "metadata": {},
   "outputs": [
    {
     "data": {
      "application/vnd.jupyter.widget-view+json": {
       "model_id": "2d6565cd75ea4c608b6a80dbdac25330",
       "version_major": 2,
       "version_minor": 0
      },
      "text/plain": [
       "Map:   0%|          | 0/3257 [00:00<?, ? examples/s]"
      ]
     },
     "metadata": {},
     "output_type": "display_data"
    }
   ],
   "source": [
    "sequence_length = 20  # truncate all docs longer than this. Pad all docs shorter than this.\n",
    "\n",
    "def pad_text(sample):\n",
    "    ###WRITE YOUR OWN CODE HERE\n",
    "\n",
    "    if len(sample['input_ids']) >= sequence_length:\n",
    "        sample['input_ids'] = sample['input_ids'][:sequence_length]\n",
    "    else:\n",
    "        sample['input_ids'] = [0]*(sequence_length-len(sample['input_ids'])) + sample['input_ids']\n",
    "    ##########\n",
    "    return sample\n",
    "\n",
    "# The map method will call pad_text for every document in the dataset\n",
    "pad_train_dataset = pre_train_dataset.map(pad_text)"
   ]
  },
  {
   "cell_type": "code",
   "execution_count": 270,
   "id": "c7a3667f",
   "metadata": {},
   "outputs": [],
   "source": [
    "from torch.utils.data import DataLoader, TensorDataset\n",
    "\n",
    "batch_size = 64\n",
    "\n",
    "# convert from the Huggingface format to a TensorDataset so we can use the mini-batch sampling functionality\n",
    "def convert_to_data_loader(dataset, num_classes):\n",
    "    # convert from list to tensor\n",
    "    input_tensor = torch.from_numpy(np.array(dataset['input_ids']))\n",
    "    label_tensor = torch.from_numpy(np.array(dataset['label'])).long()\n",
    "    tensor_dataset = TensorDataset(input_tensor, label_tensor)\n",
    "    loader = DataLoader(tensor_dataset, batch_size=batch_size, shuffle=True)\n",
    "\n",
    "    return loader\n",
    "\n",
    "num_classes = len(np.unique(pad_train_dataset[\"label\"]))   # number of possible labels \n",
    "\n",
    "train_loader = convert_to_data_loader(pad_train_dataset, num_classes)\n"
   ]
  },
  {
   "cell_type": "code",
   "execution_count": 353,
   "id": "0f765fbf",
   "metadata": {},
   "outputs": [],
   "source": [
    "pre_dev_dataset = val_dataset.map(tok_text).map(encode_text)\n",
    "pad_dev_dataset = pre_dev_dataset.map(pad_text)\n",
    "dev_loader = convert_to_data_loader(pad_dev_dataset, num_classes)\n",
    "\n",
    "pre_test_dataset = test_dataset.map(tok_text).map(encode_text)\n",
    "pad_test_dataset = pre_test_dataset.map(pad_text)\n",
    "test_loader = convert_to_data_loader(pad_test_dataset, num_classes)\n"
   ]
  },
  {
   "cell_type": "markdown",
   "id": "f14b8531",
   "metadata": {},
   "source": [
    "## Building neural network:"
   ]
  },
  {
   "cell_type": "code",
   "execution_count": 354,
   "id": "79349277",
   "metadata": {},
   "outputs": [],
   "source": [
    "from torch import nn\n",
    "\n",
    "class FFTextClassifier(nn.Module):\n",
    "    \n",
    "    def __init__(self, vocab_size, sequence_length, embedding_size, hidden_size, num_classes):\n",
    "        super(FFTextClassifier, self).__init__()\n",
    "\n",
    "        self.embedding_size = embedding_size\n",
    "\n",
    "        # Here we just need to construct the components of our network. We don't need to connect them together yet.\n",
    "        self.embedding_layer = nn.Embedding(vocab_size, embedding_size) # embedding layer\n",
    "        \n",
    "        ### COMPLETE THE CODE HERE: WRITE IN THE MISSING ARGUMENTS SPECIFYING THE DIMENSIONS OF EACH LAYER\n",
    "        self.hidden_layer = nn.Linear(embedding_size*sequence_length, hidden_size) # Fully connected hidden layer\n",
    "        self.activation = nn.ReLU() # Hidden layer\n",
    "        ##########\n",
    "        \n",
    "        self.output_layer = nn.Linear(hidden_size, num_classes) # Fully connected output layer\n",
    "\n",
    "        \n",
    "        \n",
    "    def forward (self, input_words):\n",
    "        # Input dimensions are:  (batch_size, seq_length)\n",
    "        embedded_words = self.embedding_layer(input_words)  # (batch_size, seq_length, embedding_size)\n",
    "\n",
    "        # flatten the sequence of embedding vectors for each document into a single vector.\n",
    "        embedded_words = embedded_words.reshape(embedded_words.shape[0], sequence_length*self.embedding_size)  # batch_size, seq_length*embedding_size\n",
    "\n",
    "        z = self.hidden_layer(embedded_words)   # (batch_size, hidden_size)\n",
    "        \n",
    "        ### ADD THE MISSING LINE HERE\n",
    "        h = self.activation(z)                  # (batch_size, hidden_size)\n",
    "        ########\n",
    "\n",
    "        output = self.output_layer(h)                      # (batch_size, num_classes)\n",
    "\n",
    "        # Notice we haven't applied a softmax activation to the output layer -- it's not required by Pytorch's loss function.\n",
    "\n",
    "        return output"
   ]
  },
  {
   "cell_type": "code",
   "execution_count": 355,
   "id": "32bb8a33",
   "metadata": {},
   "outputs": [],
   "source": [
    "vocab_size = len(dictionary) + 1  # add one for the padding tokens\n",
    "embedding_size = 25  # number of dimensions for embeddings\n",
    "hidden_size = 16 # number of hidden units\n",
    "\n",
    "\n",
    "###WRITE YOUR OWN CODE HERE\n",
    "ff_classifier_model = FFTextClassifier(vocab_size, sequence_length, embedding_size, hidden_size, num_classes)"
   ]
  },
  {
   "cell_type": "code",
   "execution_count": 356,
   "id": "a2abd9cb",
   "metadata": {},
   "outputs": [],
   "source": [
    "from torch import optim\n",
    "\n",
    "def train_nn(num_epochs, model, train_dataloader, dev_dataloader):\n",
    "    \n",
    "    learning_rate = 0.0005  # learning rate for the gradient descent optimizer, related to the step size\n",
    "\n",
    "    loss_fn = nn.CrossEntropyLoss()  # create loss function object\n",
    "    optimizer = optim.Adam(model.parameters(), lr=learning_rate)  # create the optimizer\n",
    "    \n",
    "    all_train_losses = []\n",
    "    all_dev_losses = []\n",
    "    \n",
    "    for e in range(num_epochs):\n",
    "        # Track performance on the training set as we are learning...\n",
    "        total_correct = 0\n",
    "        total_trained = 0\n",
    "        train_losses = []\n",
    "\n",
    "        model.train()  # Put the model in training mode.\n",
    "\n",
    "        for i, (batch_input_ids, batch_labels) in enumerate(train_dataloader):\n",
    "            # Iterate over each batch of data\n",
    "            # print(f'batch no. = {i}')\n",
    "\n",
    "            optimizer.zero_grad()  # Reset the optimizer\n",
    "\n",
    "            # Use the model to perform forward inference on the input data.\n",
    "            # This will run the forward() function.\n",
    "            output = model(batch_input_ids)\n",
    "\n",
    "            # Compute the loss for the current batch of data\n",
    "            batch_loss = loss_fn(output, batch_labels)\n",
    "\n",
    "            # Perform back propagation to compute the gradients with respect to each weight\n",
    "            batch_loss.backward()\n",
    "\n",
    "            # Update the weights using the compute gradients\n",
    "            optimizer.step()\n",
    "\n",
    "            # Record the loss from this sample to keep track of progress.\n",
    "            train_losses.append(batch_loss.item())\n",
    "\n",
    "            # Count correct labels so we can compute accuracy on the training set\n",
    "            predicted_labels = output.argmax(1)\n",
    "            total_correct += (predicted_labels == batch_labels).sum().item()\n",
    "            total_trained += batch_labels.size(0)\n",
    "\n",
    "        train_accuracy = total_correct/total_trained*100\n",
    "\n",
    "        print(\"Epoch: {}/{}\".format((e+1), num_epochs),\n",
    "              \"Training Loss: {:.4f}\".format(np.mean(train_losses)),\n",
    "              \"Training Accuracy: {:.4f}%\".format(train_accuracy))\n",
    "        \n",
    "        ### ANSWER CODE HERE\n",
    "        all_train_losses.append(np.mean(train_losses))\n",
    "        ###\n",
    "        \n",
    "        model.eval()  # Switch model to evaluation mode - turn off any random steps such as dropout\n",
    "        total_correct = 0\n",
    "        total_trained = 0\n",
    "        dev_losses = []\n",
    "\n",
    "        for dev_input_ids, dev_labels in dev_dataloader:\n",
    "            ### ANSWER CODE HERE\n",
    "            dev_output = model(dev_input_ids)\n",
    "            dev_loss = loss_fn(dev_output, dev_labels)\n",
    "            \n",
    "            # Save the loss on the dev set\n",
    "            dev_losses.append(dev_loss.item())\n",
    "            #######\n",
    "            \n",
    "            # Count the number of correct predictions\n",
    "            predicted_labels = dev_output.argmax(1)\n",
    "            total_correct += (predicted_labels == dev_labels).sum().item()\n",
    "            total_trained += dev_labels.size(0)\n",
    "            \n",
    "        dev_accuracy = total_correct/total_trained*100\n",
    "        \n",
    "        ### ANSWER CODE HERE\n",
    "        all_dev_losses.append(np.mean(dev_losses))\n",
    "        ###\n",
    "        \n",
    "        print(\"Epoch: {}/{}\".format((e+1), num_epochs),\n",
    "              \"Validation Loss: {:.4f}\".format(np.mean(dev_losses)),\n",
    "              \"Validation Accuracy: {:.4f}%\".format(dev_accuracy))\n",
    "\n",
    "    ### ANSWER CODE HERE\n",
    "    return model, all_train_losses, all_dev_losses"
   ]
  },
  {
   "cell_type": "code",
   "execution_count": 357,
   "id": "993e1784",
   "metadata": {
    "scrolled": false
   },
   "outputs": [
    {
     "name": "stdout",
     "output_type": "stream",
     "text": [
      "Epoch: 1/15 Training Loss: 1.3370 Training Accuracy: 37.8262%\n",
      "Epoch: 1/15 Validation Loss: 1.2825 Validation Accuracy: 41.1765%\n",
      "Epoch: 2/15 Training Loss: 1.2546 Training Accuracy: 43.7519%\n",
      "Epoch: 2/15 Validation Loss: 1.2587 Validation Accuracy: 40.9091%\n",
      "Epoch: 3/15 Training Loss: 1.2063 Training Accuracy: 46.0239%\n",
      "Epoch: 3/15 Validation Loss: 1.2511 Validation Accuracy: 39.8396%\n",
      "Epoch: 4/15 Training Loss: 1.1636 Training Accuracy: 48.4802%\n",
      "Epoch: 4/15 Validation Loss: 1.2594 Validation Accuracy: 39.8396%\n",
      "Epoch: 5/15 Training Loss: 1.1206 Training Accuracy: 51.9804%\n",
      "Epoch: 5/15 Validation Loss: 1.2471 Validation Accuracy: 42.2460%\n",
      "Epoch: 6/15 Training Loss: 1.0788 Training Accuracy: 54.7743%\n",
      "Epoch: 6/15 Validation Loss: 1.2498 Validation Accuracy: 42.5134%\n",
      "Epoch: 7/15 Training Loss: 1.0329 Training Accuracy: 58.0903%\n",
      "Epoch: 7/15 Validation Loss: 1.2997 Validation Accuracy: 39.3048%\n",
      "Epoch: 8/15 Training Loss: 0.9892 Training Accuracy: 60.2395%\n",
      "Epoch: 8/15 Validation Loss: 1.2731 Validation Accuracy: 43.8503%\n",
      "Epoch: 9/15 Training Loss: 0.9400 Training Accuracy: 63.4633%\n",
      "Epoch: 9/15 Validation Loss: 1.2886 Validation Accuracy: 43.5829%\n",
      "Epoch: 10/15 Training Loss: 0.8904 Training Accuracy: 66.2573%\n",
      "Epoch: 10/15 Validation Loss: 1.3202 Validation Accuracy: 42.7807%\n",
      "Epoch: 11/15 Training Loss: 0.8428 Training Accuracy: 68.7442%\n",
      "Epoch: 11/15 Validation Loss: 1.3319 Validation Accuracy: 42.5134%\n",
      "Epoch: 12/15 Training Loss: 0.7951 Training Accuracy: 71.3233%\n",
      "Epoch: 12/15 Validation Loss: 1.3512 Validation Accuracy: 41.1765%\n",
      "Epoch: 13/15 Training Loss: 0.7489 Training Accuracy: 73.9638%\n",
      "Epoch: 13/15 Validation Loss: 1.3939 Validation Accuracy: 39.8396%\n",
      "Epoch: 14/15 Training Loss: 0.7031 Training Accuracy: 76.3586%\n",
      "Epoch: 14/15 Validation Loss: 1.4025 Validation Accuracy: 38.7701%\n",
      "Epoch: 15/15 Training Loss: 0.6608 Training Accuracy: 77.5560%\n",
      "Epoch: 15/15 Validation Loss: 1.4236 Validation Accuracy: 40.9091%\n"
     ]
    },
    {
     "data": {
      "text/plain": [
       "Text(0, 0.5, 'loss')"
      ]
     },
     "execution_count": 357,
     "metadata": {},
     "output_type": "execute_result"
    },
    {
     "data": {
      "image/png": "[encoded data removed]",
      "text/plain": [
       "<Figure size 640x480 with 1 Axes>"
      ]
     },
     "metadata": {},
     "output_type": "display_data"
    }
   ],
   "source": [
    "import matplotlib.pyplot as plt\n",
    "\n",
    "num_epochs = 15\n",
    "\n",
    "plt.figure()\n",
    "\n",
    "###WRITE YOUR OWN CODE HERE\n",
    "\n",
    "trained_model, train_losses, dev_losses = train_nn(num_epochs, ff_classifier_model, train_loader, dev_loader)\n",
    "plt.plot(train_losses, label='train')\n",
    "plt.plot(dev_losses, label='dev')\n",
    "\n",
    "\n",
    "####\n",
    "\n",
    "plt.xlabel('epochs')\n",
    "plt.ylabel('loss')"
   ]
  },
  {
   "cell_type": "code",
   "execution_count": 389,
   "id": "8f4d5a4e",
   "metadata": {},
   "outputs": [],
   "source": [
    "def predict_nn(trained_model, test_loader):\n",
    "\n",
    "    trained_model.eval()  # switch off some randomisation used during training (dropout) to give consistent predictions\n",
    "\n",
    "    correct = 0  # count the number of correct classification labels\n",
    "\n",
    "    gold_labs = []  # gold labels to return\n",
    "    pred_labs = []  # predicted labels to return\n",
    "    \n",
    "    for inputs, labels in test_loader:\n",
    "        test_output = trained_model(inputs)  # run the forward() function on the inputs\n",
    "        predicted_labels = test_output.argmax(1)  # select the class labels with highest logits as our predictions\n",
    "\n",
    "        gold_labs.extend(labels.tolist())\n",
    "        pred_labs.extend(predicted_labels.tolist())\n",
    "    \n",
    "    return gold_labs, pred_labs\n",
    "\n",
    "gold_labs, pred_labs = predict_nn(trained_model, test_loader)"
   ]
  },
  {
   "cell_type": "code",
   "execution_count": 359,
   "id": "278b19ba",
   "metadata": {
    "scrolled": true
   },
   "outputs": [
    {
     "name": "stdout",
     "output_type": "stream",
     "text": [
      "              precision    recall  f1-score   support\n",
      "\n",
      "           0       0.44      0.59      0.50       558\n",
      "           1       0.34      0.29      0.31       358\n",
      "           2       0.17      0.06      0.09       123\n",
      "           3       0.32      0.27      0.29       382\n",
      "\n",
      "    accuracy                           0.38      1421\n",
      "   macro avg       0.32      0.30      0.30      1421\n",
      "weighted avg       0.36      0.38      0.36      1421\n",
      "\n"
     ]
    }
   ],
   "source": [
    "from sklearn.metrics import classification_report \n",
    "print(classification_report(gold_labs, pred_labs))"
   ]
  },
  {
   "cell_type": "code",
   "execution_count": 278,
   "id": "ea9c2fe6",
   "metadata": {},
   "outputs": [],
   "source": [
    "import gensim.downloader\n",
    "\n",
    "# download the word embeddings from Gensim\n",
    "glove_wv = gensim.downloader.load('glove-twitter-25')"
   ]
  },
  {
   "cell_type": "code",
   "execution_count": 360,
   "id": "79e988ed",
   "metadata": {},
   "outputs": [
    {
     "name": "stdout",
     "output_type": "stream",
     "text": [
      "tensor([[ 0.0000,  0.0000,  0.0000,  ...,  0.0000,  0.0000,  0.0000],\n",
      "        [ 0.0000,  0.0000,  0.0000,  ...,  0.0000,  0.0000,  0.0000],\n",
      "        [ 0.0000,  0.0000,  0.0000,  ...,  0.0000,  0.0000,  0.0000],\n",
      "        ...,\n",
      "        [-0.4831, -0.4425, -0.5137,  ..., -0.4892, -0.4521, -1.3758],\n",
      "        [ 0.0000,  0.0000,  0.0000,  ...,  0.0000,  0.0000,  0.0000],\n",
      "        [ 0.0000,  0.0000,  0.0000,  ...,  0.0000,  0.0000,  0.0000]])\n",
      "6170\n"
     ]
    }
   ],
   "source": [
    "embedding_matrix = torch.zeros((vocab_size, glove_wv.vector_size))\n",
    "\n",
    "glove_wv.vectors\n",
    "\n",
    "count = 0\n",
    "\n",
    "for word in glove_wv.index_to_key:\n",
    "    if word in dictionary.token2id:\n",
    "        word_idx = dictionary.token2id[word]\n",
    "    \n",
    "        embedding_matrix[word_idx, :] = torch.from_numpy(glove_wv[word])\n",
    "        count +=1 \n",
    "        \n",
    "print(embedding_matrix)\n",
    "print(count)"
   ]
  },
  {
   "cell_type": "markdown",
   "id": "72d5c71c",
   "metadata": {},
   "source": [
    "## FFTextClassifierWithEmbeddings"
   ]
  },
  {
   "cell_type": "code",
   "execution_count": 361,
   "id": "4d1b25e7",
   "metadata": {},
   "outputs": [],
   "source": [
    "class FFTextClassifierWithEmbeddings(FFTextClassifier):\n",
    "\n",
    "    def __init__(self, hidden_size, sequence_length, num_classes, embedding_matrix):\n",
    "        super(FFTextClassifier, self).__init__()\n",
    "\n",
    "        self.embedding_size = embedding_matrix.shape[1] \n",
    "\n",
    "        # Here we just need to construct the components of our network. We don't need to connect them together yet.\n",
    "        self.embedding_layer = nn.Embedding.from_pretrained(embedding_matrix, freeze=False) # embedding layer\n",
    "\n",
    "        ### COMPLETE THE ARGUMENTS TO SPECIFY THE DIMENSIONS OF THE LAYERS\n",
    "        self.hidden_layer = nn.Linear(self.embedding_size*sequence_length, hidden_size) # Hidden layer\n",
    "        self.activation = nn.ReLU() # Hidden layer\n",
    "        self.output_layer = nn.Linear(hidden_size, num_classes) # Full connection layer"
   ]
  },
  {
   "cell_type": "code",
   "execution_count": 362,
   "id": "f87191c4",
   "metadata": {},
   "outputs": [
    {
     "name": "stdout",
     "output_type": "stream",
     "text": [
      "Epoch: 1/8 Training Loss: 1.3132 Training Accuracy: 40.2211%\n",
      "Epoch: 1/8 Validation Loss: 1.2923 Validation Accuracy: 42.2460%\n",
      "Epoch: 2/8 Training Loss: 1.2549 Training Accuracy: 43.9054%\n",
      "Epoch: 2/8 Validation Loss: 1.2716 Validation Accuracy: 42.5134%\n",
      "Epoch: 3/8 Training Loss: 1.2218 Training Accuracy: 45.2871%\n",
      "Epoch: 3/8 Validation Loss: 1.2586 Validation Accuracy: 42.7807%\n",
      "Epoch: 4/8 Training Loss: 1.1855 Training Accuracy: 47.6205%\n",
      "Epoch: 4/8 Validation Loss: 1.2509 Validation Accuracy: 43.3155%\n",
      "Epoch: 5/8 Training Loss: 1.1437 Training Accuracy: 50.7522%\n",
      "Epoch: 5/8 Validation Loss: 1.2398 Validation Accuracy: 41.7112%\n",
      "Epoch: 6/8 Training Loss: 1.0933 Training Accuracy: 55.4191%\n",
      "Epoch: 6/8 Validation Loss: 1.2449 Validation Accuracy: 43.0481%\n",
      "Epoch: 7/8 Training Loss: 1.0380 Training Accuracy: 58.4280%\n",
      "Epoch: 7/8 Validation Loss: 1.2396 Validation Accuracy: 40.9091%\n",
      "Epoch: 8/8 Training Loss: 0.9783 Training Accuracy: 62.1431%\n",
      "Epoch: 8/8 Validation Loss: 1.2461 Validation Accuracy: 40.6417%\n"
     ]
    }
   ],
   "source": [
    "### COMPLETE THE CODE BELOW\n",
    "ff_emb_model = FFTextClassifierWithEmbeddings(hidden_size, sequence_length, num_classes, embedding_matrix)\n",
    "trained_emb_model, _, _ = train_nn(8, ff_emb_model, train_loader, dev_loader)\n",
    "gold_labs_emb, pred_labs_emb = predict_nn(trained_emb_model, test_loader)"
   ]
  },
  {
   "cell_type": "code",
   "execution_count": 363,
   "id": "28a16e32",
   "metadata": {
    "scrolled": true
   },
   "outputs": [
    {
     "name": "stdout",
     "output_type": "stream",
     "text": [
      "Random embedding intialisation: 0.29832968747310507\n",
      "Frozen pretrained GloVe embeddings: 0.30391284029870136\n"
     ]
    }
   ],
   "source": [
    "from sklearn.metrics import f1_score\n",
    "\n",
    "# Evaluate the models using F1 score\n",
    "print(f'Random embedding intialisation: {f1_score(gold_labs, pred_labs, average=\"macro\")}')\n",
    "print(f'Frozen pretrained GloVe embeddings: {f1_score(gold_labs_emb, pred_labs_emb, average=\"macro\")}')\n",
    "\n",
    "# note that gold_labs_emb and gold_labs are different -- the dataset gets shuffled each time we iterate using the data loader. "
   ]
  },
  {
   "cell_type": "markdown",
   "id": "59688f98",
   "metadata": {},
   "source": [
    "## LSTMTextClassifierWithEmbeddings"
   ]
  },
  {
   "cell_type": "code",
   "execution_count": 364,
   "id": "14d07cd5",
   "metadata": {},
   "outputs": [
    {
     "name": "stdout",
     "output_type": "stream",
     "text": [
      "Epoch: 1/8 Training Loss: 1.3182 Training Accuracy: 42.9843%\n",
      "Epoch: 1/8 Validation Loss: 1.2982 Validation Accuracy: 42.7807%\n",
      "Epoch: 2/8 Training Loss: 1.2726 Training Accuracy: 42.9843%\n",
      "Epoch: 2/8 Validation Loss: 1.2623 Validation Accuracy: 42.7807%\n",
      "Epoch: 3/8 Training Loss: 1.2438 Training Accuracy: 42.9843%\n",
      "Epoch: 3/8 Validation Loss: 1.2467 Validation Accuracy: 42.7807%\n",
      "Epoch: 4/8 Training Loss: 1.2239 Training Accuracy: 42.9843%\n",
      "Epoch: 4/8 Validation Loss: 1.2356 Validation Accuracy: 42.7807%\n",
      "Epoch: 5/8 Training Loss: 1.1923 Training Accuracy: 43.3528%\n",
      "Epoch: 5/8 Validation Loss: 1.2141 Validation Accuracy: 42.5134%\n",
      "Epoch: 6/8 Training Loss: 1.1406 Training Accuracy: 48.5723%\n",
      "Epoch: 6/8 Validation Loss: 1.1846 Validation Accuracy: 44.9198%\n",
      "Epoch: 7/8 Training Loss: 1.0822 Training Accuracy: 55.7568%\n",
      "Epoch: 7/8 Validation Loss: 1.1738 Validation Accuracy: 46.7914%\n",
      "Epoch: 8/8 Training Loss: 1.0147 Training Accuracy: 61.2527%\n",
      "Epoch: 8/8 Validation Loss: 1.1695 Validation Accuracy: 47.8610%\n"
     ]
    }
   ],
   "source": [
    "class LSTMTextClassifierWithEmbeddings(FFTextClassifier):\n",
    "\n",
    "    def __init__(self, hidden_size, sequence_length, num_classes, embedding_matrix):\n",
    "        super(FFTextClassifier, self).__init__()\n",
    "\n",
    "        self.embedding_size = embedding_matrix.shape[1] \n",
    "\n",
    "        # Here we just need to construct the components of our network. We don't need to connect them together yet.\n",
    "        self.embedding_layer = nn.Embedding.from_pretrained(embedding_matrix, freeze=False)\n",
    "\n",
    "        self.hidden_layer = nn.LSTM(self.embedding_size, hidden_size, bidirectional=True, batch_first=True)\n",
    "        \n",
    "        ### COMPLETE THE ARGUMENTS TO SPECIFY THE DIMENSIONS OF THE LAYERS\n",
    "        self.activation = nn.ReLU() # Hidden layer\n",
    "        self.output_layer = nn.Linear(2*hidden_size, num_classes) # Full connection layer\n",
    "\n",
    "    def forward (self, input_words):\n",
    "        # Input dimensions are:  (batch_size, seq_length)\n",
    "        embedded_words = self.embedding_layer(input_words)  # (batch_size, seq_length, embedding_size)\n",
    "\n",
    "        # flatten the sequence of embedding vectors for each document into a single vector.\n",
    "        # embedded_words = embedded_words.reshape(embedded_words.shape[0], sequence_length*self.embedding_size)  # batch_size, seq_length*embedding_size\n",
    "        _, (z, _) = self.hidden_layer(embedded_words)   # (2, batch_size, hidden_size)\n",
    "        z = z.swapaxes(0, 1).flatten(1)\n",
    "        \n",
    "        ### ADD THE MISSING LINE HERE\n",
    "        h = self.activation(z)                  # (batch_size, 2*hidden_size)\n",
    "        ########\n",
    "        \n",
    "        output = self.output_layer(h)                      # (batch_size, num_classes)\n",
    "\n",
    "        # Notice we haven't applied a softmax activation to the output layer -- it's not required by Pytorch's loss function.\n",
    "\n",
    "        return output\n",
    "\n",
    "# WRITE YOUR CODE HERE TO TEST THE LSTM CLASSIFIER\n",
    "lstm_emb_model = LSTMTextClassifierWithEmbeddings(hidden_size, sequence_length, num_classes, embedding_matrix)\n",
    "trained_emb_model, _, _ = train_nn(8, lstm_emb_model, train_loader, dev_loader)\n",
    "gold_labs, pred_labs_lstm = predict_nn(trained_emb_model, test_loader)"
   ]
  },
  {
   "cell_type": "code",
   "execution_count": 367,
   "id": "1d9fff63",
   "metadata": {},
   "outputs": [
    {
     "name": "stdout",
     "output_type": "stream",
     "text": [
      "LSTM + Pretrained GloVe embeddings: 0.34739613210943576\n"
     ]
    }
   ],
   "source": [
    "from sklearn.metrics import f1_score\n",
    "print(f'LSTM + Pretrained GloVe embeddings: {f1_score(gold_labs, pred_labs_lstm, average=\"macro\")}')"
   ]
  },
  {
   "cell_type": "markdown",
   "id": "b8ca897f",
   "metadata": {},
   "source": [
    "## Improve Neural Network by adding new layer"
   ]
  },
  {
   "cell_type": "code",
   "execution_count": 382,
   "id": "437570f3",
   "metadata": {},
   "outputs": [],
   "source": [
    "from torch import nn\n",
    "\n",
    "class FFTextClassifier(nn.Module):\n",
    "    \n",
    "    def __init__(self, vocab_size, sequence_length, embedding_size, hidden_size1, hidden_size2, num_classes):\n",
    "        super(FFTextClassifier, self).__init__()\n",
    "\n",
    "        self.embedding_size = embedding_size\n",
    "\n",
    "        # Embedding layer\n",
    "        self.embedding_layer = nn.Embedding(vocab_size, embedding_size)\n",
    "        \n",
    "        # First hidden layer\n",
    "        self.hidden_layer1 = nn.Linear(embedding_size * sequence_length, hidden_size1)\n",
    "        \n",
    "        # Second hidden layer with different size\n",
    "        self.hidden_layer2 = nn.Linear(hidden_size1, hidden_size2)\n",
    "        \n",
    "        # Activation function\n",
    "        self.activation = nn.ReLU()\n",
    "        \n",
    "        # Output layer\n",
    "        self.output_layer = nn.Linear(hidden_size2, num_classes)\n",
    "\n",
    "    def forward(self, input_words):\n",
    "        # Input dimensions are: (batch_size, seq_length)\n",
    "        embedded_words = self.embedding_layer(input_words)  # (batch_size, seq_length, embedding_size)\n",
    "\n",
    "        # Flatten the sequence of embedding vectors for each document into a single vector.\n",
    "        embedded_words = embedded_words.reshape(embedded_words.shape[0], -1)  # (batch_size, seq_length*embedding_size)\n",
    "\n",
    "        # Pass through the first hidden layer and activation\n",
    "        z1 = self.hidden_layer1(embedded_words)  # (batch_size, hidden_size1)\n",
    "        h1 = self.activation(z1)                 # (batch_size, hidden_size1)\n",
    "        \n",
    "        # Pass through the second hidden layer and activation\n",
    "        z2 = self.hidden_layer2(h1)              # (batch_size, hidden_size2)\n",
    "        h2 = self.activation(z2)                 # (batch_size, hidden_size2)\n",
    "\n",
    "        # Output layer\n",
    "        output = self.output_layer(h2)           # (batch_size, num_classes)\n",
    "\n",
    "        # No need to apply softmax here, as it's handled by the loss function\n",
    "        return output\n"
   ]
  },
  {
   "cell_type": "code",
   "execution_count": 381,
   "id": "081c96a6",
   "metadata": {},
   "outputs": [
    {
     "name": "stdout",
     "output_type": "stream",
     "text": [
      "Epoch: 1/8 Training Loss: 1.3231 Training Accuracy: 38.7473%\n",
      "Epoch: 1/8 Validation Loss: 1.2726 Validation Accuracy: 42.5134%\n",
      "Epoch: 2/8 Training Loss: 1.2258 Training Accuracy: 44.0589%\n",
      "Epoch: 2/8 Validation Loss: 1.2462 Validation Accuracy: 43.8503%\n",
      "Epoch: 3/8 Training Loss: 1.1609 Training Accuracy: 47.6819%\n",
      "Epoch: 3/8 Validation Loss: 1.2429 Validation Accuracy: 43.3155%\n",
      "Epoch: 4/8 Training Loss: 1.0823 Training Accuracy: 52.4409%\n",
      "Epoch: 4/8 Validation Loss: 1.2528 Validation Accuracy: 40.1070%\n",
      "Epoch: 5/8 Training Loss: 0.9897 Training Accuracy: 59.4719%\n",
      "Epoch: 5/8 Validation Loss: 1.2629 Validation Accuracy: 40.1070%\n",
      "Epoch: 6/8 Training Loss: 0.8688 Training Accuracy: 66.6871%\n",
      "Epoch: 6/8 Validation Loss: 1.3316 Validation Accuracy: 38.2353%\n",
      "Epoch: 7/8 Training Loss: 0.7491 Training Accuracy: 72.5514%\n",
      "Epoch: 7/8 Validation Loss: 1.3518 Validation Accuracy: 41.4439%\n",
      "Epoch: 8/8 Training Loss: 0.6168 Training Accuracy: 79.3675%\n",
      "Epoch: 8/8 Validation Loss: 1.4643 Validation Accuracy: 41.9786%\n"
     ]
    }
   ],
   "source": [
    "hidden_size1 = 64\n",
    "hidden_size2 = 32\n",
    "\n",
    "### COMPLETE THE CODE BELOW\n",
    "twolayer_ff_model = FFTextClassifier(len(dictionary) + 1, sequence_length, glove_wv.vector_size, hidden_size1, hidden_size2, num_classes)\n",
    "trained_2layer_model, _, _ = train_nn(8, twolayer_ff_model, train_loader, dev_loader)\n",
    "gold_labs_imp, pred_labs_imp = predict_nn(trained_2layer_model, test_loader)"
   ]
  },
  {
   "cell_type": "code",
   "execution_count": 384,
   "id": "e3937e1b",
   "metadata": {},
   "outputs": [
    {
     "name": "stdout",
     "output_type": "stream",
     "text": [
      "Two layer random embedding: 0.3153113825895208\n"
     ]
    }
   ],
   "source": [
    "from sklearn.metrics import f1_score\n",
    "print(f'Two layer random embedding: {f1_score(gold_labs_imp, pred_labs_imp, average=\"macro\")}')"
   ]
  },
  {
   "cell_type": "markdown",
   "id": "920e7d30",
   "metadata": {},
   "source": [
    "## Two hidden layer with glove embedding"
   ]
  },
  {
   "cell_type": "code",
   "execution_count": 285,
   "id": "a150aa82",
   "metadata": {},
   "outputs": [],
   "source": [
    "class ImprovedFFTextClassifier(nn.Module):\n",
    "    def __init__(self, vocab_size, sequence_length, embedding_size, hidden_size1, hidden_size2, num_classes):\n",
    "        super(ImprovedFFTextClassifier, self).__init__()\n",
    "        self.embedding_size = embedding_matrix.shape[1] \n",
    "        self.sequence_length = sequence_length\n",
    "\n",
    "        # Define layers\n",
    "        self.embedding_layer = nn.Embedding(vocab_size, embedding_size)\n",
    "        self.embedding_layer = nn.Embedding.from_pretrained(embedding_matrix, freeze=False) # embedding layer\n",
    "\n",
    "        self.hidden_layer1 = nn.Linear(embedding_size * sequence_length, hidden_size1)\n",
    "        self.hidden_layer2 = nn.Linear(hidden_size1, hidden_size2)\n",
    "        self.activation = nn.ReLU()\n",
    "        self.output_layer = nn.Linear(hidden_size2, num_classes)\n",
    "\n",
    "    def forward(self, input_words):\n",
    "        embedded_words = self.embedding_layer(input_words)  # (batch_size, seq_length, embedding_size)\n",
    "        embedded_words = embedded_words.view(embedded_words.shape[0], -1)  # Flatten to (batch_size, seq_length * embedding_size)\n",
    "        z1 = self.hidden_layer1(embedded_words)  # (batch_size, hidden_size1)\n",
    "        h1 = self.activation(z1)  # Apply activation\n",
    "        z2 = self.hidden_layer2(h1)  # (batch_size, hidden_size2)\n",
    "        h2 = self.activation(z2)  # Apply activation\n",
    "        output = self.output_layer(h2)  # (batch_size, num_classes)\n",
    "        return output"
   ]
  },
  {
   "cell_type": "code",
   "execution_count": 368,
   "id": "10b8638d",
   "metadata": {},
   "outputs": [
    {
     "name": "stdout",
     "output_type": "stream",
     "text": [
      "Epoch: 1/8 Training Loss: 1.2623 Training Accuracy: 42.1247%\n",
      "Epoch: 1/8 Validation Loss: 1.2364 Validation Accuracy: 42.7807%\n",
      "Epoch: 2/8 Training Loss: 1.1563 Training Accuracy: 45.4406%\n",
      "Epoch: 2/8 Validation Loss: 1.1817 Validation Accuracy: 45.1872%\n",
      "Epoch: 3/8 Training Loss: 0.9665 Training Accuracy: 62.1738%\n",
      "Epoch: 3/8 Validation Loss: 1.1814 Validation Accuracy: 47.8610%\n",
      "Epoch: 4/8 Training Loss: 0.7747 Training Accuracy: 71.9374%\n",
      "Epoch: 4/8 Validation Loss: 1.2450 Validation Accuracy: 46.5241%\n",
      "Epoch: 5/8 Training Loss: 0.6445 Training Accuracy: 76.8499%\n",
      "Epoch: 5/8 Validation Loss: 1.2763 Validation Accuracy: 46.7914%\n",
      "Epoch: 6/8 Training Loss: 0.5496 Training Accuracy: 80.6877%\n",
      "Epoch: 6/8 Validation Loss: 1.3402 Validation Accuracy: 49.1979%\n",
      "Epoch: 7/8 Training Loss: 0.4787 Training Accuracy: 82.9291%\n",
      "Epoch: 7/8 Validation Loss: 1.4154 Validation Accuracy: 46.7914%\n",
      "Epoch: 8/8 Training Loss: 0.4030 Training Accuracy: 86.1222%\n",
      "Epoch: 8/8 Validation Loss: 1.5100 Validation Accuracy: 48.3957%\n"
     ]
    }
   ],
   "source": [
    "hidden_size1 = 64\n",
    "hidden_size2 = 32\n",
    "\n",
    "### COMPLETE THE CODE BELOW\n",
    "improved_ff_model = ImprovedFFTextClassifier(len(dictionary) + 1, sequence_length, glove_wv.vector_size, hidden_size1, hidden_size2, num_classes)\n",
    "trained_imp_model, _, _ = train_nn(8, improved_ff_model, train_loader, dev_loader)\n",
    "gold_labs_imp, pred_labs_imp = predict_nn(trained_imp_model, test_loader)"
   ]
  },
  {
   "cell_type": "code",
   "execution_count": 369,
   "id": "8adda274",
   "metadata": {},
   "outputs": [
    {
     "name": "stdout",
     "output_type": "stream",
     "text": [
      "Two layer Pretrained GloVe embeddings: 0.4096083761832926\n"
     ]
    }
   ],
   "source": [
    "from sklearn.metrics import f1_score\n",
    "print(f'Two layer Pretrained GloVe embeddings: {f1_score(gold_labs_imp, pred_labs_imp, average=\"macro\")}')"
   ]
  },
  {
   "cell_type": "code",
   "execution_count": 370,
   "id": "b2989398",
   "metadata": {},
   "outputs": [],
   "source": [
    "import torch\n",
    "import torch.nn as nn\n",
    "\n",
    "class ImprovedFFTextClassifierWithLSTM(nn.Module):\n",
    "    def __init__(self, vocab_size, sequence_length, embedding_size, hidden_size1, hidden_size2, num_classes, embedding_matrix):\n",
    "        super(ImprovedFFTextClassifierWithLSTM, self).__init__()\n",
    "        self.embedding_size = embedding_matrix.shape[1] \n",
    "        self.sequence_length = sequence_length\n",
    "\n",
    "        # Define layers\n",
    "        self.embedding_layer = nn.Embedding.from_pretrained(embedding_matrix, freeze=False) # embedding layer\n",
    "\n",
    "        self.lstm_layer = nn.LSTM(embedding_size, hidden_size1, batch_first=True, bidirectional=True)\n",
    "        \n",
    "        self.hidden_layer = nn.Linear(hidden_size1 * 2, hidden_size2)\n",
    "        self.activation = nn.ReLU()\n",
    "        self.output_layer = nn.Linear(hidden_size2, num_classes)\n",
    "\n",
    "    def forward(self, input_words):\n",
    "        embedded_words = self.embedding_layer(input_words)  # (batch_size, seq_length, embedding_size)\n",
    "        \n",
    "        lstm_out, (hn, cn) = self.lstm_layer(embedded_words)  # (batch_size, seq_length, 2*hidden_size1)\n",
    "        lstm_out = lstm_out[:, -1, :]  # Take the last output of the sequence (batch_size, 2*hidden_size1)\n",
    "        \n",
    "        z = self.hidden_layer(lstm_out)  # (batch_size, hidden_size2)\n",
    "        h = self.activation(z)  # Apply activation\n",
    "        output = self.output_layer(h)  # (batch_size, num_classes)\n",
    "        return output\n"
   ]
  },
  {
   "cell_type": "markdown",
   "id": "34725aab",
   "metadata": {},
   "source": [
    "## ImprovedFFTextClassifierWithLSTM"
   ]
  },
  {
   "cell_type": "code",
   "execution_count": 371,
   "id": "75fd9198",
   "metadata": {},
   "outputs": [
    {
     "name": "stdout",
     "output_type": "stream",
     "text": [
      "Epoch: 1/8 Training Loss: 1.3220 Training Accuracy: 35.9840%\n",
      "Epoch: 1/8 Validation Loss: 1.2424 Validation Accuracy: 42.7807%\n",
      "Epoch: 2/8 Training Loss: 1.1306 Training Accuracy: 50.6908%\n",
      "Epoch: 2/8 Validation Loss: 1.1518 Validation Accuracy: 52.1390%\n",
      "Epoch: 3/8 Training Loss: 0.9007 Training Accuracy: 68.0381%\n",
      "Epoch: 3/8 Validation Loss: 1.1486 Validation Accuracy: 47.8610%\n",
      "Epoch: 4/8 Training Loss: 0.7736 Training Accuracy: 71.5689%\n",
      "Epoch: 4/8 Validation Loss: 1.1756 Validation Accuracy: 48.9305%\n",
      "Epoch: 5/8 Training Loss: 0.6846 Training Accuracy: 74.6699%\n",
      "Epoch: 5/8 Validation Loss: 1.1911 Validation Accuracy: 51.3369%\n",
      "Epoch: 6/8 Training Loss: 0.6215 Training Accuracy: 76.1437%\n",
      "Epoch: 6/8 Validation Loss: 1.1891 Validation Accuracy: 54.8128%\n",
      "Epoch: 7/8 Training Loss: 0.5681 Training Accuracy: 79.0298%\n",
      "Epoch: 7/8 Validation Loss: 1.2082 Validation Accuracy: 55.0802%\n",
      "Epoch: 8/8 Training Loss: 0.5143 Training Accuracy: 80.2579%\n",
      "Epoch: 8/8 Validation Loss: 1.2392 Validation Accuracy: 54.0107%\n"
     ]
    }
   ],
   "source": [
    "hidden_size1 = 64\n",
    "hidden_size2 = 32\n",
    "\n",
    "### COMPLETE THE CODE BELOW\n",
    "improved_ff_model_2 = ImprovedFFTextClassifierWithLSTM(vocab_size, sequence_length, embedding_size, hidden_size1, hidden_size2, num_classes, embedding_matrix)\n",
    "trained_imp_model_2, _, _ = train_nn(8, improved_ff_model_2, train_loader, dev_loader)\n",
    "gold_labs_imp_2, pred_labs_imp_2 = predict_nn(trained_imp_model, test_loader)"
   ]
  },
  {
   "cell_type": "code",
   "execution_count": 372,
   "id": "b1b89c68",
   "metadata": {},
   "outputs": [
    {
     "name": "stdout",
     "output_type": "stream",
     "text": [
      "Two layer Pretrained GloVe embeddings + LSTM: 0.4229823815982075\n"
     ]
    }
   ],
   "source": [
    "from sklearn.metrics import f1_score\n",
    "print(f'Two layer Pretrained GloVe embeddings + LSTM: {f1_score(gold_labs_imp_2, pred_labs_imp_2, average=\"macro\")}')"
   ]
  },
  {
   "cell_type": "code",
   "execution_count": 373,
   "id": "a93dafa2",
   "metadata": {},
   "outputs": [],
   "source": [
    "import numpy as np\n",
    "\n",
    "\n",
    "# Convert list to NumPy array\n",
    "pred_labs_imp_2_array = np.array(pred_labs_imp_2)\n",
    "\n",
    "gold_labs_imp_2_array = np.array(gold_labs_imp_2)"
   ]
  },
  {
   "cell_type": "code",
   "execution_count": 374,
   "id": "9a8279a3",
   "metadata": {},
   "outputs": [],
   "source": [
    "label_mapping = {\n",
    "    0: \"anger\",\n",
    "    1: \"joy\",\n",
    "    2: \"optimism\",\n",
    "    3: \"sadness\"\n",
    "}"
   ]
  },
  {
   "cell_type": "code",
   "execution_count": 388,
   "id": "fbf566ef",
   "metadata": {},
   "outputs": [
    {
     "name": "stdout",
     "output_type": "stream",
     "text": [
      "Review: #Deppression is real. Partners w/ #depressed people truly dont understand the depth in which they affect us. Add in #anxiety &amp;makes it worse; true label = 0, prediction = 3.\n",
      "Review: My visit to hospital for care triggered #trauma from accident 20+yrs ago and image of my dead brother in it. Feeling symptoms of #depression; true label = 1, prediction = 3.\n",
      "Review: What makes you feel #joyful?; true label = 2, prediction = 3.\n",
      "Review: i am revolting.; true label = 1, prediction = 0.\n",
      "Review: Rin might ever appeared gloomy but to be a melodramatic person was not her thing.\\n\\nBut honestly, she missed her old friend. The special one.; true label = 0, prediction = 3.\n",
      "Review: @user @user #cmbyn does screen  August 4 &amp; 6 at #miff; true label = 0, prediction = 3.\n",
      "Review: @user how can u have sold so many copies but ur game has so many fucking bugs and mad lag issues. Optimize ur shit soon.; true label = 2, prediction = 1.\n",
      "Review: Pressured. 😦; true label = 0, prediction = 3.\n",
      "Review: Yes #depression &amp; #anxiety are real but so is bein #grateful &amp; #happiness \\nI choose how i wanna live MY life not some disorder; true label = 3, prediction = 0.\n",
      "Review: Its #amazing watching various news outlets showing mixed crowds of ppl watching #Eclipse with NO #racial tension.. #MSM can't hide this!; true label = 0, prediction = 2.\n",
      "Review: @user What an F'ing liar; true label = 3, prediction = 2.\n",
      "Review: Me: 'I miss your personality,will it come back?' Him: 'I'm sorry.I'm me. You be you.' #Sad #depressed #longdistancerelationship; true label = 2, prediction = 1.\n",
      "Review: Comparing yourself to others is one of the root causes for feelings of unhappiness and depression.; true label = 1, prediction = 3.\n",
      "Review: @user @user Americans do not spank their children, and they are a God fearing people who knows the biggest sin is hypocrisy.; true label = 3, prediction = 2.\n",
      "Review: And let the depression take the stage once more 🙃; true label = 2, prediction = 0.\n",
      "Review: I love swimming for the same reason I love meditating...the feeling of weightlessness.; true label = 0, prediction = 3.\n",
      "Review: @user Really??? I've had to hang up!; true label = 0, prediction = 1.\n",
      "Review: When Jim Sheridan is standing next to you and you don't say A WORD!!! #facepalm #tonguetied; true label = 3, prediction = 0.\n",
      "Review: @user @user there was a fair bit of raging folk last night... something to do with pension day?; true label = 3, prediction = 0.\n",
      "Review: @user No #racism, no #hatred , no #sectarianism  ... Only yes to love; true label = 3, prediction = 1.\n"
     ]
    }
   ],
   "source": [
    "error_indexes = pred_labs_imp_2_array != gold_labs_imp_2_array  # compare predictions to gold labels\n",
    "\n",
    "# get the text of reviews where the classifier made an error:\n",
    "reviews_err = np.array(test_texts)[error_indexes]\n",
    "\n",
    "# WRITE YOUR CODE HERE\n",
    "pred_err = pred_labs_imp_2_array[error_indexes]\n",
    "gold_err = gold_labs_imp_2_array[error_indexes]\n",
    "\n",
    "for i in range(20):  # just print the first ten\n",
    "    print(f'Review: {reviews_err[i]}; true label = {gold_err[i]}, prediction = {pred_err[i]}.')"
   ]
  },
  {
   "cell_type": "markdown",
   "id": "ec0597d5",
   "metadata": {},
   "source": [
    "# Topic Modeling"
   ]
  },
  {
   "cell_type": "code",
   "execution_count": 20,
   "id": "1333ac03",
   "metadata": {},
   "outputs": [],
   "source": [
    "# Filter texts with 'joy' label from each dataset\n",
    "joy_train_texts = [text for text, label in zip(train_texts, train_labels) if label == 'joy']\n",
    "joy_val_texts = [text for text, label in zip(val_texts, val_labels) if label == 'joy']\n",
    "joy_test_texts = [text for text, label in zip(test_texts, test_labels) if label == 'joy']\n",
    "\n",
    "\n",
    "optimistic_train_texts = [text for text, label in zip(train_texts, train_labels) if label == 'optimistic']\n",
    "optimistic_val_texts = [text for text, label in zip(val_texts, val_labels) if label == 'optimistic']\n",
    "optimistic_test_texts = [text for text, label in zip(test_texts, test_labels) if label == 'optimistic']\n",
    "\n",
    "# Combine the lists into one"
   ]
  },
  {
   "cell_type": "code",
   "execution_count": 22,
   "id": "c4443f0f",
   "metadata": {},
   "outputs": [],
   "source": [
    "joy_text = joy_train_texts +joy_val_texts+joy_test_texts\n",
    "\n",
    "optimistic_text = optimistic_train_texts + optimistic_val_texts+optimistic_test_texts"
   ]
  },
  {
   "cell_type": "code",
   "execution_count": 38,
   "id": "b1d1eb97",
   "metadata": {},
   "outputs": [],
   "source": [
    "text_joy_optimistic = joy_text+optimistic_text"
   ]
  },
  {
   "cell_type": "code",
   "execution_count": 39,
   "id": "a1217c05",
   "metadata": {},
   "outputs": [],
   "source": [
    "from sklearn.feature_extraction.text import CountVectorizer\n",
    "from nltk.stem import WordNetLemmatizer \n",
    "from gensim.utils import simple_preprocess\n",
    "from gensim.parsing.preprocessing import STOPWORDS # find stopwords\n",
    "import numpy as np\n",
    "import re\n",
    "\n",
    "\n",
    "\n",
    "np.random.seed(400)  # We fix the random seed to ensure we get consistent results when we repeat the lab.\n",
    "\n",
    "def preprocess(text):\n",
    "    # Remove user mentions using regular expression\n",
    "    text = re.sub(r'@\\w+', '', text)\n",
    "    \n",
    "    result = []\n",
    "    for token in simple_preprocess(text):  # Tokenize, remove very short and very long words, convert to lower case, remove words containing non-letter characters\n",
    "        if token not in STOPWORDS:\n",
    "            result.append(WordNetLemmatizer().lemmatize(token, 'v'))\n",
    "            \n",
    "    return result\n",
    "\n",
    "\n",
    "# Create a list of preprocessed documents\n",
    "processed = []\n",
    "for doc in text_joy_optimistic:\n",
    "    processed.append(preprocess(doc))"
   ]
  },
  {
   "cell_type": "code",
   "execution_count": 41,
   "id": "9820b6bc",
   "metadata": {
    "scrolled": true
   },
   "outputs": [
    {
     "data": {
      "text/plain": [
       "['tiller', 'breezy', 'collab', 'album', 'rap', 'sing', 'prolly']"
      ]
     },
     "execution_count": 41,
     "metadata": {},
     "output_type": "execute_result"
    }
   ],
   "source": [
    "processed[1]"
   ]
  },
  {
   "cell_type": "code",
   "execution_count": 42,
   "id": "c8b29cce",
   "metadata": {},
   "outputs": [
    {
     "name": "stdout",
     "output_type": "stream",
     "text": [
      "Dictionary<3575 unique tokens: ['atsu', 'cherry', 'cute', 'help', 'photos']...>\n"
     ]
    }
   ],
   "source": [
    "from gensim.corpora import Dictionary\n",
    "\n",
    "dictionary = Dictionary(processed) # construct word<->id mappings - it does it in alphabetical order\n",
    "print(dictionary)\n",
    "\n",
    "bow_corpus = [dictionary.doc2bow(doc) for doc in processed]"
   ]
  },
  {
   "cell_type": "code",
   "execution_count": 43,
   "id": "2bd90582",
   "metadata": {},
   "outputs": [],
   "source": [
    "from gensim.models import LdaModel\n",
    "\n",
    "# This call will construct and fit (train) the LDA model:\n",
    "lda_model =  LdaModel(bow_corpus, \n",
    "                      num_topics=10, \n",
    "                      id2word=dictionary,                                    \n",
    "                      passes=10,\n",
    "                    ) "
   ]
  },
  {
   "cell_type": "code",
   "execution_count": 44,
   "id": "a1f92c9a",
   "metadata": {
    "scrolled": true
   },
   "outputs": [
    {
     "name": "stdout",
     "output_type": "stream",
     "text": [
      "Topic: 0 \n",
      "Words: 0.016*\"like\" + 0.012*\"hilarious\" + 0.009*\"amp\" + 0.009*\"love\" + 0.008*\"think\" + 0.008*\"look\" + 0.007*\"hilarity\" + 0.006*\"great\" + 0.006*\"ve\" + 0.006*\"time\"\n",
      "\n",
      "\n",
      "Topic: 1 \n",
      "Words: 0.010*\"glee\" + 0.010*\"laugh\" + 0.010*\"awesome\" + 0.009*\"watch\" + 0.009*\"thank\" + 0.007*\"get\" + 0.006*\"love\" + 0.006*\"need\" + 0.005*\"people\" + 0.005*\"horror\"\n",
      "\n",
      "\n",
      "Topic: 2 \n",
      "Words: 0.013*\"watch\" + 0.012*\"get\" + 0.010*\"want\" + 0.009*\"laugh\" + 0.008*\"hilarious\" + 0.007*\"love\" + 0.007*\"ve\" + 0.006*\"im\" + 0.005*\"today\" + 0.005*\"nd\"\n",
      "\n",
      "\n",
      "Topic: 3 \n",
      "Words: 0.019*\"look\" + 0.008*\"ha\" + 0.007*\"like\" + 0.006*\"amaze\" + 0.006*\"follow\" + 0.006*\"wow\" + 0.006*\"great\" + 0.006*\"feel\" + 0.006*\"hilarious\" + 0.006*\"oh\"\n",
      "\n",
      "\n",
      "Topic: 4 \n",
      "Words: 0.013*\"good\" + 0.010*\"shake\" + 0.009*\"know\" + 0.009*\"cheer\" + 0.009*\"hilarious\" + 0.008*\"ll\" + 0.008*\"thank\" + 0.007*\"let\" + 0.005*\"come\" + 0.004*\"say\"\n",
      "\n",
      "\n",
      "Topic: 5 \n",
      "Words: 0.015*\"love\" + 0.011*\"amp\" + 0.009*\"blue\" + 0.007*\"happy\" + 0.007*\"birthday\" + 0.005*\"like\" + 0.005*\"th\" + 0.005*\"big\" + 0.005*\"cheer\" + 0.005*\"kid\"\n",
      "\n",
      "\n",
      "Topic: 6 \n",
      "Words: 0.014*\"happy\" + 0.014*\"birthday\" + 0.012*\"like\" + 0.010*\"amp\" + 0.006*\"look\" + 0.006*\"best\" + 0.005*\"home\" + 0.005*\"years\" + 0.005*\"hear\" + 0.005*\"meet\"\n",
      "\n",
      "\n",
      "Topic: 7 \n",
      "Words: 0.027*\"amaze\" + 0.020*\"ly\" + 0.020*\"watch\" + 0.020*\"live\" + 0.019*\"broadcast\" + 0.019*\"musically\" + 0.012*\"lol\" + 0.010*\"know\" + 0.009*\"lively\" + 0.008*\"man\"\n",
      "\n",
      "\n",
      "Topic: 8 \n",
      "Words: 0.018*\"happy\" + 0.013*\"amp\" + 0.009*\"love\" + 0.008*\"day\" + 0.007*\"eclipse\" + 0.007*\"time\" + 0.007*\"feel\" + 0.007*\"go\" + 0.006*\"shake\" + 0.005*\"get\"\n",
      "\n",
      "\n",
      "Topic: 9 \n",
      "Words: 0.028*\"love\" + 0.020*\"smile\" + 0.012*\"day\" + 0.007*\"great\" + 0.006*\"amp\" + 0.006*\"soul\" + 0.005*\"like\" + 0.005*\"lol\" + 0.005*\"go\" + 0.005*\"feel\"\n",
      "\n",
      "\n"
     ]
    }
   ],
   "source": [
    "'''\n",
    "For each topic, we will explore the words occuring in that topic and its relative weight\n",
    "'''\n",
    "for idx, topic in lda_model.print_topics(-1):\n",
    "    print(\"Topic: {} \\nWords: {}\".format(idx, topic ))\n",
    "    print(\"\\n\")"
   ]
  },
  {
   "cell_type": "code",
   "execution_count": 45,
   "id": "a1bfa7b8",
   "metadata": {
    "scrolled": false
   },
   "outputs": [
    {
     "name": "stdout",
     "output_type": "stream",
     "text": [
      "n : 2 ; alpha : symmetric ; beta : auto ; Score : 0.38290168473733754\n",
      "n : 2 ; alpha : symmetric ; beta : 0.3 ; Score : 0.4168762173369497\n",
      "n : 2 ; alpha : symmetric ; beta : 0.5 ; Score : 0.38290168473733754\n",
      "n : 2 ; alpha : symmetric ; beta : 0.7 ; Score : 0.4001786044988851\n",
      "n : 2 ; alpha : 0.3 ; beta : auto ; Score : 0.43755416340566705\n",
      "n : 2 ; alpha : 0.3 ; beta : 0.3 ; Score : 0.45218582944085717\n",
      "n : 2 ; alpha : 0.3 ; beta : 0.5 ; Score : 0.43755416340566705\n",
      "n : 2 ; alpha : 0.3 ; beta : 0.7 ; Score : 0.43908674498474853\n",
      "n : 2 ; alpha : 0.5 ; beta : auto ; Score : 0.38290168473733754\n",
      "n : 2 ; alpha : 0.5 ; beta : 0.3 ; Score : 0.4168762173369497\n",
      "n : 2 ; alpha : 0.5 ; beta : 0.5 ; Score : 0.38290168473733754\n",
      "n : 2 ; alpha : 0.5 ; beta : 0.7 ; Score : 0.4001786044988851\n",
      "n : 2 ; alpha : 0.7 ; beta : auto ; Score : 0.4155500936480837\n",
      "n : 2 ; alpha : 0.7 ; beta : 0.3 ; Score : 0.45727142985175495\n",
      "n : 2 ; alpha : 0.7 ; beta : 0.5 ; Score : 0.4155500936480837\n",
      "n : 2 ; alpha : 0.7 ; beta : 0.7 ; Score : 0.43420019844977387\n",
      "n : 5 ; alpha : symmetric ; beta : auto ; Score : 0.5473035551279622\n",
      "n : 5 ; alpha : symmetric ; beta : 0.3 ; Score : 0.5192673585933394\n",
      "n : 5 ; alpha : symmetric ; beta : 0.5 ; Score : 0.47426483200210623\n",
      "n : 5 ; alpha : symmetric ; beta : 0.7 ; Score : 0.48929736121546197\n",
      "n : 5 ; alpha : 0.3 ; beta : auto ; Score : 0.5344419599508756\n",
      "n : 5 ; alpha : 0.3 ; beta : 0.3 ; Score : 0.5551122760819288\n",
      "n : 5 ; alpha : 0.3 ; beta : 0.5 ; Score : 0.500289994469784\n",
      "n : 5 ; alpha : 0.3 ; beta : 0.7 ; Score : 0.4771455261199614\n",
      "n : 5 ; alpha : 0.5 ; beta : auto ; Score : 0.5528850396342095\n",
      "n : 5 ; alpha : 0.5 ; beta : 0.3 ; Score : 0.545801632003467\n",
      "n : 5 ; alpha : 0.5 ; beta : 0.5 ; Score : 0.5227839097927588\n",
      "n : 5 ; alpha : 0.5 ; beta : 0.7 ; Score : 0.5290499875930463\n",
      "n : 5 ; alpha : 0.7 ; beta : auto ; Score : 0.5480756514985472\n",
      "n : 5 ; alpha : 0.7 ; beta : 0.3 ; Score : 0.5450694261049713\n",
      "n : 5 ; alpha : 0.7 ; beta : 0.5 ; Score : 0.5180140711563717\n",
      "n : 5 ; alpha : 0.7 ; beta : 0.7 ; Score : 0.4959398128203548\n",
      "n : 7 ; alpha : symmetric ; beta : auto ; Score : 0.5340548226522679\n",
      "n : 7 ; alpha : symmetric ; beta : 0.3 ; Score : 0.5062085927663735\n",
      "n : 7 ; alpha : symmetric ; beta : 0.5 ; Score : 0.4893603213355538\n",
      "n : 7 ; alpha : symmetric ; beta : 0.7 ; Score : 0.5130647695043333\n",
      "n : 7 ; alpha : 0.3 ; beta : auto ; Score : 0.5507649612125881\n",
      "n : 7 ; alpha : 0.3 ; beta : 0.3 ; Score : 0.5319814716294997\n",
      "n : 7 ; alpha : 0.3 ; beta : 0.5 ; Score : 0.5102154550346055\n",
      "n : 7 ; alpha : 0.3 ; beta : 0.7 ; Score : 0.5093821920852247\n",
      "n : 7 ; alpha : 0.5 ; beta : auto ; Score : 0.5701724712284653\n",
      "n : 7 ; alpha : 0.5 ; beta : 0.3 ; Score : 0.558146311986883\n",
      "n : 7 ; alpha : 0.5 ; beta : 0.5 ; Score : 0.5533421498843557\n",
      "n : 7 ; alpha : 0.5 ; beta : 0.7 ; Score : 0.5331220760709249\n",
      "n : 7 ; alpha : 0.7 ; beta : auto ; Score : 0.5675876320782888\n",
      "n : 7 ; alpha : 0.7 ; beta : 0.3 ; Score : 0.5593639955686006\n",
      "n : 7 ; alpha : 0.7 ; beta : 0.5 ; Score : 0.5205721624412536\n",
      "n : 7 ; alpha : 0.7 ; beta : 0.7 ; Score : 0.5263643546398009\n",
      "n : 10 ; alpha : symmetric ; beta : auto ; Score : 0.6035891680145614\n",
      "n : 10 ; alpha : symmetric ; beta : 0.3 ; Score : 0.5634735936376962\n",
      "n : 10 ; alpha : symmetric ; beta : 0.5 ; Score : 0.5169888689346556\n",
      "n : 10 ; alpha : symmetric ; beta : 0.7 ; Score : 0.49532579941227495\n",
      "n : 10 ; alpha : 0.3 ; beta : auto ; Score : 0.6151341218852091\n",
      "n : 10 ; alpha : 0.3 ; beta : 0.3 ; Score : 0.583991787137529\n",
      "n : 10 ; alpha : 0.3 ; beta : 0.5 ; Score : 0.5539102253068501\n",
      "n : 10 ; alpha : 0.3 ; beta : 0.7 ; Score : 0.5294813290498849\n",
      "n : 10 ; alpha : 0.5 ; beta : auto ; Score : 0.6125175651527383\n",
      "n : 10 ; alpha : 0.5 ; beta : 0.3 ; Score : 0.5857433037461248\n",
      "n : 10 ; alpha : 0.5 ; beta : 0.5 ; Score : 0.5673299417916373\n",
      "n : 10 ; alpha : 0.5 ; beta : 0.7 ; Score : 0.5372358205847265\n",
      "n : 10 ; alpha : 0.7 ; beta : auto ; Score : 0.6015691458878927\n",
      "n : 10 ; alpha : 0.7 ; beta : 0.3 ; Score : 0.5506837969873628\n",
      "n : 10 ; alpha : 0.7 ; beta : 0.5 ; Score : 0.5275668315965258\n",
      "n : 10 ; alpha : 0.7 ; beta : 0.7 ; Score : 0.48214905507465033\n",
      "n : 12 ; alpha : symmetric ; beta : auto ; Score : 0.5967952024900256\n",
      "n : 12 ; alpha : symmetric ; beta : 0.3 ; Score : 0.5526812033062318\n",
      "n : 12 ; alpha : symmetric ; beta : 0.5 ; Score : 0.5110538856666552\n",
      "n : 12 ; alpha : symmetric ; beta : 0.7 ; Score : 0.4801731972541912\n",
      "n : 12 ; alpha : 0.3 ; beta : auto ; Score : 0.5951551788412944\n",
      "n : 12 ; alpha : 0.3 ; beta : 0.3 ; Score : 0.6032153672882028\n",
      "n : 12 ; alpha : 0.3 ; beta : 0.5 ; Score : 0.5426673673224844\n",
      "n : 12 ; alpha : 0.3 ; beta : 0.7 ; Score : 0.529025443525122\n",
      "n : 12 ; alpha : 0.5 ; beta : auto ; Score : 0.6024809777029209\n",
      "n : 12 ; alpha : 0.5 ; beta : 0.3 ; Score : 0.5712277315570001\n",
      "n : 12 ; alpha : 0.5 ; beta : 0.5 ; Score : 0.5159455742593405\n",
      "n : 12 ; alpha : 0.5 ; beta : 0.7 ; Score : 0.4922319934126497\n",
      "n : 12 ; alpha : 0.7 ; beta : auto ; Score : 0.6046556186203594\n",
      "n : 12 ; alpha : 0.7 ; beta : 0.3 ; Score : 0.5422285893773793\n",
      "n : 12 ; alpha : 0.7 ; beta : 0.5 ; Score : 0.5282138422739394\n",
      "n : 12 ; alpha : 0.7 ; beta : 0.7 ; Score : 0.5478119985439653\n",
      "n : 14 ; alpha : symmetric ; beta : auto ; Score : 0.5559463821603211\n",
      "n : 14 ; alpha : symmetric ; beta : 0.3 ; Score : 0.5789756176900746\n",
      "n : 14 ; alpha : symmetric ; beta : 0.5 ; Score : 0.504465591647453\n",
      "n : 14 ; alpha : symmetric ; beta : 0.7 ; Score : 0.4668701789785919\n",
      "n : 14 ; alpha : 0.3 ; beta : auto ; Score : 0.5538229496519657\n",
      "n : 14 ; alpha : 0.3 ; beta : 0.3 ; Score : 0.5866560251519725\n",
      "n : 14 ; alpha : 0.3 ; beta : 0.5 ; Score : 0.5430410116658572\n",
      "n : 14 ; alpha : 0.3 ; beta : 0.7 ; Score : 0.5170076455079621\n",
      "n : 14 ; alpha : 0.5 ; beta : auto ; Score : 0.5441972976830239\n",
      "n : 14 ; alpha : 0.5 ; beta : 0.3 ; Score : 0.5572272139691498\n",
      "n : 14 ; alpha : 0.5 ; beta : 0.5 ; Score : 0.5097701565741501\n",
      "n : 14 ; alpha : 0.5 ; beta : 0.7 ; Score : 0.47903711172347163\n",
      "n : 14 ; alpha : 0.7 ; beta : auto ; Score : 0.583265324139626\n",
      "n : 14 ; alpha : 0.7 ; beta : 0.3 ; Score : 0.5403052866847599\n",
      "n : 14 ; alpha : 0.7 ; beta : 0.5 ; Score : 0.4924423845852334\n",
      "n : 14 ; alpha : 0.7 ; beta : 0.7 ; Score : 0.6053595259190981\n"
     ]
    }
   ],
   "source": [
    "#hyper tunning\n",
    "\n",
    "from gensim.models.coherencemodel import CoherenceModel\n",
    "def calculate_coherence_score(n, alpha, beta):\n",
    "    lda_model = LdaModel(corpus=bow_corpus,\n",
    "                       id2word=dictionary,\n",
    "                       num_topics=n, \n",
    "                       random_state=100,\n",
    "                       update_every=1,\n",
    "                       chunksize=100,\n",
    "                       passes=10,\n",
    "                       alpha=alpha,\n",
    "                       per_word_topics=True,\n",
    "                       eta = beta)\n",
    "    coherence_model_lda = CoherenceModel(model=lda_model, texts=processed, dictionary=dictionary, coherence='c_v')\n",
    "    coherence_lda = coherence_model_lda.get_coherence()\n",
    "    return coherence_lda\n",
    "\n",
    "#list containing various hyperparameters\n",
    "no_of_topics = [2,5,7,10,12,14]\n",
    "alpha_list = ['symmetric',0.3,0.5,0.7]\n",
    "beta_list = ['auto',0.3,0.5,0.7]\n",
    "\n",
    "\n",
    "for n in no_of_topics:\n",
    "    for alpha in alpha_list:\n",
    "        for beta in beta_list:\n",
    "            coherence_score = calculate_coherence_score(n, alpha, beta)\n",
    "            print(f\"n : {n} ; alpha : {alpha} ; beta : {beta} ; Score : {coherence_score}\")"
   ]
  },
  {
   "cell_type": "code",
   "execution_count": 46,
   "id": "b1a6363f",
   "metadata": {},
   "outputs": [],
   "source": [
    "lda_model = LdaModel(corpus=bow_corpus,\n",
    "                       id2word=dictionary,\n",
    "                       num_topics=12, \n",
    "                       random_state=100,\n",
    "                       update_every=1,\n",
    "                       chunksize=100,\n",
    "                       passes=10,\n",
    "                       alpha=0.3,\n",
    "                       per_word_topics=True,\n",
    "                       eta = 'auto')\n",
    "    \n",
    "#n : 10 ; alpha : 0.3 ; beta : auto ; Score : 0.6151341218852091\n"
   ]
  },
  {
   "cell_type": "code",
   "execution_count": 47,
   "id": "6d6c57b8",
   "metadata": {
    "scrolled": false
   },
   "outputs": [
    {
     "name": "stdout",
     "output_type": "stream",
     "text": [
      "Topic: 0 \n",
      "Words: 0.101*\"love\" + 0.062*\"amp\" + 0.053*\"look\" + 0.023*\"blue\" + 0.022*\"delicious\" + 0.018*\"eclipse\" + 0.016*\"delight\" + 0.014*\"kid\" + 0.013*\"dark\" + 0.011*\"absolutely\"\n",
      "\n",
      "\n",
      "Topic: 1 \n",
      "Words: 0.034*\"today\" + 0.026*\"beautiful\" + 0.021*\"time\" + 0.017*\"help\" + 0.016*\"cute\" + 0.015*\"read\" + 0.014*\"long\" + 0.014*\"joy\" + 0.013*\"team\" + 0.013*\"say\"\n",
      "\n",
      "\n",
      "Topic: 2 \n",
      "Words: 0.108*\"amaze\" + 0.089*\"watch\" + 0.043*\"excite\" + 0.035*\"hope\" + 0.024*\"ly\" + 0.022*\"live\" + 0.018*\"broadcast\" + 0.018*\"musically\" + 0.015*\"terrific\" + 0.013*\"movie\"\n",
      "\n",
      "\n",
      "Topic: 3 \n",
      "Words: 0.040*\"great\" + 0.040*\"snap\" + 0.039*\"good\" + 0.026*\"new\" + 0.024*\"wow\" + 0.017*\"snapchat\" + 0.015*\"horny\" + 0.015*\"meet\" + 0.013*\"game\" + 0.013*\"use\"\n",
      "\n",
      "\n",
      "Topic: 4 \n",
      "Words: 0.045*\"best\" + 0.031*\"fun\" + 0.027*\"laughter\" + 0.021*\"thing\" + 0.020*\"ll\" + 0.019*\"horror\" + 0.018*\"twitter\" + 0.017*\"hard\" + 0.017*\"try\" + 0.016*\"moment\"\n",
      "\n",
      "\n",
      "Topic: 5 \n",
      "Words: 0.054*\"laugh\" + 0.045*\"get\" + 0.036*\"thank\" + 0.035*\"go\" + 0.034*\"want\" + 0.020*\"work\" + 0.020*\"shake\" + 0.018*\"follow\" + 0.016*\"giggle\" + 0.016*\"im\"\n",
      "\n",
      "\n",
      "Topic: 6 \n",
      "Words: 0.077*\"day\" + 0.029*\"start\" + 0.025*\"sleep\" + 0.024*\"glee\" + 0.015*\"big\" + 0.015*\"glad\" + 0.015*\"morning\" + 0.014*\"stop\" + 0.014*\"mean\" + 0.013*\"tea\"\n",
      "\n",
      "\n",
      "Topic: 7 \n",
      "Words: 0.039*\"come\" + 0.028*\"awesome\" + 0.028*\"adorable\" + 0.026*\"ha\" + 0.021*\"sparkle\" + 0.020*\"play\" + 0.019*\"brilliant\" + 0.017*\"burst\" + 0.016*\"bliss\" + 0.015*\"water\"\n",
      "\n",
      "\n",
      "Topic: 8 \n",
      "Words: 0.088*\"smile\" + 0.071*\"hilarious\" + 0.028*\"bless\" + 0.022*\"soon\" + 0.018*\"wonderful\" + 0.018*\"season\" + 0.017*\"girl\" + 0.013*\"dance\" + 0.012*\"win\" + 0.012*\"kdrama\"\n",
      "\n",
      "\n",
      "Topic: 9 \n",
      "Words: 0.086*\"like\" + 0.049*\"feel\" + 0.044*\"people\" + 0.037*\"think\" + 0.032*\"night\" + 0.023*\"rejoice\" + 0.018*\"world\" + 0.017*\"alarm\" + 0.013*\"ask\" + 0.012*\"flatter\"\n",
      "\n",
      "\n",
      "Topic: 10 \n",
      "Words: 0.063*\"know\" + 0.052*\"funny\" + 0.040*\"lol\" + 0.036*\"need\" + 0.026*\"oh\" + 0.021*\"ve\" + 0.019*\"make\" + 0.018*\"stay\" + 0.018*\"boy\" + 0.017*\"time\"\n",
      "\n",
      "\n",
      "Topic: 11 \n",
      "Words: 0.141*\"happy\" + 0.067*\"birthday\" + 0.043*\"cheer\" + 0.033*\"lose\" + 0.023*\"ur\" + 0.019*\"home\" + 0.017*\"scar\" + 0.015*\"miss\" + 0.013*\"days\" + 0.009*\"definitely\"\n",
      "\n",
      "\n"
     ]
    }
   ],
   "source": [
    "for idx, topic in lda_model.print_topics(-1):\n",
    "    print(\"Topic: {} \\nWords: {}\".format(idx, topic ))\n",
    "    print(\"\\n\")"
   ]
  },
  {
   "cell_type": "markdown",
   "id": "33f78994",
   "metadata": {},
   "source": [
    "# Task 2: Named Entity Recognition "
   ]
  },
  {
   "cell_type": "markdown",
   "id": "35af0fbc-2c18-4b68-839d-802595dac600",
   "metadata": {},
   "source": [
    "# Bio Creative V\n",
    "\n",
    "Marks chemicals and diseases in Pubmed articles as named entities. For further details, see [the HuggingFace page](https://huggingface.co/datasets/tner/bc5cdr)"
   ]
  },
  {
   "cell_type": "code",
   "execution_count": 3,
   "id": "69d0376c-93d1-4ee9-a7ba-76bba2afc2dd",
   "metadata": {
    "scrolled": true
   },
   "outputs": [
    {
     "name": "stdout",
     "output_type": "stream",
     "text": [
      "The dataset is a dictionary with 3 splits: \n",
      "\n",
      "DatasetDict({\n",
      "    train: Dataset({\n",
      "        features: ['tokens', 'tags'],\n",
      "        num_rows: 5228\n",
      "    })\n",
      "    validation: Dataset({\n",
      "        features: ['tokens', 'tags'],\n",
      "        num_rows: 5330\n",
      "    })\n",
      "    test: Dataset({\n",
      "        features: ['tokens', 'tags'],\n",
      "        num_rows: 5865\n",
      "    })\n",
      "})\n"
     ]
    }
   ],
   "source": [
    "ner_dataset = load_dataset(\n",
    "    \"tner/bc5cdr\", \n",
    ")\n",
    "\n",
    "print(f'The dataset is a dictionary with {len(ner_dataset)} splits: \\n\\n{ner_dataset}')"
   ]
  },
  {
   "cell_type": "code",
   "execution_count": 11,
   "id": "8515ff00-f8bc-42ac-801f-50224ea50e7d",
   "metadata": {},
   "outputs": [],
   "source": [
    "# It  may be useful to obtain the data in a list format for some sequence tagging methods\n",
    "train_sentences_ner = [item['tokens'] for item in ner_dataset['train']]\n",
    "train_labels_ner = [[str(tag) for tag in item['tags']] for item in ner_dataset['train']]\n",
    "\n",
    "val_sentences_ner = [item['tokens'] for item in ner_dataset['validation']]\n",
    "val_labels_ner = [[str(tag) for tag in item['tags']] for item in ner_dataset['validation']]\n",
    "\n",
    "test_sentences_ner = [item['tokens'] for item in ner_dataset['test']]\n",
    "test_labels_ner = [[str(tag) for tag in item['tags']] for item in ner_dataset['test']]"
   ]
  },
  {
   "cell_type": "code",
   "execution_count": 12,
   "id": "df2cad09",
   "metadata": {},
   "outputs": [
    {
     "data": {
      "text/plain": [
       "array(['0', '1', '2', '3', '4'], dtype='<U1')"
      ]
     },
     "execution_count": 12,
     "metadata": {},
     "output_type": "execute_result"
    }
   ],
   "source": [
    "# Show the different tag values in the dataset:\n",
    "np.unique(np.concatenate(train_labels_ner))"
   ]
  },
  {
   "cell_type": "markdown",
   "id": "b6b3c1f1",
   "metadata": {},
   "source": [
    "# Named Entity Recognition with CRF"
   ]
  },
  {
   "cell_type": "code",
   "execution_count": 13,
   "id": "a9c1d8b3",
   "metadata": {},
   "outputs": [],
   "source": [
    "ner_tag_mapping = {0:\"O\", 1:\"B-Chemical\", 2:\"B-Disease\", 3:\"I-Disease\", 4:\"I-Chemical\"}"
   ]
  },
  {
   "cell_type": "code",
   "execution_count": 14,
   "id": "b3571440",
   "metadata": {},
   "outputs": [],
   "source": [
    "# train_set = [list(zip(sentence, [ner_tag_mapping[tag] for tag in tags])) for sentence, tags in zip(train_sentences_ner, train_labels_ner)]\n",
    "train_set = [list(zip(sentence, [ner_tag_mapping[int(tag)] for tag in tags])) for sentence, tags in zip(train_sentences_ner, train_labels_ner)]\n",
    "test_set = [list(zip(sentence, [ner_tag_mapping[int(tag)] for tag in tags])) for sentence, tags in zip(test_sentences_ner, test_labels_ner)]\n",
    "\n",
    "\n",
    "test_tags = [[ner_tag_mapping[int(tag)] for tag in tags] for tags in test_labels_ner][:-1]\n",
    "\n",
    "# train_set = [list(zip(s['tokens'], [ner_tag_mapping[tok] for tok in s['ner_tags']])) for s in train_dataset][:-1]\n"
   ]
  },
  {
   "cell_type": "code",
   "execution_count": 16,
   "id": "8274dbc6",
   "metadata": {},
   "outputs": [],
   "source": [
    "import nltk\n",
    "\n",
    "# Train a CRF NER tagger\n",
    "def train_CRF_NER_tagger(train_set):\n",
    "    tagger = nltk.tag.CRFTagger()\n",
    "    tagger.train(train_set, 'model.crf.tagger')\n",
    "    return tagger  # return the trained model\n",
    "\n",
    "tagger = train_CRF_NER_tagger(train_set)"
   ]
  },
  {
   "cell_type": "code",
   "execution_count": 17,
   "id": "6326025a",
   "metadata": {},
   "outputs": [],
   "source": [
    "predicted_tags = tagger.tag_sents(test_sentences_ner)"
   ]
  },
  {
   "cell_type": "code",
   "execution_count": 27,
   "id": "e3049423",
   "metadata": {},
   "outputs": [
    {
     "data": {
      "text/plain": [
       "['Naloxone',\n",
       " 'alone',\n",
       " 'did',\n",
       " 'not',\n",
       " 'affect',\n",
       " 'either',\n",
       " 'blood',\n",
       " 'pressure',\n",
       " 'or',\n",
       " 'heart',\n",
       " 'rate',\n",
       " '.']"
      ]
     },
     "execution_count": 27,
     "metadata": {},
     "output_type": "execute_result"
    }
   ],
   "source": [
    "train_sentences_ner[4]"
   ]
  },
  {
   "cell_type": "code",
   "execution_count": 18,
   "id": "24f2b9f6",
   "metadata": {},
   "outputs": [
    {
     "data": {
      "text/plain": [
       "[('Naloxone', 'B-Chemical'),\n",
       " ('alone', 'O'),\n",
       " ('did', 'O'),\n",
       " ('not', 'O'),\n",
       " ('affect', 'O'),\n",
       " ('either', 'O'),\n",
       " ('blood', 'O'),\n",
       " ('pressure', 'O'),\n",
       " ('or', 'O'),\n",
       " ('heart', 'O'),\n",
       " ('rate', 'O'),\n",
       " ('.', 'O')]"
      ]
     },
     "execution_count": 18,
     "metadata": {},
     "output_type": "execute_result"
    }
   ],
   "source": [
    "train_set[4]"
   ]
  },
  {
   "cell_type": "code",
   "execution_count": 19,
   "id": "a8246a2a",
   "metadata": {},
   "outputs": [
    {
     "name": "stdout",
     "output_type": "stream",
     "text": [
      "F1 score for class Chemical = 0.815137987012987\n",
      "F1 score for class Disease = 0.6493745885450954\n",
      "Macro-average f1 score = 0.7322562877790413\n"
     ]
    }
   ],
   "source": [
    "def extract_spans(tagged_sents):\n",
    "    \"\"\"\n",
    "    Extract a list of tagged spans for each named entity type, \n",
    "    where each span is represented by a tuple containing the \n",
    "    start token and end token indexes.\n",
    "    \n",
    "    returns: a dictionary containing a list of spans for each entity type.\n",
    "    \"\"\"\n",
    "    spans = {}\n",
    "        \n",
    "    for sidx, sent in enumerate(tagged_sents):\n",
    "        start = -1\n",
    "        entity_type = None\n",
    "        for i, (tok, lab) in enumerate(sent):\n",
    "            if 'B-' in lab:\n",
    "                start = i\n",
    "                end = i + 1\n",
    "                entity_type = lab[2:]\n",
    "            elif 'I-' in lab:\n",
    "                end = i + 1\n",
    "            elif lab == 'O' and start >= 0:\n",
    "                \n",
    "                if entity_type not in spans:\n",
    "                    spans[entity_type] = []\n",
    "                \n",
    "                spans[entity_type].append((start, end, sidx))\n",
    "                start = -1      \n",
    "        # Sometimes an I-token is the last token in the sentence, so we still have to add the span to the list\n",
    "        if start >= 0:    \n",
    "            if entity_type not in spans:\n",
    "                spans[entity_type] = []\n",
    "                \n",
    "            spans[entity_type].append((start, end, sidx))\n",
    "                \n",
    "    return spans\n",
    "\n",
    "\n",
    "def cal_span_level_f1(test_sents, test_sents_with_pred):\n",
    "    # get a list of spans from the test set labels\n",
    "    gold_spans = extract_spans(test_sents)\n",
    "\n",
    "    # get a list of spans predicted by our tagger\n",
    "    pred_spans = extract_spans(test_sents_with_pred)\n",
    "    \n",
    "    # compute the metrics for each class:\n",
    "    f1_per_class = []\n",
    "    \n",
    "    ne_types = gold_spans.keys()  # get the list of named entity types (not the tags)\n",
    "    \n",
    "    for ne_type in ne_types:\n",
    "        # compute the confusion matrix\n",
    "        true_pos = 0\n",
    "        false_pos = 0\n",
    "        \n",
    "        for span in pred_spans[ne_type]:\n",
    "            if span in gold_spans[ne_type]:\n",
    "                true_pos += 1\n",
    "            else:\n",
    "                false_pos += 1\n",
    "                \n",
    "        false_neg = 0\n",
    "        for span in gold_spans[ne_type]:\n",
    "            if span not in pred_spans[ne_type]:\n",
    "                false_neg += 1\n",
    "                \n",
    "        if true_pos + false_pos == 0:\n",
    "            precision = 0\n",
    "        else:\n",
    "            precision = true_pos / float(true_pos + false_pos)\n",
    "            \n",
    "        if true_pos + false_neg == 0:\n",
    "            recall = 0\n",
    "        else:\n",
    "            recall = true_pos / float(true_pos + false_neg)\n",
    "        \n",
    "        if precision + recall == 0:\n",
    "            f1 = 0\n",
    "        else:\n",
    "            f1 = 2 * precision * recall / (precision + recall)\n",
    "            \n",
    "        f1_per_class.append(f1)\n",
    "        print(f'F1 score for class {ne_type} = {f1}')\n",
    "        \n",
    "    print(f'Macro-average f1 score = {np.mean(f1_per_class)}')\n",
    "\n",
    "cal_span_level_f1(test_set, predicted_tags)"
   ]
  },
  {
   "cell_type": "code",
   "execution_count": 20,
   "id": "72a96d84",
   "metadata": {},
   "outputs": [],
   "source": [
    "import re, unicodedata\n",
    "\n",
    "class CustomCRFTagger(nltk.tag.CRFTagger):\n",
    "    _current_tokens = None\n",
    "    \n",
    "    def _get_features(self, tokens, idx):\n",
    "            \"\"\"\n",
    "            Extract basic features about this word including\n",
    "                - Current word\n",
    "                - is it capitalized?\n",
    "                - Does it have punctuation?\n",
    "                - Does it have a number?\n",
    "                - Suffixes up to length 3\n",
    "\n",
    "            Note that : we might include feature over previous word, next word etc.\n",
    "\n",
    "            :return: a list which contains the features\n",
    "            :rtype: list(str)\n",
    "            \"\"\"\n",
    "            token = tokens[idx]\n",
    "\n",
    "            feature_list = []\n",
    "\n",
    "            if not token:\n",
    "                return feature_list\n",
    "\n",
    "            # Capitalization\n",
    "            if token[0].isupper():\n",
    "                feature_list.append(\"CAPITALIZATION\")\n",
    "\n",
    "            # Number\n",
    "            if re.search(self._pattern, token) is not None:\n",
    "                feature_list.append(\"HAS_NUM\")\n",
    "\n",
    "            # Punctuation\n",
    "            punc_cat = {\"Pc\", \"Pd\", \"Ps\", \"Pe\", \"Pi\", \"Pf\", \"Po\"}\n",
    "            if all(unicodedata.category(x) in punc_cat for x in token):\n",
    "                feature_list.append(\"PUNCTUATION\")\n",
    "\n",
    "            # Suffix up to length 3\n",
    "            if len(token) > 1:\n",
    "                feature_list.append(\"SUF_\" + token[-1:])\n",
    "            if len(token) > 2:\n",
    "                feature_list.append(\"SUF_\" + token[-2:])\n",
    "            if len(token) > 3:\n",
    "                feature_list.append(\"SUF_\" + token[-3:])\n",
    "\n",
    "                \n",
    "            # Current word\n",
    "            feature_list.append(\"WORD_\" + token)\n",
    "            \n",
    "            ### WRITE YOUR OWN CODE HERE ###\n",
    "            if idx > 0:\n",
    "                feature_list.append(\"PREVWORD_\" + tokens[idx-1])\n",
    "            if idx < len(tokens)-1:\n",
    "                feature_list.append(\"NEXTWORD_\" + tokens[idx+1])\n",
    "                \n",
    "            ####\n",
    "\n",
    "            return feature_list\n",
    "                "
   ]
  },
  {
   "cell_type": "code",
   "execution_count": 21,
   "id": "61e35825",
   "metadata": {},
   "outputs": [],
   "source": [
    "# Train a CRF NER tagger\n",
    "def train_CustomCRF_NER_tagger(train_set):\n",
    "    ### WRITE YOUR OWN CODE HERE\n",
    "    tagger = CustomCRFTagger()\n",
    "    tagger.train(train_set, 'model.crf.tagger')\n",
    "    return tagger  # return the trained model\n",
    "\n",
    "tagger = train_CustomCRF_NER_tagger(train_set)"
   ]
  },
  {
   "cell_type": "code",
   "execution_count": 22,
   "id": "a0fd6d0a",
   "metadata": {
    "scrolled": true
   },
   "outputs": [
    {
     "name": "stdout",
     "output_type": "stream",
     "text": [
      "F1 score for class Chemical = 0.8207834381976863\n",
      "F1 score for class Disease = 0.6922183507549361\n",
      "Macro-average f1 score = 0.7565008944763112\n"
     ]
    }
   ],
   "source": [
    "predicted_tags = tagger.tag_sents(test_sentences_ner)\n",
    "cal_span_level_f1(test_set, predicted_tags)"
   ]
  },
  {
   "cell_type": "markdown",
   "id": "8558e9fb",
   "metadata": {},
   "source": [
    "## Adding POS tag to feature"
   ]
  },
  {
   "cell_type": "code",
   "execution_count": 23,
   "id": "c8058f14",
   "metadata": {},
   "outputs": [
    {
     "name": "stderr",
     "output_type": "stream",
     "text": [
      "[nltk_data] Downloading package averaged_perceptron_tagger to\n",
      "[nltk_data]     /Users/dangngocbach/nltk_data...\n",
      "[nltk_data]   Package averaged_perceptron_tagger is already up-to-\n",
      "[nltk_data]       date!\n"
     ]
    }
   ],
   "source": [
    "# Download the package for PoS tagging\n",
    "nltk.download('averaged_perceptron_tagger')\n",
    "\n",
    "# Some arbitrary token sequence to see how it works...\n",
    "example_sentence = [\"PoS\", \"tags\", \"often\", \"provide\", \"useful\", \"information\", \"for\", \"identifying\", \"entities\"]\n",
    "\n",
    "# Tag the sentence...\n",
    "pos_tagged_tokens = nltk.pos_tag(example_sentence)"
   ]
  },
  {
   "cell_type": "code",
   "execution_count": 73,
   "id": "d55bea5b",
   "metadata": {},
   "outputs": [
    {
     "data": {
      "text/plain": [
       "[('PoS', 'NNP'),\n",
       " ('tags', 'NNS'),\n",
       " ('often', 'RB'),\n",
       " ('provide', 'VBP'),\n",
       " ('useful', 'JJ'),\n",
       " ('information', 'NN'),\n",
       " ('for', 'IN'),\n",
       " ('identifying', 'VBG'),\n",
       " ('entities', 'NNS')]"
      ]
     },
     "execution_count": 73,
     "metadata": {},
     "output_type": "execute_result"
    }
   ],
   "source": [
    "pos_tagged_tokens"
   ]
  },
  {
   "cell_type": "code",
   "execution_count": 24,
   "id": "54879392",
   "metadata": {},
   "outputs": [],
   "source": [
    "# *** Improve the CRF NER tagger using parts of speech (see lab 5) as additional features.\n",
    "class CRFTaggerWithPOS(CustomCRFTagger):\n",
    "    _current_tokens = None\n",
    "    \n",
    "    def _get_features(self, tokens, index):\n",
    "        \"\"\"\n",
    "        Extract the features for a token and append the POS tag as an additional feature.\n",
    "        \"\"\"\n",
    "        basic_features = super()._get_features(tokens, index)\n",
    "        \n",
    "        # Get the pos tags for the current sentence and save it\n",
    "        if tokens != self._current_tokens:\n",
    "            self._pos_tagged_tokens = nltk.pos_tag(tokens)\n",
    "            self._current_tokens = tokens\n",
    "            \n",
    "            \n",
    "        ### WRITE YOUR OWN CODE HERE\n",
    "        basic_features.append(self._pos_tagged_tokens[index][1])\n",
    "        ###\n",
    "        \n",
    "        return basic_features"
   ]
  },
  {
   "cell_type": "code",
   "execution_count": 32,
   "id": "b774291e",
   "metadata": {},
   "outputs": [],
   "source": [
    "# Train a CRF NER tagger\n",
    "def train_CRF_NER_tagger_with_POS(train_set):\n",
    "    ### WRITE YOUR OWN CODE HERE\n",
    "    tagger = CRFTaggerWithPOS()\n",
    "    tagger.train(train_set, 'model.crf.tagger')\n",
    "    return tagger  # return the trained model\n",
    "\n",
    "tagger = train_CRF_NER_tagger_with_POS(train_set)"
   ]
  },
  {
   "cell_type": "code",
   "execution_count": 33,
   "id": "8eb2fc8f",
   "metadata": {
    "scrolled": false
   },
   "outputs": [
    {
     "name": "stdout",
     "output_type": "stream",
     "text": [
      "F1 score for class Chemical = 0.8255919395465995\n",
      "F1 score for class Disease = 0.688230008984726\n",
      "Macro-average f1 score = 0.7569109742656628\n"
     ]
    }
   ],
   "source": [
    "predicted_tags = tagger.tag_sents(test_sentences_ner)\n",
    "cal_span_level_f1(test_set, predicted_tags)"
   ]
  },
  {
   "cell_type": "code",
   "execution_count": 34,
   "id": "33b26371",
   "metadata": {
    "scrolled": false
   },
   "outputs": [
    {
     "name": "stdout",
     "output_type": "stream",
     "text": [
      "Sentence: Famotidine is a histamine H2 - receptor antagonist used in inpatient settings for prevention of stress ulcers and is showing increasing popularity because of its low cost .\n",
      "True tags: ['B-Chemical', 'O', 'O', 'O', 'O', 'O', 'O', 'O', 'O', 'O', 'O', 'O', 'O', 'O', 'O', 'O', 'B-Disease', 'O', 'O', 'O', 'O', 'O', 'O', 'O', 'O', 'O', 'O', 'O']\n",
      "Predicted tags: ['B-Chemical', 'O', 'O', 'B-Chemical', 'O', 'O', 'O', 'O', 'O', 'O', 'O', 'O', 'O', 'O', 'O', 'O', 'O', 'O', 'O', 'O', 'O', 'O', 'O', 'O', 'O', 'O', 'O', 'O']\n",
      "---\n",
      "Sentence: After a single oral dose of 4 mg / kg indomethacin ( IDM ) to sodium and volume depleted rats plasma renin activity ( PRA ) and systolic blood pressure fell significantly within four hours .\n",
      "True tags: ['O', 'O', 'O', 'O', 'O', 'O', 'O', 'O', 'O', 'O', 'B-Chemical', 'O', 'B-Chemical', 'O', 'O', 'B-Chemical', 'O', 'O', 'O', 'O', 'O', 'O', 'O', 'O', 'O', 'O', 'O', 'O', 'O', 'O', 'O', 'O', 'O', 'O', 'O', 'O']\n",
      "Predicted tags: ['O', 'O', 'O', 'O', 'O', 'O', 'O', 'O', 'O', 'O', 'B-Chemical', 'O', 'O', 'O', 'O', 'B-Chemical', 'O', 'O', 'O', 'O', 'O', 'O', 'O', 'O', 'B-Chemical', 'O', 'O', 'O', 'O', 'O', 'O', 'O', 'O', 'O', 'O', 'O']\n",
      "---\n",
      "Sentence: Scleroderma renal crisis ( SRC ) is a rare complication of systemic sclerosis ( SSc ) but can be severe enough to require temporary or permanent renal replacement therapy .\n",
      "True tags: ['B-Disease', 'I-Disease', 'I-Disease', 'O', 'B-Disease', 'O', 'O', 'O', 'O', 'O', 'O', 'B-Disease', 'I-Disease', 'O', 'B-Disease', 'O', 'O', 'O', 'O', 'O', 'O', 'O', 'O', 'O', 'O', 'O', 'O', 'O', 'O', 'O']\n",
      "Predicted tags: ['B-Disease', 'I-Disease', 'I-Disease', 'O', 'O', 'O', 'O', 'O', 'O', 'O', 'O', 'B-Disease', 'I-Disease', 'O', 'O', 'O', 'O', 'O', 'O', 'O', 'O', 'O', 'O', 'O', 'O', 'O', 'O', 'O', 'O', 'O']\n",
      "---\n",
      "Sentence: Moderate to high dose corticosteroid use is recognized as a major risk factor for SRC .\n",
      "True tags: ['O', 'O', 'O', 'O', 'B-Chemical', 'O', 'O', 'O', 'O', 'O', 'O', 'O', 'O', 'O', 'B-Disease', 'O']\n",
      "Predicted tags: ['O', 'O', 'O', 'O', 'O', 'O', 'O', 'O', 'O', 'O', 'O', 'O', 'O', 'O', 'O', 'O']\n",
      "---\n",
      "Sentence: Furthermore , there have been reports of thrombotic microangiopathy precipitated by cyclosporine in patients with SSc .\n",
      "True tags: ['O', 'O', 'O', 'O', 'O', 'O', 'O', 'B-Disease', 'I-Disease', 'O', 'O', 'B-Chemical', 'O', 'O', 'O', 'B-Disease', 'O']\n",
      "Predicted tags: ['O', 'O', 'O', 'O', 'O', 'O', 'O', 'B-Disease', 'I-Disease', 'O', 'O', 'B-Chemical', 'O', 'O', 'O', 'O', 'O']\n",
      "---\n",
      "Sentence: In this article , we report a patient with SRC induced by tacrolimus and corticosteroids .\n",
      "True tags: ['O', 'O', 'O', 'O', 'O', 'O', 'O', 'O', 'O', 'B-Disease', 'O', 'O', 'B-Chemical', 'O', 'B-Chemical', 'O']\n",
      "Predicted tags: ['O', 'O', 'O', 'O', 'O', 'O', 'O', 'O', 'O', 'B-Chemical', 'O', 'O', 'B-Chemical', 'O', 'O', 'O']\n",
      "---\n",
      "Sentence: The aim of this work is to call attention to the risk of tacrolimus use in patients with SSc\n",
      "True tags: ['O', 'O', 'O', 'O', 'O', 'O', 'O', 'O', 'O', 'O', 'O', 'O', 'O', 'B-Chemical', 'O', 'O', 'O', 'O', 'B-Disease']\n",
      "Predicted tags: ['O', 'O', 'O', 'O', 'O', 'O', 'O', 'O', 'O', 'O', 'O', 'O', 'O', 'B-Chemical', 'O', 'O', 'O', 'O', 'B-Chemical']\n",
      "---\n",
      "Sentence: The risk and associated factors of methamphetamine psychosis in methamphetamine - dependent patients in Malaysia .\n",
      "True tags: ['O', 'O', 'O', 'O', 'O', 'O', 'B-Chemical', 'B-Disease', 'O', 'B-Chemical', 'O', 'O', 'O', 'O', 'O', 'O']\n",
      "Predicted tags: ['O', 'O', 'O', 'O', 'O', 'O', 'B-Chemical', 'B-Disease', 'O', 'B-Chemical', 'O', 'O', 'O', 'O', 'B-Disease', 'O']\n",
      "---\n",
      "Sentence: METHODS : This was a cross - sectional study conducted concurrently at a teaching hospital and a drug rehabilitation center in Malaysia .\n",
      "True tags: ['O', 'O', 'O', 'O', 'O', 'O', 'O', 'O', 'O', 'O', 'O', 'O', 'O', 'O', 'O', 'O', 'O', 'O', 'O', 'O', 'O', 'O', 'O']\n",
      "Predicted tags: ['O', 'O', 'O', 'O', 'O', 'O', 'O', 'O', 'O', 'O', 'O', 'O', 'O', 'O', 'O', 'O', 'O', 'O', 'O', 'O', 'O', 'B-Disease', 'O']\n",
      "---\n",
      "Sentence: 706 ), antisocial personality disorder ( OR = 12 .\n",
      "True tags: ['O', 'O', 'B-Disease', 'I-Disease', 'I-Disease', 'O', 'O', 'O', 'O', 'O']\n",
      "Predicted tags: ['O', 'O', 'O', 'B-Disease', 'I-Disease', 'O', 'O', 'O', 'O', 'O']\n",
      "---\n",
      "Sentence: Major depressive disorder ( OR = 2 .\n",
      "True tags: ['B-Disease', 'I-Disease', 'I-Disease', 'O', 'O', 'O', 'O', 'O']\n",
      "Predicted tags: ['O', 'B-Disease', 'I-Disease', 'O', 'O', 'O', 'O', 'O']\n",
      "---\n",
      "Sentence: 142 ) and antisocial personality disorder ( OR = 3 .\n",
      "True tags: ['O', 'O', 'O', 'B-Disease', 'I-Disease', 'I-Disease', 'O', 'O', 'O', 'O', 'O']\n",
      "Predicted tags: ['O', 'O', 'O', 'O', 'B-Disease', 'I-Disease', 'O', 'O', 'O', 'O', 'O']\n",
      "---\n",
      "Sentence: It was associated with co - morbid affective disorder , antisocial personality , and heavy methamphetamine use .\n",
      "True tags: ['O', 'O', 'O', 'O', 'O', 'O', 'O', 'B-Disease', 'I-Disease', 'O', 'B-Disease', 'I-Disease', 'O', 'O', 'O', 'B-Chemical', 'O', 'O']\n",
      "Predicted tags: ['O', 'O', 'O', 'O', 'O', 'O', 'O', 'B-Disease', 'I-Disease', 'O', 'O', 'O', 'O', 'O', 'O', 'B-Chemical', 'O', 'O']\n",
      "---\n",
      "Sentence: This was evident only when a sensory component was involved in the induction of plasticity , indicating that cerebellar sensory processing function is involved in the resurgence of M1 plasticity .\n",
      "True tags: ['O', 'O', 'O', 'O', 'O', 'O', 'O', 'O', 'O', 'O', 'O', 'O', 'O', 'O', 'O', 'O', 'O', 'O', 'O', 'O', 'O', 'O', 'O', 'O', 'O', 'O', 'O', 'O', 'O', 'O', 'O']\n",
      "Predicted tags: ['O', 'O', 'O', 'O', 'O', 'O', 'O', 'O', 'O', 'O', 'O', 'O', 'O', 'O', 'B-Disease', 'O', 'O', 'O', 'O', 'O', 'O', 'O', 'O', 'O', 'O', 'O', 'O', 'O', 'O', 'O', 'O']\n",
      "---\n",
      "Sentence: To explore whether this benefit is linked to the restoration of sensorimotor plasticity of M1 , we conducted an additional study looking at changes in LIDs and PAS - induced plasticity after 10 sessions of either bilateral , real inhibitory cerebellar stimulation or sham stimulation .\n",
      "True tags: ['O', 'O', 'O', 'O', 'O', 'O', 'O', 'O', 'O', 'O', 'O', 'O', 'O', 'O', 'O', 'O', 'O', 'O', 'O', 'O', 'O', 'O', 'O', 'O', 'O', 'B-Disease', 'O', 'O', 'O', 'O', 'O', 'O', 'O', 'O', 'O', 'O', 'O', 'O', 'O', 'O', 'O', 'O', 'O', 'O', 'O', 'O']\n",
      "Predicted tags: ['O', 'O', 'O', 'O', 'O', 'O', 'O', 'O', 'O', 'O', 'O', 'O', 'O', 'O', 'O', 'O', 'O', 'O', 'O', 'O', 'O', 'O', 'O', 'O', 'O', 'B-Disease', 'O', 'O', 'O', 'O', 'B-Disease', 'O', 'O', 'O', 'O', 'O', 'O', 'O', 'O', 'O', 'O', 'O', 'O', 'O', 'O', 'O']\n",
      "---\n",
      "Sentence: 9 % saline ( 4 ml / kg ); the rats in the model group were i .\n",
      "True tags: ['O', 'O', 'O', 'O', 'O', 'O', 'O', 'O', 'O', 'O', 'O', 'O', 'O', 'O', 'O', 'O', 'O', 'O']\n",
      "Predicted tags: ['O', 'O', 'B-Chemical', 'O', 'O', 'O', 'O', 'O', 'O', 'O', 'O', 'O', 'O', 'O', 'O', 'O', 'O', 'O']\n",
      "---\n",
      "Sentence: injected with CYP with subsequently perfusion of bladder with P2X3 and NK1 receptors ' antagonists , Suramin and GR 82334 .\n",
      "True tags: ['O', 'O', 'B-Chemical', 'O', 'O', 'O', 'O', 'O', 'O', 'O', 'O', 'O', 'O', 'O', 'O', 'O', 'B-Chemical', 'O', 'B-Chemical', 'I-Chemical', 'O']\n",
      "Predicted tags: ['O', 'O', 'O', 'O', 'O', 'O', 'O', 'O', 'O', 'B-Chemical', 'O', 'O', 'O', 'O', 'O', 'O', 'B-Chemical', 'O', 'O', 'O', 'O']\n",
      "---\n",
      "Sentence: Spontaneous pain behaviors following the administration of CYP were observed .\n",
      "True tags: ['O', 'B-Disease', 'O', 'O', 'O', 'O', 'O', 'B-Chemical', 'O', 'O', 'O']\n",
      "Predicted tags: ['B-Disease', 'I-Disease', 'I-Disease', 'O', 'O', 'O', 'O', 'O', 'O', 'O', 'O']\n",
      "---\n",
      "Sentence: Urodynamic parameters , bladder pressure - volume curve , maximum voiding pressure ( MVP ), and maximum cystometric capacity ( MCC ), were recorded .\n",
      "True tags: ['O', 'O', 'O', 'O', 'O', 'O', 'O', 'O', 'O', 'O', 'O', 'O', 'O', 'O', 'O', 'O', 'O', 'O', 'O', 'O', 'O', 'O', 'O', 'O', 'O']\n",
      "Predicted tags: ['O', 'O', 'O', 'O', 'O', 'O', 'O', 'O', 'O', 'O', 'O', 'O', 'O', 'B-Chemical', 'O', 'O', 'O', 'O', 'O', 'O', 'B-Chemical', 'O', 'O', 'O', 'O']\n",
      "---\n",
      "Sentence: In model group , the expression of P2X3 receptor increased in urothelium and suburothelium , and NK1 receptor increased in suburothelium , while the expression of them in intervention group was lower .\n",
      "True tags: ['O', 'O', 'O', 'O', 'O', 'O', 'O', 'O', 'O', 'O', 'O', 'O', 'O', 'O', 'O', 'O', 'O', 'O', 'O', 'O', 'O', 'O', 'O', 'O', 'O', 'O', 'O', 'O', 'O', 'O', 'O', 'O', 'O']\n",
      "Predicted tags: ['O', 'O', 'O', 'O', 'O', 'O', 'O', 'O', 'O', 'O', 'O', 'B-Chemical', 'O', 'B-Chemical', 'O', 'O', 'O', 'O', 'O', 'O', 'B-Chemical', 'O', 'O', 'O', 'O', 'O', 'O', 'O', 'O', 'O', 'O', 'O', 'O']\n",
      "---\n"
     ]
    }
   ],
   "source": [
    "import numpy as np\n",
    "import nltk\n",
    "from nltk.tag import CRFTagger\n",
    "\n",
    "predicted_tags = tagger.tag_sents(test_sentences_ner)\n",
    "\n",
    "# Convert predicted tags and true tags to flat lists for comparison\n",
    "flat_pred_tags = [tag for sent in predicted_tags for _, tag in sent]\n",
    "flat_true_tags = [ner_tag_mapping[int(tag)] for tags in test_labels_ner for tag in tags]\n",
    "\n",
    "# Identify misclassified indexes\n",
    "error_indexes = np.array(flat_pred_tags) != np.array(flat_true_tags)\n",
    "\n",
    "# Extract sentences, true tags, and predicted tags for misclassified instances\n",
    "misclassified_sentences = []\n",
    "misclassified_true_tags = []\n",
    "misclassified_pred_tags = []\n",
    "\n",
    "# Track the index in the flattened list\n",
    "flat_idx = 0\n",
    "\n",
    "for sentence, true_tags, pred_tags in zip(test_sentences_ner, test_labels_ner, predicted_tags):\n",
    "    sentence_len = len(sentence)\n",
    "    sentence_error = False\n",
    "    for i in range(sentence_len):\n",
    "        if error_indexes[flat_idx + i]:\n",
    "            sentence_error = True\n",
    "    if sentence_error:\n",
    "        misclassified_sentences.append(sentence)\n",
    "        misclassified_true_tags.append([ner_tag_mapping[int(tag)] for tag in true_tags])\n",
    "        misclassified_pred_tags.append([tag for _, tag in pred_tags])\n",
    "    flat_idx += sentence_len\n",
    "\n",
    "# Display the first 20 misclassified examples\n",
    "for i in range(min(20, len(misclassified_sentences))):\n",
    "    print(f'Sentence: {\" \".join(misclassified_sentences[i])}')\n",
    "    print(f'True tags: {misclassified_true_tags[i]}')\n",
    "    print(f'Predicted tags: {misclassified_pred_tags[i]}')\n",
    "    print('---')\n"
   ]
  },
  {
   "cell_type": "markdown",
   "id": "60ad68bc",
   "metadata": {},
   "source": [
    "# Find similarity top5 and bottom5 of a query"
   ]
  },
  {
   "cell_type": "markdown",
   "id": "36b15aaf",
   "metadata": {},
   "source": [
    "## 1. Word Embedding using word2vec"
   ]
  },
  {
   "cell_type": "code",
   "execution_count": 85,
   "id": "5d9102c3",
   "metadata": {},
   "outputs": [],
   "source": [
    "def extract_all_diseases(test_set):\n",
    "    disease_entities = []\n",
    "    for sentence in test_set:\n",
    "        current_entity = []\n",
    "        for token, tag in sentence:\n",
    "            if tag == 'B-Disease':\n",
    "                if current_entity:  # If there's already a disease entity, save it\n",
    "                    disease_entities.append(' '.join(current_entity))\n",
    "                current_entity = [token]  # Start a new disease entity\n",
    "            elif tag == 'I-Disease' and current_entity:\n",
    "                current_entity.append(token)  # Continue the disease entity\n",
    "            else:\n",
    "                if current_entity:  # If there was a disease entity, save it\n",
    "                    disease_entities.append(' '.join(current_entity))\n",
    "                current_entity = []  # Reset for next potential entity\n",
    "        if current_entity:  # Add any remaining entity at the end of the sentence\n",
    "            disease_entities.append(' '.join(current_entity))\n",
    "    return disease_entities\n",
    "\n",
    "\n",
    "# Use the function to get all disease entities from the test set\n",
    "disease_entities = extract_all_diseases(test_set)\n"
   ]
  },
  {
   "cell_type": "code",
   "execution_count": 135,
   "id": "c1d0d68e",
   "metadata": {},
   "outputs": [],
   "source": [
    "##Similarity\n",
    "\n",
    "from gensim.models import word2vec\n",
    "from gensim.utils import tokenize\n",
    "\n",
    "emb_model = word2vec.Word2Vec(test_sentences_ner, sg=1, min_count=1, window=3, vector_size=100, epochs=30)\n"
   ]
  },
  {
   "cell_type": "code",
   "execution_count": 136,
   "id": "b03fd272",
   "metadata": {
    "scrolled": false
   },
   "outputs": [
    {
     "data": {
      "text/plain": [
       "array([-0.312716  ,  0.04542065, -0.02092936, -0.08925087,  0.01365494,\n",
       "        0.06018087,  0.1555196 ,  0.07812367, -0.48636788, -0.18968345,\n",
       "       -0.14114791, -0.30868667,  0.0209999 ,  0.12710884,  0.25106195,\n",
       "       -0.10148634,  0.0544029 , -0.05448128, -0.09227941, -0.20394005,\n",
       "        0.27144694,  0.16110562,  0.34318063, -0.1383569 ,  0.12531379,\n",
       "        0.15428202, -0.03332406, -0.17248991, -0.23095   ,  0.1183819 ,\n",
       "        0.30243316, -0.04523508,  0.03777337, -0.2618558 ,  0.01162463,\n",
       "        0.06375823, -0.0153933 ,  0.00823484,  0.03791991, -0.2035484 ,\n",
       "       -0.07207155, -0.22247878, -0.07345229, -0.04688302,  0.1254842 ,\n",
       "        0.10776123, -0.00911068,  0.10012401, -0.05780936, -0.06223692,\n",
       "        0.43635696,  0.06757057, -0.05826481, -0.06820453, -0.09701441,\n",
       "        0.0602355 ,  0.14931507,  0.05237325,  0.04074718, -0.04173224,\n",
       "        0.01931452,  0.15890487, -0.00261541,  0.2204366 , -0.34486297,\n",
       "        0.09957571,  0.04965109,  0.22131118, -0.10788109,  0.36296305,\n",
       "       -0.07974301,  0.00923775,  0.03770707,  0.16644017,  0.26236618,\n",
       "        0.03346347, -0.03990365, -0.02256215, -0.17029071,  0.04925971,\n",
       "       -0.04110751, -0.10812028, -0.2925784 ,  0.2214715 , -0.21244773,\n",
       "       -0.20475283,  0.01142848, -0.02170872,  0.28259203, -0.15964836,\n",
       "        0.03896687,  0.17431465,  0.00115165,  0.22637208,  0.37403855,\n",
       "       -0.146002  ,  0.24439438, -0.12621506, -0.00665545, -0.04008695],\n",
       "      dtype=float32)"
      ]
     },
     "execution_count": 136,
     "metadata": {},
     "output_type": "execute_result"
    }
   ],
   "source": [
    "emb_model.wv['migraines']"
   ]
  },
  {
   "cell_type": "code",
   "execution_count": 137,
   "id": "f0685a06",
   "metadata": {
    "scrolled": false
   },
   "outputs": [
    {
     "name": "stdout",
     "output_type": "stream",
     "text": [
      "Most similar diseases:\n",
      "impulsiveness (similarity: 0.6691165566444397)\n",
      "thromboembolism (similarity: 0.6322165727615356)\n",
      "agoraphobia (similarity: 0.6304432153701782)\n",
      "hematuria (similarity: 0.6226135492324829)\n",
      "aggressiveness (similarity: 0.6197142004966736)\n"
     ]
    }
   ],
   "source": [
    "# Assume emb_model is trained on full sentences\n",
    "query_disease = 'depression'\n",
    "\n",
    "# Suppose 'diseases' is your set of disease entities\n",
    "all_similar = emb_model.wv.most_similar(query_disease, topn=200)  # Get a broader range of similar words\n",
    "\n",
    "\n",
    "\n",
    "similar_diseases = [item for item in all_similar if item[0] in disease_entities][:5]  # Filter for diseases\n",
    "\n",
    "print(\"Most similar diseases:\")\n",
    "for disease, similarity in similar_diseases:\n",
    "    print(f\"{disease} (similarity: {similarity})\")\n"
   ]
  },
  {
   "cell_type": "markdown",
   "id": "d95a3ce5",
   "metadata": {},
   "source": [
    "### retrieve bottom 5"
   ]
  },
  {
   "cell_type": "code",
   "execution_count": 141,
   "id": "977477d7",
   "metadata": {},
   "outputs": [
    {
     "name": "stdout",
     "output_type": "stream",
     "text": [
      "Bottom 5 similar diseases:\n",
      "VT (similarity: 0.15398073196411133)\n",
      "RRMM (similarity: 0.1658707857131958)\n",
      "thrush (similarity: 0.16753792762756348)\n",
      "nephropathy (similarity: 0.18486620485782623)\n",
      "amnesia (similarity: 0.20589977502822876)\n"
     ]
    }
   ],
   "source": [
    "vocab = emb_model.wv.key_to_index.keys()\n",
    "# Assuming emb_model is trained on full sentences\n",
    "query_disease = 'depression'\n",
    "\n",
    "# Suppose 'disease_entities' is your set of disease entities\n",
    "vocab = emb_model.wv.key_to_index.keys()  # Get all words in the vocabulary\n",
    "\n",
    "# Calculate similarity for all words in the vocabulary\n",
    "all_similarities = [(word, emb_model.wv.similarity(query_disease, word)) for word in vocab if word in disease_entities]\n",
    "\n",
    "# Sort the similarities in ascending order\n",
    "all_similarities.sort(key=lambda x: x[1])\n",
    "\n",
    "# Get the bottom 5 most similar diseases\n",
    "bottom_similar_diseases = all_similarities[:5]\n",
    "\n",
    "print(\"Bottom 5 similar diseases:\")\n",
    "for disease, similarity in bottom_similar_diseases:\n",
    "    print(f\"{disease} (similarity: {similarity})\")\n"
   ]
  },
  {
   "cell_type": "code",
   "execution_count": 127,
   "id": "8e367dd0",
   "metadata": {},
   "outputs": [],
   "source": [
    "# count=0\n",
    "# top5=[]\n",
    "# for item in all_similar:\n",
    "#     if item[0] in disease_entities:\n",
    "#         count+=1\n",
    "#         top5.append(item)\n",
    "#         if count==5:\n",
    "#             break\n",
    "# top5"
   ]
  },
  {
   "cell_type": "markdown",
   "id": "c2ccec8e",
   "metadata": {},
   "source": [
    "## 2. Term-document vector representation"
   ]
  },
  {
   "cell_type": "code",
   "execution_count": 37,
   "id": "9f9802dc",
   "metadata": {},
   "outputs": [],
   "source": [
    "document_set=test_set"
   ]
  },
  {
   "cell_type": "code",
   "execution_count": null,
   "id": "8c368eb2",
   "metadata": {},
   "outputs": [],
   "source": [
    "# filter out the disease with tag B-disease, "
   ]
  },
  {
   "cell_type": "code",
   "execution_count": 134,
   "id": "4c8c37d3",
   "metadata": {
    "scrolled": false
   },
   "outputs": [
    {
     "data": {
      "text/plain": [
       "['',\n",
       " 'ulcers',\n",
       " 'delirium',\n",
       " 'delirium',\n",
       " '',\n",
       " '',\n",
       " 'hypotension',\n",
       " '',\n",
       " '',\n",
       " '',\n",
       " 'scleroderma renal crisis',\n",
       " 'Scleroderma renal crisis, SRC, systemic sclerosis, SSc',\n",
       " 'SRC',\n",
       " 'thrombotic microangiopathy, SSc',\n",
       " 'SRC',\n",
       " 'SSc',\n",
       " 'psychosis',\n",
       " 'psychosis',\n",
       " 'psychosis']"
      ]
     },
     "execution_count": 134,
     "metadata": {},
     "output_type": "execute_result"
    }
   ],
   "source": [
    "filtered_corpus = []\n",
    "\n",
    "for sentence in document_set:\n",
    "    current_disease = []\n",
    "    diseases_in_sentence = []\n",
    "\n",
    "    for word, tag in sentence:\n",
    "        if tag == 'B-Disease':\n",
    "            if current_disease:\n",
    "                # Add the completed disease name to the list and start a new one\n",
    "                diseases_in_sentence.append(' '.join(current_disease))\n",
    "                current_disease = [word]\n",
    "            else:\n",
    "                # Start a new disease name\n",
    "                current_disease = [word]\n",
    "        elif tag == 'I-Disease' and current_disease:\n",
    "            # Continue building the current disease name\n",
    "            current_disease.append(word)\n",
    "        else:\n",
    "            if current_disease:\n",
    "                # Add the completed disease name to the list and reset for potentially new disease\n",
    "                diseases_in_sentence.append(' '.join(current_disease))\n",
    "                current_disease = []\n",
    "\n",
    "    # Check if there's an unfinished disease name at the end of the sentence\n",
    "    if current_disease:\n",
    "        diseases_in_sentence.append(' '.join(current_disease))\n",
    "\n",
    "    # Join all disease names in the sentence into a single string separated by commas\n",
    "    filtered_corpus.append(', '.join(diseases_in_sentence))\n",
    "\n",
    "filtered_corpus[1:20]"
   ]
  },
  {
   "cell_type": "code",
   "execution_count": 45,
   "id": "7a97e345",
   "metadata": {
    "scrolled": true
   },
   "outputs": [
    {
     "data": {
      "text/plain": [
       "['ulcers',\n",
       " 'hypotension',\n",
       " 'scleroderma renal crisis',\n",
       " 'Scleroderma renal crisis, SRC, systemic sclerosis, SSc',\n",
       " 'SRC',\n",
       " 'thrombotic microangiopathy, SSc',\n",
       " 'SSc',\n",
       " 'psychosis',\n",
       " 'psychosis, psychiatric disorders',\n",
       " 'psychotic symptoms',\n",
       " 'depressive disorder',\n",
       " 'bipolar disorder',\n",
       " 'antisocial personality disorder',\n",
       " 'Major depressive disorder',\n",
       " 'affective disorder, antisocial personality',\n",
       " \"Parkinson's disease, dyskinetic\",\n",
       " \"Parkinson's disease, PD, dyskinesias, LIDs\",\n",
       " 'LIDs',\n",
       " 'abnormal involuntary movements']"
      ]
     },
     "execution_count": 45,
     "metadata": {},
     "output_type": "execute_result"
    }
   ],
   "source": [
    "filtered_corpus = [item for item in filtered_corpus if item != '']\n",
    "filtered_corpus[1:20]"
   ]
  },
  {
   "cell_type": "code",
   "execution_count": 46,
   "id": "f94dc33c",
   "metadata": {
    "scrolled": true
   },
   "outputs": [
    {
     "name": "stdout",
     "output_type": "stream",
     "text": [
      "Unique List: ['delirium', 'ulcers', 'hypotension', 'scleroderma renal crisis', 'Scleroderma renal crisis, SRC, systemic sclerosis, SSc', 'SRC', 'thrombotic microangiopathy, SSc', 'SSc', 'psychosis', 'psychosis, psychiatric disorders', 'psychotic symptoms', 'depressive disorder', 'bipolar disorder', 'antisocial personality disorder', 'Major depressive disorder', 'affective disorder, antisocial personality', \"Parkinson's disease, dyskinetic\", \"Parkinson's disease, PD, dyskinesias, LIDs\", 'LIDs', 'abnormal involuntary movements', 'cystitis', 'pain', 'edema', 'hepatitis', 'hepatotoxicity, hepatitis', 'hepatotoxicity', 'hepatic injury', 'multiple myeloma', 'multiple myeloma, MM', 'MM', 'peripheral neuropathy', 'anxiety', 'cardiotoxicity', 'Cardiovascular diseases, CVDs', 'multiple myeloma, Myeloma', 'multiple myeloma, RRMM', 'RRMM', 'myelosuppression', 'Peripheral neuropathy', 'deep vein thrombosis', 'hemorrhagic cystitis', 'genotoxicity', \"dyskinesia, Parkinson's disease\", \"Parkinson's disease, PD, dyskinesia\", 'dyskinesia, PD', 'PD', 'dyskinesia', 'Dyskinesia', 'proteinuria, AL, amyloidosis', 'Proteinuria, fibrosis, atrophy, glomerulopathy', 'amyloidosis, proteinuria', 'kidney injury', 'acute kidney injury, kidney tubular dysfunction, Fanconi syndrome', 'kidney disease, kidney tubular dysfunction, glomerular dysfunction, Fanconi syndrome', 'Fanconi syndrome', 'postoperative delirium', 'Postoperative delirium', 'delirium, neurological dysfunctions', 'confusion', 'neurotoxic, depressive', 'depressive symptoms', 'depressive', 'depression', 'optic neuropathy', 'loss of vision', 'extensively drug-resistant tuberculosis, XDR-TB, loss of vision', 'optic disc edema', 'toxic optic neuropathy', 'Deterioration of vision', 'cardiac toxicity', 'toxicity, cardiovascular collapse', 'ventricular tachycardia, fibrillation', 'thrombocytopenia type II', 'Thrombocytopenia, end-stage liver disease, portal hypertension, endotoxemia', 'thrombocytopenia type II, HIT type II, thrombocytopenia', 'thrombocytopenia, HIT type II', 'end-stage or malignant liver disease', 'HIT type II', 'thrombocytopenia, End-Stage Liver Disease, liver cirrhosis', 'HIT II', 'HIT, end-stage hepatic failure', 'Takotsubo syndrome, apical ballooning syndrome', 'Takotsubo syndrome, TS, broken heart syndrome, acute coronary syndrome, mitral valve prolapse, migraines, chest pain', 'TS', 'migraines', 'migraine headache', 'status migrainosus', 'coronary artery vasospasm, TS', 'Depression, impulsiveness', 'Depression, Impulsiveness', 'impaired memory, depression, impulsiveness, sleep disturbance', \"Parkinson's disease\", \"Parkinson's disease, dyskinesia, visual hallucinations\", \"idiopathic Parkinson's disease\", 'visual hallucinations', 'hyperlipemia', 'Hodgkin lymphoma', 'Hodgkin lymphoma, HL, malignancy', 'toxicity', 'HL, toxicity', 'HL', 'toxicities, neutropenia, thrombocytopenia', 'psychobiological dysfunction', 'anxiety, depression', 'encephalopathy', 'cancers, sarcomas, lymphoma, gynecologic and testicular cancers', 'Encephalopathy', 'Cancer, encephalopathy', 'convulsions, non-convulsive status epilepticus, NCSE', 'nephropathy, cancer', 'acute renal failure', 'hypertension', 'cancer', 'Hypertension', 'nephropathy, Hypertension', 'Syndrome of inappropriate antidiuretic hormone', 'syndrome of inappropriate anti-diuretic hormone, SIADH', 'hyponatraemia', 'nausea, anxiety, confusion', 'SIADH', 'hyponatremia', 'cardiac disarrangement, necrosis', 'necrosis', 'toxicity, toxicity', 'seizure', 'seizures', 'seizures, seizures', 'Seizures', 'tonic-clonic seizures', 'seizures, end-stage liver disease', 'seizures, seizure, epileptic', 'amnesia', 'memory loss', 'memory impairment', 'neurotoxicity, memory impairment', 'toxicity, memory impaired', 'Memory deficit', 'neuroinflammation', 'excitotoxicity', 'neurotoxicity', 'neuroinflammatory', 'nephropathy', 'acute renal failure, ARF', 'ARF', 'acute lymphoblastic leukemia', 'neurotoxicity, acute lymphoblastic leukemia', 'leukoencephalopathy, acute lymphoblastic leukemia', 'leukemia', 'leukoencephalopathy', 'attention problems', 'seizure, renal failure', 'chronic kidney disease, tubulointerstial disease', 'anemia, menorrhagia, deterioration of renal function', 'bleeding', 'tonic clonic convulsions', 'nervous system abnormalities, convulsions', 'convulsion', 'convulsions, overdose', 'cardiovascular depression', 'dysrhythmia, asystole', 'asystole', 'cardiotoxic', 'Drug-Induced Acute Liver Injury', 'drug-induced liver injury', 'liver damage', 'nausea, anorexia, abdominal pain', 'hepatic damage', 'agranulocytosis, thrombocytopenia', 'blood dyscrasias, agranulocytosis, thrombocytopenia', 'bone marrow suppression', 'myocardial strain, cardiac dysfunction', 'non-Hodgkin lymphoma', 'Cardiotoxicity, heart failure', 'cardiac dysfunction', 'myoclonus', 'Myoclonic movements', 'Cholestatic, poisoning', 'Poisoning, acute hepatitis, acute liver failure', 'poisoning, cholestasis, cholestasis, hepatotoxicity', 'Vasovagal syncope, bradycardia', 'syncope, bradycardia', 'bradycardia', 'agitation, schizo-affective disorder', 'schizo-affective disorder', 'personality disorder, antisocial disorder, substance abuse disorder', 'agitation, aggressiveness, personality disorder', 'manic, akathisia', 'agitation, agitation', 'weight loss', 'convulsive, seizures', 'convulsive, seizure, abnormal involuntary motor movements', 'Generalised and focal seizures', 'seizures, congestive heart failure, hypothermic', 'convulsive, seizures, seizures', 'Convulsive, seizures, postoperative complication', 'Dysfunctional overnight memory', 'sleep-related impairments', 'impaired overnight memory', 'memory impairments', 'encephalopathy, confusion, aggression, auditory hallucinations, delusions', 'hemiparesis, hemiplegic migraine', 'encephalopathy, encephalitis', 'Cerebellar and oculomotor dysfunction', 'nausea, vomiting, hypotension', 'impaired renal and liver function, pain, neurotoxic, irritability, seizure', 'dysmetria, dysarthria', 'Baboon syndrome', 'maculopapular eruption', 'baboon syndrome', 'Baboon syndrome, maculopapular eruption', 'Sudden Cardiac Death, Torsades de Pointes', 'atrial fibrillation, sudden cardiac death', 'torsade de pointes', 'torsades de pointes', 'atrial fibrillation', 'myositis, acute promyelocytic leukemia', 'acute promyelocytic leukemia, APL', 'myositis', 'APL', 'lymphoma', 'toxicity, lymphoma', 'Neutropenia, neutropenia, neutropenia', 'neutropenia', 'renal toxicity, hemorrhagic cystitis', 'tumor', 'T-cell lymphoblastic lymphoma', 'leukemic', 'tumor lysis syndrome, TLS', 'neuropathy', 'hyperammonemic, encephalopathy', 'Neurological complications', 'epilepsy, impaired consciousness, hyperammonemia', 'Necrotising fasciitis, Waldenstrom macroglobulinaemia', 'bacterial infections, malignancies', 'Waldenstrom macroglobulinaemia, necrotising fasciitis, neutropenia', 'bacterial infections', 'cardiomyopathy, toxicity', 'subcellular degeneration', 'cardiomyocyte degeneration, hypertrophy', 'fibrosis', 'LV dysfunction', 'diastolic dysfunction', 'cardiomyocyte degeneration', 'hyperalgesia, allodynia', 'pain, hyperalgesia, allodynia, pain disorders', 'secondary hyperalgesia, allodynia', 'hyperalgesia', 'secondary hyperalgesia', 'allodynia', 'hyperalgesic, allodynic', 'glaucoma, glaucoma', 'ocular hypertension', 'glaucoma, primary open-angle glaucoma, POAG, glaucoma', 'retinal ganglion, axonal degeneration, glaucoma', 'ocular hypertension, glaucoma', 'hyperalgesia, OIH', 'OIH, opioid addiction', 'OIH', 'hypotension, bradycardia', 'mitochondrial dysfunction, cardiotoxicity, breast cancer', 'cancer, cardiovascular disease', 'cardiotoxicity, mitochondrial dysfunction', 'cardiac toxicity, breast cancer', 'breast tumors', 'Cardiac disturbances', 'cardiac disturbances', 'heart damage', 'myxoedema coma', 'bradycardia, hypothermia, respiratory failure, atrial fibrillation', 'myxoedema coma, thyroid disease', 'thrombolysis, thrombocytopenia, thrombosis', 'thrombocytopenia, thrombosis, HITT, thrombolysis', 'amyloidosis, upper-extremity deep venous thrombosis, DVT, pulmonary embolism, thrombocytopenia', 'superior vena cava (SVC) syndrome', 'epistaxis', 'vision and hearing loss, end-stage renal disease', 'amyloidosis, SVC syndrome, HITT', 'schizophrenia', 'hyper', 'catalepsy, schizophrenia', 'hyper, catalepsy', 'catalepsy', 'QT prolongation', 'Torsade de Pointes, TdP', 'TdP', 'embryolethality, teratogenicity, ventricular septal defects, growth retardation, toxicity', 'Toxicity, embryolethality, teratogenicity, growth retardation', 'embryonic death, ventricular septal defect', 'teratogenic', 'Renal Toxicity, Cancer', 'nephrotoxicity', 'nephrotoxicity, cancer', 'acute kidney injury, AKI', 'head and neck cancer, malignancy', 'hypertension, nephrotoxicity', 'seizures, learning and memory impairments', 'Cognitive impairment, epilepsy', 'epilepsy', 'seizures, cognition deficits', 'cognitive deficits', 'seizures, cognitive impairment', 'cognitive impairment', 'epilepsy, cognitive impairment, seizures', 'cancer, cardiotoxicity', 'heart failure', 'arrhythmia', 'poisoning', 'myocardial injury, cytotoxicity', 'myocardial injury', 'left ventricular dysfunction, myocardial infarction', 'myocardial infarction, cardiac dysfunction, myocardial infarction', 'acute myocardial infarction', 'left ventricular dysfunction', 'tumor, necrosis', 'myocardial infarction', \"Neuroleptic malignant syndrome, Huntington's disease, breast cancer\", 'neuroleptic malignant syndrome', \"Huntington's disease\", 'breast cancer', 'sinus bradycardia', 'coronary artery disease, onychomycosis', 'adverse drug reaction, sinus bradycardia', 'optic neuropathy, polyneuropathy', 'visual loss, paresthesias', 'impaired the memory, memory impairment', 'skin diseases, diarrheas, inflammatory diseases', 'seizure, seizures', 'status epilepticus, seizure', 'acute kidney injury', 'Acute kidney injury, AKI', 'nephrotoxic, AKI', 'AKI', 'infections', 'Rhabdomyolysis, hepatitis C virus infected', 'hepatitis C virus infection', 'rhabdomyolysis', 'muscle toxicity', 'neutropenia, thrombocytopenia, cytopenia', 'Peripheral neuropathy, peripheral neuropathy', 'Renal lesions', 'proteinuria, renal impairment', 'kidney lesions', 'renal damage', 'acute renal injury', 'acute kidney injury, acute tubular necrosis', 'inflammation, diabetic nephropathy', 'weight loss, acute tubular necrosis', 'acute kidney injury, necrotic', 'birdshot retinochoroidopathy', 'inflammation, retinal vasculitis', 'cataract, raised intraocular pressure', 'inflammation', 'vasculitis', 'cystoid macular edema', 'increased intraocular pressure', 'cataract', 'inflammation, birdshot retinochoroidopathy', 'cataract, ocular hypertension', 'fasciculation, myalgia', 'muscle fasciculation, myalgia', 'fasciculations, myalgia', 'muscle fasciculation', 'myalgia', 'nephrogenic diabetes insipidus', 'nephrogenic diabetes insipidus, NDI', 'polyuria', 'NDI, polyuria', 'Dysguesia, dysguesia', 'hypertension, loss of taste sensation', 'dysguesia', 'Rhabdomyolysis', 'myopathy', 'apnea', 'Butyrylcholinesterase deficiency, apnea', 'anemia', 'hemolytic anemia, malaria', 'malaria', 'myocardial ischemia', 'myocardial ischemic injury', 'ventricular remodeling', 'myocardial damage', 'neutropenia, bipolar, hepatocellular carcinoma', 'blood dyscrasias, neutropenia', 'hepatocellular carcinoma, neutropenia', 'bipolar disorder, hepatocellular carcinoma', 'leucopenia', 'Hepatic dysfunction, fever', 'neuropathy, lateral epicondylitis', 'paresthesia, paresthesia', 'lateral epicondylitis', 'renal injury', 'proteinuria', 'renal injury, kidney injury, necrosis', 'tumours', 'lung cancer, cancer', 'cancer, tumour', 'cancer, cancer, lung cancer', 'Kidney cancer', 'prostate cancer, lung cancer', 'kidney cancer, prostate cancer', \"Parkinson's Disease\", 'glomerulosclerosis', 'intrauterine growth retardation, IUGR', 'IUGR, glomerulosclerosis', 'IUGR', 'glomerulosclerosis, interstitial fibrosis', 'dysplasia of fetal kidneys, glomerulosclerosis, glomerulosclerosis', 'CML', 'chronic myeloid leukemia, CML, CML', 'CML, Philadelphia chromosome', 'Cancer', 'liver neoplasms', 'cancers, cancers', 'liver cancer', 'follicular cell lymphoma, lymphoma', 'lung cancer', 'liver cancer, liver neoplasms', 'liver cancer, lymphoma', 'arrhythmia, arrhythmia', 'muscular dystrophy', 'Myopathy, myopathy', 'myodystrophy', 'myopathic, myopathy', 'myopathic, myopathic', 'myopathic', 'myopathic disease', 'cerebral and pulmonary hemorrhage', 'embryopathy, nasal hypoplasia, stippled epiphyses, chondrodysplasia punctata, Nasal hypoplasia, stippled epiphyses', 'headache, dizziness, palpitation, flushing', 'postural hypotension', 'asthmatics', 'asthma', 'asthmatic', 'tremor', 'palpitations', 'panic disorders', 'agoraphobia, panic attacks, panic disorder', 'anxiety, nausea, palpitations, restlessness, tremors', 'panic attacks', 'panic disorder, abnormalities in neuronal systems', 'anxiety disorders', 'cardiomyopathy', 'rheumatic disease, myxomatous degeneration', 'coronary disease', 'coronary artery disease', 'clonic seizure', 'clonic seizures', 'tonic seizures', 'carcinoma of the renal pelvis', 'hydroureteronephrosis, hematuria, cerebral vasculitis', 'hemorrhagic cystitis, carcinoma, carcinoma of the urinary tract', 'carcinomas of the urinary bladder, carcinoma of the prostate', 'urinary tract cancer', 'tumor, hydroureteronephrosis', 'obstructive uropathy', 'hyper- or hypotension, abdominal pain, vomiting, retained placenta, blood loss', 'blood loss', 'chest pain', 'Chest pain', 'ischemia', 'hypokinesis', 'tachydysrhythmias, sinus tachycardia', 'torsade de pointes, TdP', 'TdP, hypokalemia', 'bradycardia, TdP', 'proarrhythmia', 'TdP, hypokalemia, hypomagnesemia', 'Acute renal insufficiency, primary systemic amyloidosis', 'primary systemic amyloidosis, AL', 'acute renal insufficiency', 'AL', 'Acute renal insufficiency, ARI', 'ARI', 'hypoalbuminemia, proteinuria', 'tubular injury, renal injury', 'Impaired fear recognition', 'impaired fear recognition', 'deficit in fear recognition', 'psychopaths, impaired fear recognition, amygdala dysfunction', 'Corneal ulcers', 'corneal ulcers, drug abuse', 'corneal ulcers', 'substance abuse', 'epithelial defects', 'Drug abuse', 'idiopathic epilepsy', 'Seizure', 'seizures, seizure', 'seizures, seizure, lethargy, inappetence', 'haemorrhagic infarction of the globus pallidus', 'ischemic and haemorrhagic stroke', 'ischemia of the globus pallidus', 'globus pallidus infarctions', 'basal ganglia infarcts', 'cardiac arrhythmia, respiratory dysfunction, cerebral hypoperfusion', 'Acute renal failure', 'Burkitt lymphoma, hepatic and renal toxicity', 'acute renal failure, biliary atresia', 'PTLD, post-transplantation lymphoproliferative disorder, Burkitt-type malignant lymphoma', 'hypovolemia, acute prerenal failure', 'cerebral microbleeds, intracerebral hemorrhage', 'Cerebral microbleeds, MB, intracerebral hemorrhage, ICH', 'MB, ICH, ischemic stroke, IS, transient ischemic attack, TIA, stroke, TIA, MB, ICH, IS, TIA, ICH, ischemic', 'ICH, MB', 'ICH, IS, TIA, MB, ICH, IS, TIA', 'MB, ICH', 'IS, TIA', 'MB, ICH, MB, ICH', 'hyperprolactinemia', 'Macroprolactinemia', 'macroprolactinemia', 'macroprolactinoma', 'microprolactinoma', 'pseudoprolactinoma', 'pseudoprolactinoma, hyperprolactinemia', 'cataleptic', 'hypoglycaemia', 'Hypertension, diabetics, hypoglycaemia', 'endometrial disease', 'hyperplasia', 'hyperplasia, hyperplasia', 'endometrial carcinoma, hyperplasia, malignancy', 'endometrial hyperplasia, carcinoma', 'Pure red cell aplasia, toxic dermatitis, lymphadenopathy', 'skin rash, lymphadenopathy, pure red cell aplasia', 'Skin rash, lymphadenopathy', 'Pure red cell aplasia', 'infections, cancer', 'infections, cancer, neutropenia, neutropenia', 'Pneumonia, infection', 'pneumoniae, gram-negative bacillary infections', 'Azotemia', 'azotemia', 'renal toxicity', 'subarachnoid hemorrhage, acute renal artery thrombosis', 'subarachnoid hemorrhage, SAH, thrombotic', 'intracranial vascular thrombosis, SAH, thrombi, thromboembolic phenomena', 'thrombi, thrombi, disseminated intravascular coagulation, consumption coagulopathies, infarction, thrombosis of a normal renal artery', 'SAH, SAH', 'hypoglycemia, hyperbilirubinemia, polycythemia, neonatal apnea, bradycardia', 'Growth retardation', 'idiopathic orthostatic hypotension', 'hypersensitivity', 'pain, myoclonia', 'myoclonia', 'retinal artery and choriocapillaris occlusion', 'retinal artery and choriocapillaris occlusions, blindness', 'palsy, pupillary abnormalities, hemorrhages, edema', 'visual loss, chorioretinal atrophy', 'hemolytic anemia', 'renal disease, hemolytic anemia', 'hemolytic anemias', 'parkinsonian', 'Hypokalemia, parkinsonian', 'hypokalemia', 'encephalopathy, seizures', 'rash', 'infarction', 'Dehydrated, acute renal failure', 'renal failure', 'renal damages', 'renal lesions', 'Paraplegia', 'paraplegia', 'central nervous system leukemia, neurotoxic', 'folate deficiency, toxicity', 'neurotoxicity, central nervous system leukemia', 'enlargement of pulse pressure, tachycardia', 'Hyperglycemic', 'hyperglycemia, glucosuria', 'Fatty liver', 'fatty liver', 'myeloencephalopathy', 'leukaemia, sensory and motor dysfunction, encephalopathy', 'arrhythmic', 'thalassemia', 'renal insufficiency', 'hyperprolactinemia, amenorrhea, oligomenorrhea', 'psychiatric symptoms', 'hyperprolactinemia, amenorrhea, galactorrhea', 'convulsions', 'convulsive', 'Myocardial infarction', 'Spasm', 'Asterixis', 'asterixis', 'asterixis, neurotoxicity', 'hypotensive, parkinsonian', 'hypotensive', 'Syndrome of inappropriate secretion of antidiuretic hormone', 'lethargy, weakness, hyponatremia', 'syndrome of inappropriate secretion of antidiuretic hormone', 'Heart failure', 'arrhythmias', 'myocardial infarction, MI', 'hemolysis, acute renal failure', 'Renal failure', 'leprosy, hemolysis, acute renal failure', 'hepatitis, AIDS', 'AIDS', 'Thoracic hematomyelia', 'thoracic hematomyelia', 'Mania', 'mania', 'depressed, mania', 'mania, hypomania, attention-deficit hyperactivity disorder, depression, psychotic, affective disorder, bipolar disorder, bipolar disorder', 'hyperlipoproteinemias', 'hyperlipidemia, atherosclerotic vascular disease', 'Myositis, rhabdomyolysis, myoglobinuria', \"Hepatocellular carcinoma, Fanconi's anemia\", \"Fanconi's anemia\", 'septicemia, hemorrhagic bronchopneumonia', 'peliosis, hepatic tumors, hepatocellular carcinoma', \"hepatic neoplasms, peliosis, Fanconi's anemia\", 'hypertensive', 'hypotension, bradycardia, tachycardia', 'hypertension, hypertensive', 'Damage of substantia nigra pars reticulata, status epilepticus', 'epileptic seizure', 'prolonged status epilepticus, metabolic derangement', 'status epilepticus', 'neuronal damage', 'vasogenic edema', 'vasogenic edema, lesioned SNR', 'damage of SNR', 'neurotransmitter dysfunction, status epilepticus', 'toxicity, cardiotoxicity', 'cardiotoxicity, cardiotoxicity', 'post-herpetic neuralgia', 'post-herpetic neuralgia, PHN', 'mastitis', 'PHN, sensory disturbance, pain', 'PHN', 'paranoia', 'paranoid', 'paranoid, depressive and psychotic symptoms', 'depressive disorders, psychosis, psychosis, paranoid', 'paranoid, paranoia', 'encephalitis, loiasis', 'encephalitis, filariasis', 'encephalitis, microfilaremia', 'Delirium', 'headache', 'ischemia, reperfusion injury', 'ischemic, liver dysfunction', 'pulmonary tuberculosis', 'nausea, vomiting, fever', 'polyneuropathy', 'neurologic toxicity', 'axonal neuropathy', 'Neurologic toxicities', 'hypotension, tachycardia', 'neutropenia, renal failure, hypothyroidism', 'renal failure, neutropenia', 'hypothyroid', 'hypothyroid, hypothyroidism', 'hypercalcemia', 'hypercalcemic', 'hypercalcemia, renal disease', 'hemolytic anemia, syncope', 'autoimmune hemolytic anemia', 'hemolytic anemia, emergency department, syncope', 'trauma', 'hereditary angioedema', 'Menstrual abnormalities, weight gain, muscle cramps, myalgias', 'burns', 'infection, burn', 'burn', 'burn, burns', 'neurotoxic, neurotoxicity', 'tumors, brain tumors', 'neurological symptoms', 'central nervous system disease', 'neurotoxicity, neurotoxicity', 'neurotoxic', 'hepatitis, hepatocellular necrosis, lupus-like syndrome', 'hyperthyroidism', 'seizures, status epilepticus, seizures', 'status epilepticus, brain damage', 'bradycardia, autonomic neuropathy', 'diabetic, peripheral and autonomic neuropathy, chest pain', 'atrial flutter', 'tachycardia', 'renal carcinomas', 'Bradycardia', 'postzosteric, trigeminal neuralgia, bradycardia, dysarthria, dysphagia', 'hypotension, tachy- or bradycardia', 'hypotension, hypotension', 'hypotension, tachycardia, hypertension', 'Convulsion', 'Tonic-clonic seizures', 'ventricular tachycardia', 'hepatic failure', 'hepatocellular damage, drug hypersensitivity', 'pertussis', 'pertussis, encephalopathy', 'ischaemic, nephrotoxic, acute renal failure, ARF, acute renal failure, necrosis', 'acne', 'Blepharoconjunctivitis, dry eyes, blurred vision, photodermatitis', 'papilledema, pseudotumor cerebri, corneal opacities', 'congenital abnormalities, microphthalmos, hypertelorism, optic nerve hypoplasia', 'bronchial asthma', 'asthmatic, tremorgenic', 'heart hypertrophy', 'hypertrophy', 'hypertrophied hearts', 'hypertrophied', 'nausea, vomiting, tremors', 'anaphylaxis', 'anaphylaxis, anaphylaxis', 'dementia', 'dementia, epilepsy', 'hyperammonemia', 'retention deficit', 'pain, retention deficit', 'lesions of the urinary bladder', 'cystitis, edema, necroses', 'muscle fasciculations', 'cardiotoxic, diabetic', 'diabetes, cardiotoxic', 'diabetic', 'seizures, status epilepticus', 'seizures, seizure, brain damage', 'Acute neurologic dysfunction, malignant glioma', 'tumors, hematologic malignancies', 'cancers, malignant glioma', 'glioma, neurologic deterioration', 'confusion, papilledema, somnolence, motor deficits, seizure', 'tumor, edema', 'toxicity, malignant glioma', 'bile duct injury', 'jaundice', 'Cholestasis', 'drug-induced liver damage', 'bile duct destruction', 'cardiovascular disease, cardiovascular diseases', 'angina, hypertension', 'angina', 'subarachnoid hemorrhage, migraine headache, dementia, stroke', 'headache, flushing, palpitations, edema, nausea, anorexia, dizziness', 'nephrosis', 'focal segmental glomerular sclerosis, FSGS', 'nephrotic syndrome, renal failure', 'FSGS', 'toxicity, FSGS, end-stage renal disease', 'Hyperkalemia', 'rheumatoid arthritis, nephropathy, hyperkalemia, hypoaldosteronism', 'renal disease, type IV renal tubular acidosis', 'hyperkalemia', 'Hypotension, cardiotoxicity', 'hypotension, colorectal carcinoma, hypotension, left ventricular dysfunction', 'aplastic anemia', 'aplastic anemia, epileptic', 'bone marrow toxicity', 'bradycardiac', 'Hypertension, neuroblastoma', 'hypertension, neuroblastoma, behavior disorder', 'tumor, hypertensive', 'neuroblastoma', 'oral candidiasis, hoarseness', 'hoarseness, thrush', 'hoarseness, Candidiasis', 'thrush, hoarseness', 'hoarseness', 'hoarseness, candidiasis', 'aplastic anemia, Wiskott-Aldrich syndrome, severe combined immunodeficiency syndrome', 'congestive heart failure', 'Cardiotoxicity', 'Congestive heart failure', 'cardiotoxicity, aplastic anemia, immunodeficiencies', 'glomerular or tubular dysfunction', 'acute renal failure, liver disease, nephrotoxicity', 'acute renal failure, shock', 'seizure, seizure', 'seizure, seizure, seizure', 'hypothermia, hypothermia, seizure', 'temporal lobe epilepsy, convulsive, seizures', 'brain damage', 'myocardial infarction, MI, anterior infarction, ANT-MI, inferior infarction, INF-MI', 'ischemic, depression', 'MI, ANT-MI, INF-MI', 'depression, MI, ANT-MI, INF-MI', 'rheumatoid arthritis', 'heart disease', 'downbeat nystagmus, oscillopsia', 'Downbeat nystagmus', 'downbeat nystagmus', 'nystagmus', 'cardiac failure', 'epilepsy, infantile spasms', 'Seizures, seizures, seizures', 'drowsiness, ataxia', 'fatigue, dizziness, weakness', 'hyperbilirubinemia', 'papillary necrosis', 'renal damage, hematuria', 'pathological renal medullary lesions, deterioration of renal function', 'ventricular fibrillation, ventricular tachycardia, myocardial infarction', 'ventricular tachycardia, arrhythmias', 'myocardial infarction, infarction', 'hypotension, asystole', 'catalepsy, catalepsy', 'Cardiovascular dysfunction, hypersensitivity', 'disturbances within the cardiovascular system', 'metabolic disturbances, hypersensitivity, cardiomyopathic disorder', 'overdose, hypertension, intracerebral hemorrhage', 'stroke', 'glomerular sclerosis, nephrosis', 'mesangial dysfunction, glomerular sclerosis', 'proteinuric', 'glomerular sclerosis', 'sclerosis', 'nephrosis, glomerular sclerosis', 'nephrotoxicity, nephrotoxicity', 'tubular necrosis', 'renal tubular necrosis', 'seizures, convulsions', 'Pseudomonas infections', 'Leukocytosis', 'leukopenia', 'infection', 'leukopenia, sepsis', 'convulsions, depression', 'depression, convulsions, loss of consciousness', 'toxocity, salivation, muscle tremors, convulsions', 'Mastodynia', 'mastodynia, mastodynia', 'infections, infections', 'bacteremias', 'infection, abdominal infections, infections, urinary tract infections', 'staphylococcal infections', 'fungal infections', 'CMV infection', 'Epstein Barr Virus infection', 'hypertension, diabetes insipidus', 'hypertension, hypertension', 'Toxic hepatitis', 'toxic liver damage', 'Atrial thrombosis', 'atrial thrombosis', 'cardiac hypertrophy, myocardial degeneration', 'cardiac hypertrophy', 'thrombosis, atrial thrombosis', 'Alternating sinus rhythm, sinoatrial block', 'Alternating sinus rhythm, sinoatrial (S-A) block, angina', 'alternating rhythm', 'S-A block', 'conduction disorder', 'cardiotoxicity, nephrotoxicity, immunocytoma', 'Tumor', 'albuminuria', 'Ascites, hydrothorax', 'cardiotoxicity, nephrotoxicity', 'Albuminuria, renal damage, ascites, hydrothorax, cardiomyopathy', 'bradycardia, hypotension', 'bradycardia, hypotensive', 'apnoea', 'neuromuscular blockade', 'hypotension, hypotension, hypotension, hypotension', 'hyperactivity', 'stereotypies', 'hyperactivity, neurotoxic', 'Accelerated junctional rhythms', 'accelerated junctional rhythms', 'Accelerated junctional rhythms, supraventricular tachyarrhythmias', 'ovarian cancer', 'Hematologic toxicity, anemia', 'gastrointestinal toxicity', 'dissecting aneurysm', 'dissecting aneurysm, hypertension, locked-in syndrome', 'chronic active hepatitis', 'anginal attacks, bradycardia, tachycardial', 'Hepatitis, renal tubular acidosis', 'acute cholecystitis, hepatic insufficiency syndrome, renal tubular acidosis', 'acute renal failure, thrombopenia, hemolysis', 'hematological disorders', 'acute tubular necrosis', 'Hypotension', 'nausea, dizziness', 'abdominal pain', 'pains', 'fasciculations', 'spasm', 'hernias', 'amblyopia', 'blindness, tonic pupillary, leg cramps', 'tonic pupillary, toxicity', 'jaw stiffness, myalgia', 'jaw stiffness', 'apnoea, myalgia', 'prolonged jaw rigidity, myalgia', 'hyperkalemia, gouty arthritis', 'hyperkalemia, renal insufficiency, gouty arthritis', 'hyporeninemic hypoaidosteronism', 'diabetes mellitus, renal disease', 'pain, pain, swelling', 'respiratory upset', 'Nausea, vomiting, psychoses', 'dyskinesias', \"motor disability, dyskinesias, Parkinson's disease\", 'dyskinesias, parkinsonian, motor disability', 'dyskinesias, dystonic dyskinesias, dyskinesias, choreic mid-dose dyskinesias', 'drug toxicity', 'liver, blood, skin, and renal disorders', 'liver disease', 'erythema multiforme, Stevens-Johnson syndrome', 'toxic epidermal necrolysis', 'renal disease', 'MI', 'MI, bradydysrhythmias, ventricular tachycardia, ventricular fibrillation, seizures, toxicity, MI, cardiovascular or central nervous system toxicity', 'non-small cell lung cancer', 'toxicities, arthralgia, sensory neuropathy', 'Toxicities', 'hematologic toxicities', 'renal dysfunction, cirrhosis', 'renal dysfunction, cirrhotic', 'cirrhotic', 'cirrhosis', 'angio-oedema', 'urticaria, angio-oedema', 'hypertension, congestive heart failure', 'Myoclonus', 'circulatory failure, myocardial dysfunction', 'myocarditis, eosinophilic myocarditis, cardiogenic shock', 'dysrhythmias', 'hypotension, dysrhythmias', 'cardiac arrest', 'myocardial dysfunction', 'nausea, vomiting', 'vomiting, vomiting', 'Headache, vomiting, vomiting', 'atrioventricular (AV) block, hypotension', 'hyperaldosteronism', 'AV block, hypotension', 'AV block', 'audiogenic tonic convulsions', 'myocardial infarction, cluster headache', \"ischaemic heart disease, Prinzmetal's angina\", 'tubular damage', 'hypertrophic hearts', 'hypertension, hypotension', 'intracerebral hemorrhage', 'hematoma, coagulopathy', 'coagulopathy', 'idiopathic cardiomyopathy, congenital heart disease, hypertrophic cardiomyopathy, valvular heart disease, cardiomyopathy', 'Cytomegalovirus infections', 'atherosclerosis', 'Seizures, hypertension, lymphoproliferative disorder', 'somnolence, movement difficulties', 'cognitive disorders, delirium', 'hyperkinetic, delirium', 'Pulmonary edema, shock, lymphoma', 'lymphomas', 'fever, diarrhea, shock, pulmonary edema, acute renal failure, metabolic acidosis, weight gain, leukocytosis', 'shock, adult respiratory distress syndrome', 'cardiac injury', 'ischemic lesions, fibrosis', 'ischemia, coronary artery spasm', 'hypertrophic', 'ventricular tachycardia, VT', 'VT', 'VT, dysrhythmias', 'Milk-alkali syndrome, hypoparathyroidism', 'Milk-alkali syndrome, peptic ulcer disease', 'ulcer, milk-alkali syndrome, hypercalcemia, alkalosis, renal impairment', 'Milk-alkali syndrome', 'hypoparathyroidism, milk-alkali syndrome', 'milk-alkali syndrome, hypercalcemic emergency', 'Encephalopathy, neuroleptic malignant syndrome, serotonin syndrome, encephalopathy, unipolar depression', 'neuroleptic malignant syndrome, NMS, serotonin syndrome, SS', 'NMS, encephalopathy, NMS, SS', 'tumor, hemorrhagic, tumor', 'hemorrhagic, pituitary tumors', 'hemorrhagic', 'tumors, hemorrhagic', 'hemorrhagic, hemorrhagic, hemorrhagic', 'bladder irritation', 'irritation of the urinary tract', 'myocardial ischemia, coronary stenosis', 'coronary artery stenosis', 'stenosis', 'myocardial ischemia, stenosis', 'nephropathy, glomerular disease', 'growth failure, nephropathy', 'glomerulopathy', 'glomerular hypertrophy, glomerulosclerosis, tubulointerstitial injury', 'proteinuria, tubulointerstitial damage', 'learning and post-training consolidation deficits', 'hypercapnic', 'hepatitis B', 'venous thromboembolism', 'venous thromboembolism, VTE', 'VTE', 'deep-vein thrombosis, venous thrombosis, VTE', 'VTE, VTE', 'VTE, deep-vein thrombosis, thrombosis, venous thrombosis', 'seizure, brain damage', 'tonic and clonic seizure', 'Brain damage', 'neuronal death', 'cytotoxicity', 'neutropenia, neutropenia', 'toxicities', 'proarrhythmia, ventricular tachyarrhythmias', 'torsades de pointes, torsades de pointes, ventricular tachyarrhythmias', 'coronary artery disease, dilated cardiomyopathy, ventricular tachycardia, ventricular fibrillation, ventricular tachyarrhythmia', 'ventricular tachycardia, ventricular fibrillation', 'ventricular tachyarrhythmia, ventricular tachyarrhythmia', 'cardiac disease, torsades de pointes', 'Torsades de pointes', 'ventricular tachyarrhythmias, arrhythmia', 'Hyperprolactinemia', 'hyperprolactinemia, hyperprolactinemia', 'loss of myelination, necrosis', 'Thrombotic, acute promyelocytic leukemia', 'acute renal failure, occlusion of renal vessels, acute promyelocytic leukemia, APL', 'acute renal failure, APL', 'thromboembolic, APL', 'Thrombotic', 'manic', 'pupillary oscillation, manic', 'pain, pain', 'pain, pain, pain', 'postoperative nausea and vomiting', 'major depression disorder', 'depressive episode', 'nausea, depression disorder', 'Hypertensive', 'hypertensive, hypertension', 'cardiac dysrhythmias', 'Hyperosmolar nonketotic coma, nephrogenic diabetes insipidus', 'manic depression, hyperosmolar, nonketotic coma', 'polyuria, polydipsia', 'hyperglycaemia, polyuric, nephrogenic diabetes insipidus', 'type 2 diabetes, polyuria, nephrogenic diabetes insipidus, dehydration', 'deterioration of left ventricular (LV) systolic function', 'deterioration of LV systolic and diastolic performance', 'thrombocytopenia, thromboembolism', 'thrombocytopenia, osteoporosis, eosinophilia, skin reactions, allergic reactions, thrombocytopenia, alopecia', 'ureteric obstruction', 'ureteric calculi, HIV-infected, urolithiasis', 'Ureteric obstruction', 'ureteric stones or obstruction, HIV infection', 'Ischemic colitis', 'coronary vasospasm, myocardial ischemia, myocardial infarction', 'ischemic colitis, migraine', \"Parkinson's disease, bradykinesia, rigidity, dyskinesias\", 'bradykinesia, rigidity', 'homonymous hemianopsia', 'Neuroleptic malignant syndrome', 'multicystic encephalomalacia, hypoxic-ischemic encephalopathy, neuroleptic malignant syndrome', 'intrahepatic cholestasis', 'hypertension, psoriasis', 'psoriatic, hypertension', 'gingival hyperplasia', 'hypertensive, psoriatic, gingival hyperplasia', 'Torsade de pointes, ventricular tachycardia, dilated cardiomyopathy, congestive heart failure', 'heart failure, dilated cardiomyopathy, ventricular arrhythmias, QT prolongation, torsade de pointes, ventricular tachycardia', 'torsade de pointes, ventricular tachycardia, arrhythmias', 'dyspnea, loss of consciousness, macro-papular rash, pain', 'allergy', 'hyperammonemic encephalopathy, cancer, dehydration, infection', 'cancer, hyperammonemic encephalopathy', 'hyperammonemic encephalopathy', 'azotemia, bacterial infections, infection, dehydration', 'hyperammonemia, bacterial infections', 'Azotemia, bacterial infections', 'hypoactivity, hyperactivity', 'learning and memory impairment', 'allodynia, hyperalgesia', 'impairment of learning and memory', 'liver toxicity', 'rheumatoid arthritis, hepatitis', 'hepatitis, hypersensitivity', 'liver toxicity, hepatic damage', 'necrosis, necrosis', 'aplastic anemia, aplastic anemia', 'Catalepsy', 'left ventricular dysfunction, coronary artery disease, myocardial ischaemia', 'left ventricular dysfunction, coronary artery disease', 'ischaemia', 'stable angina, coronary artery disease', 'coronary artery disease, ischaemia, left ventricular dysfunction, myocardial stunning', 'ischaemia, coronary artery disease', 'pulmonary hypertension, pulmonary hypertension', 'primary pulmonary hypertension, PPH', 'pulmonary hypertension', 'pulmonary hypertension, PPH', 'PPH, pulmonary hypertension, pulmonary hypertension', 'PPH', 'PPH, PPH', 'thrombocytopenia, thrombosis', 'thrombosis', 'thrombotic', 'Bleeding', 'thrombocytopenia, osteoporosis, eosinophilia, skin reactions, allergic reactions, thrombocytopenia, alopecia, hyperkalemia, hypoaldosteronism, priapism', 'HITT, osteoporosis', 'ischemic optic neuropathies', 'optic nerve toxicity', 'Hypercalcemia, arrhythmia', 'bipolar, hypercalcemia, bradyarrhythmia, bipolar, hypercalcemia', 'hypercalcemias, hypercalcemias, malignancies, hypercalcemia', 'bipolar, bipolar', 'hypercalcemia, bipolar, hypercalcemia', 'acute nephrotoxicity', 'acute nephrotoxicity, toxoplasmosis', 'oliguria, abdominal pain, renal failure, renal calculi', 'ureteral lithiasis', 'dizziness, downbeating nystagmus', 'tachycardia, tachycardia', 'ovarian and fallopian tube cancers, carcinoma of the peritoneum', 'ovarian cancer, toxicity, erythrodysesthesia, hand-foot syndrome, stomatitis', 'ovarian or fallopian tube cancers, peritoneal carcinoma', 'hand-foot syndrome, stomatitis, diarrhea', 'toxicity, stomatitis, hand-foot syndrome', 'bipolar mania', 'bipolar disorder, manic, Mania', 'Extrapyramidal Symptom, EPS', 'EPSs', 'weight gain', 'somnolence', 'pupil dilation', 'Pupillary dilation', 'isotretinoin embryopathy, anotia, Taussig-Bing malformation', 'anotia, Taussig-Bing malformation', 'stress incontinence', 'urinary stress incontinence', 'a significant rise in systolic blood pressure', 'heart failure, CHF', 'CHF', 'hypotension, renal dysfunction', 'renal dysfunction, hyperkalemia', 'diabetes', 'cardiotoxity, cocaine and ethanol abuse', 'abuse of cocaine and ethanol', 'cardiovascular collapse', 'decrease in cardiac output', 'Ventricular arrhythmias, ventricular tachycardia', 'myocardial depression', 'Parkinsonism', 'irregular heartbeat', 'irregular heart beat, bradycardia', \"Graves' disease\", \"vasculitis, Graves' disease\", \"hyperthyroidism, Graves' disease, vasculitis\", 'vasculitic disorders', 'fever, oral ulcers, polyarthralgia', 'abnormal left ventricular filling', 'coronary artery or myocardial disease', 'ventricular tachycardia, long-QT syndrome', 'torsade de pointes, TdP, QT prolongation', 'TdP, QT prolongation', 'preterm infants', 'hemorrhage, cysts', 'subependymal cysts, preterm infants', 'premature (< 36 weeks of gestation) infants', 'cocaine abuse', 'subependymal cysts, subependymal cysts', 'subependymal cyst, preterm infants', 'neuropathy, prostate cancer', 'prostate cancer', 'Neuropathy', 'hearing loss', 'ototoxicity, ototoxicity', 'ototoxicity', 'Anxiety', 'squamous cell carcinoma of the cervix', 'cervical carcinoma', 'squamous cell cervical carcinoma, toxicity', 'myelosuppression, neutropenia, anemia, thrombocytopenia, neutropenic fever', 'toxicity, nausea, emesis, fatigue, mucositis, stomatitis, constipation, weight loss, hand-foot syndrome, skin reactions', 'mania, antibiomania', 'manic, mania', 'mania, manic', 'antibiomania', \"ocular dyskinesias, Parkinson's disease\", 'ocular dyskinesias', 'choreatic dyskinesias', 'dysmenorrhea', 'dysmenorrhea, dysmenorrhea', 'pelvic pain', 'Low back pain', 'Headache', 'glomerular injury, nephrosis', 'proteinuria, hypertrophy, glomerulosclerosis, nephrotic', 'Nephrosis', 'neprotic', 'Pulmonary hypertension', 'hypoxaemia, patent ductus arteriosus', 'Hypoxaemia', 'hypoxaemia', 'Hyponatremia, syndrome of inappropriate anti-diuretic hormone, hyponatremia, syndrome of inappropriate secretion of anti-diuretic hormone, SIADH', 'hyponatremia, SIADH', 'leukemia, lymphoma', 'toxicity, haemorrhagic, cystitis', 'interstitial cystitis', 'gastric cancer', 'gastric cancer, AGC, toxicity', 'AGC', 'AGC, AGC', 'toxicities, leukopenia', 'thrombocytopenia', 'vomitus', 'diarrhea', 'stomatitis', 'hand-foot syndrome', 'hemolytic-uremic syndrome, HUS, AGC', 'HUS', 'leukocyturia, impaired renal function, human immunodeficiency virus type 1-infected', 'nephrotoxicity, human immunodeficiency virus type 1-infected', 'leukocyturia, leukocyturia, hematuria', 'leukocyturia, leukocyturia', 'leukocyturia', 'impairment of the renal function, nephrolithiasis', 'nephrotoxicity, leukocyturia', 'myocardial necrosis, myocardial infarction, MI, chest pain', 'chest pain, MI', 'MI, cardiac death, coronary disease, MI', 'cardiac death, MI', 'necrosis, chest pain, MI', 'interstitial nephritis, interstitial nephritis, AIN, fever, acute renal failure', 'retinal vein occlusion', 'fever, skin rash', 'arthralgia, fever', 'eosinophilia, renal failure, AIN', 'AIN', 'Neuroleptic malignant syndrome, bleeding, chronic renal failure', 'chronic renal failure, CRF, neuroleptic malignant syndrome, NMS', 'NMS, bleeding', 'NMS, CRF, bleeding', 'mitochondrial dysfunction', 'mitochondrial dysfunction, cardiomyopathy, cancer', 'hyperactivity, hyperactivity', 'decreased the locomotor activity', 'bradyarrhythmia, atrial fibrillation, myocardial infarction', 'atrial fibrillation, AF, bradyarrhythmia', 'bradyarrhythmia, ventricular arrhythmias', 'AF, myocardial infarction, MI', 'bradyarrhythmia', 'AF, MI, bradyarrhythmia', 'interstitial cystitis, mastocytosis', 'haematological malignancies', 'constipation, drowsiness, dizziness, rash', 'peripheral sensory neuropathy', 'Central nervous system toxicity', 'Central nervous system and cardiac toxicity', 'grand mal seizures', 'cardiovascular toxicity', 'cardiac toxicity, convulsions', 'central nervous system toxicity, cardiac toxicity', 'myotonia congenita, myotonic disorders', 'Myotonia congenita, MC, sustained membrane depolarisation', 'muscle spasm', 'muscle spasms', 'myotonic condition', 'Myotonia', 'MC', 'ion channel disorders, malignant hyperthermia', 'Apnea, seizures', 'epileptic, hyperventilation', 'hyperventilation', 'epileptic', 'acute liver failure, overdose', 'acute liver failure', 'acute liver failure, tumor, necrosis', 'akinesia, rigidity, tremor', 'drug-induced dyskinesias', 'retinoblastoma', 'toxicity, retinoblastoma', 'abnormal ocular motility', 'abnormal ocular motility, retinoblastoma', 'rupture', 'optic neuropathy, tuberculosis of the lung or lymph node', 'visual impairment, diabetes mellitus, glaucoma', 'diabetes mellitus, glaucoma', 'gustatory hyperhidrosis', 'Gustatory hyperhidrosis, sweating', 'gustatory hyperhidrosis, hyperhidrosis', 'sweating, sweating', 'dry mouth, sore throat, headache', 'thrombophlebitis', 'Pain', 'malignancies', 'cardiotoxic, cardiac diseases', 'necrosis, hemolytic anemia', 'hemolytic anemia, cerebral anoxia', 'visual field defects', 'visual field defects, seizure', 'visual field defect', 'deterioration in visual field', 'visual field defects, toxicity', 'dermatitis, facial inflammatory dermatoses', 'rosacea, perioral dermatitis', 'dermatitis', 'inflammatory facial dermatoses', 'rosacea, acne', 'eczema, periocular dermatitis', 'atopic dermatitis, papular rosacea', 'structural deficits in the human brain', 'metabolic abnormalities', 'abnormalities in the cortex, hippocampus, white matter, and ventricles', 'impaired memory performance', 'hypertrophy, gliosis, neuronal damage', 'brain injury', 'hepatomegaly', 'hepatoma', 'hepatotoxic, hepatotoxicity', 'hypercholesterolemia, dyslipidemia', 'dyslipidemia', 'Flushing', 'psychological disturbance', 'diabetes insipidus', 'neurogenic diabetes insipidus, DI, traumatic brain injury', 'polydipsia', 'nephrogenic DI, nephrogenic DI', 'nephrogenic DI, neurogenic DI, brain trauma', 'neurogenic DI', 'chronic hepatitis C, hemolytic anemia', 'chronic hepatitis C', 'mitochondrial injury', 'mitochondrial oxidative damage', 'coronary spasm, dilated cardiomyopathy, ventricular tachycardia', 'ventricular dysfunction, dilated cardiomyopathy, ventricular tachycardia, VT, VT', 'Coronary vasospasm', 'oral stereotypies, catalepsy', \"Swallowing abnormalities, dyskinesia, Parkinson's disease\", \"Gastrointestinal abnormalities, Parkinson's disease, PD\", 'PD, dyskinesia', 'dyskinetic', \"dysphagia, Parkinson's Disease\", 'Dyskinetic', 'dysphagia, PD', 'tubulointerstitial nephritis', 'diabetes mellitus, schizophrenia, diabetes', 'schizophrenia, schizoaffective disorder', 'insulin sensitivity, insulin resistance', 'insulin sensitivity', 'insulin resistance', 'cerebral ischemia, hypertension', 'middle cerebral artery occlusion, hypertensive, hypertension, ischemic brain injury', 'hypertension, HTN, hypertension, HTN, hypertension', 'brain injury, edema', 'Brain injury, ischemic hemisphere, HTN, HTN, HTN', 'HTN', 'hypertension, brain injury, edema, hypertension, vasogenic edema', 'atrial fibrillation, hemorrhage, stroke', 'hemorrhage, stroke, atrial fibrillation', 'bleeding, strokes', 'hemorrhages', 'hemorrhage, stroke', 'skin reactions', 'cutaneous reactions', 'erythema, urticaria, angioedema', 'angioedema', 'end-stage renal disease', 'end-stage renal disease, ESRD', 'ESRD', 'ESRD, nephropathy', 'overdose, prolonged QT syndrome', 'QT prolongation, hypocalcaemia', 'menopausal symptoms', 'cardiovascular disease, osteoporosis, dementia', 'heart disease, venous thromboembolism, stroke, transient ischaemic attacks, breast cancer, colorectal cancer, ovarian cancer, endometrial cancer, gallbladder disease, dementia, fractures', 'venous thromboembolism, stroke, breast cancer, gallbladder disease', 'stroke, gallbladder disease', 'fractures, colon cancer', 'cardiovascular disease, venous thromboembolism', 'chronic disease', 'Drug-induced liver injury', 'drug-induced liver injury, DILI', 'DILI', 'liver damage, cholestatic', 'fulminant hepatic failure', 'myocardiopathy', 'renal impairment', 'renal tubular injury', 'atrophy, desquamation, necrosis', 'nephrotoxicity, kidney damage', 'restless legs syndrome, restless legs syndrome, RLS, RLS, RLS', 'RLS', 'postprandial dyspepsia, RLS', 'RLS, RLS', 'coronary arterial disease', 'coronary heart disease', 'coronary arteriosclerosis', 'hyperglyceridemic effect', 'Cardiotoxicity, malignancies', 'colon cancer', 'precordial pain, right bundle branch block', 'precordial pain', 'precordial pain, cardiotoxicity', 'cardiac symptoms', 'cardiac damage', 'cardiomyocyte damage, Cancer, cardiac damage', 'atrial fibrillation and flutter', 'atrial fibrillation, AF, atrial flutter, AFL, torsade de pointes, Tdp', 'AF, AFL', 'bradycardia, dizziness, fatigue', 'QT prolongation, Tdp', 'Tdp, hypokalemia', 'Tdp, Tdp', 'LV hypertrophy', 'cardiac inotropic, hypertrophy', 'long QT syndrome', 'QT interval prolongation', 'Long QT syndrome', 'hypertension, arterial dysfunction', 'extrapyramidal syndrome, schizophrenic', 'Extrapyramidal syndrome, EPS', 'EPS, schizophrenic', 'schizophrenic, EPS, EPS', 'EPS', 'status epilepticus, seizures', 'impairs associative learning', 'impaired novel word learning', 'vasculitis, polyarteritis nodosa', 'palmoplantar pustulosis, fever, myalgias, polyneuropathy, testicular pain', 'polyarteritis nodosa', 'hepatitis B, hepatitis B', 'hepatitis B, cirrhotic diseases', 'Nephropathy', 'acute renal failure, renal injury', 'fibrosis, atrophy', 'renal injury, nephropathy, renal failure', 'renal damage, tumor', 'Toxicity', 'temporal lobe epilepsy', 'autistic disorder', 'autism', 'irritability', 'headaches', 'autism, aggression, behavioral dyscontrol, inattention', 'schizophrenia, schizophreniform disorder, schizoaffective disorder', 'parkinsonism, akathisia', 'Extrapyramidal symptom', 'weight gain, weight gain', 'visual field loss', 'visual field abnormalities', 'atrioventricular block', 'carcinoma of the breast', 'bradycardic', 'acute myocardial infarction, AMI, AMI, GI bleeding', 'AMI', 'AMI, GI bleeding', 'AMI, toxicity', 'arrhythmia, severe malaria', 'severe malaria, jaundice, arrhythmia, premature ventricular contraction', 'fever, chill, vomiting, jaundice', 'severe malaria, jaundice', 'vomitus, diarrhea, tinnitus, loss of hearing', 'palpitation, premature ventricular contraction, PVC, sinoatrial block', 'PVC', 'arrhythmic, arrhythmic, arrhythmias, arrhythmia, PVC', 'arrhythmic, heart diseases, electrolyte disorder, hypokalemia, vomiting, diarrhea, malaria', 'lichenoid dermatitis, Wilson disease, anxiety', \"Wilson's disease, toxicity, hepatic, neurologic and psychiatric disorders\", \"Wilson's disease, chronic liver disease, anxiety, depression\", 'lichenoid dermatitis', \"Wilson's disease\", \"Wilson's disease, skin lesion\", \"Wilson's disease, Wilson's disease\", 'drop in blood pressure', 'chest pain, chest pain', 'syncopal episode', 'Acute encephalopathy, cerebral vasospasm, acute lymphoblastic leukemia', 'acute lymphoblastic leukemia, ALL', 'acute encephalopathy, aphasia, incontinence, visual hallucinations, weakness, cerebral vasospasm', 'essential hypertension', 'Pb poisoning', 'impairments in learning, attention, inhibitory control, and arousal regulation', 'cognitive and affective dysfunction', 'panic disorder, depression, panic attacks', 'panic disorder, PD, major depression, panic attacks, MDP, Mental Disorders, panic attacks', 'PD, MDP, major depression, panic attacks, MD', 'MDP', 'MD', 'panic attack', 'PD, MDP, MD', 'panic attacks, PD, MDP', 'failing left ventricle', 'dilated cardiomyopathy, mitral regurgitation, MR, MR', 'MR', 'heart failure, MR', 'end-stage renal disease, tremor, confusion, tonic-clonic seizure, GTCS, bronchiectasis, secondary infection', 'leukocytosis', 'dysarthria', 'GTCS', 'infarction, organic brain lesions', 'encephalopathy, uremic', 'vocal cord paralysis', 'vocal nerve palsies', 'paralysis', 'paralysis, paralysis', 'cortical dysplasia', 'Cortical dysplasia', 'interstitial nephritis', 'Acute tubulo-interstitial nephritis, ATIN, acute renal failure, tubulo-interstitial injury', 'ATIN', 'fever', 'glomerulonephritis, staphylococcal endocarditis', 'glomerulonephritis, tuberculosis', 'infections, infective endocarditis, IE, Staphylococcal infections', 'Staphylococcal IE, acute renal failure, glomerulonephritis', 'chronic hepatitis B virus infection', 'chronic hepatitis B', 'hepatitis B, chronic hepatitis B', 'chronic hepatitis B, chronic hepatitis B', 'retinal vein occlusion, hypertension', 'postoperative pain', 'tissue injury, pain', 'urinary bladder inflammation', 'bladder inflammation, cystitis', 'bladder inflammation', 'HIV-infected', 'HIV-infected, HIV-infected', 'hepatitis, jaundice', 'lactic acidosis, immune reconstitution syndrome', 'rash, peripheral neuropathy', 'Anemia, hepatitis', 'sensory neurotoxicity', 'sensory axonal neuropathy', 'cutaneous lupus erythematosus, CLE, neurotoxic', 'CLE', 'paresthesias, cramps', 'pulmonary mass, membranous glomerulonephritis, valvular heart disease', 'arrhythmic, tachycardia', 'valvular heart disease, lung mass', 'lung mass, lung cancer', 'hemosiderin, hemosiderotic', 'Autoimmune diseases, viral hepatitis, neoplasms, membranous glomerulonephritis', 'pulmonary lesion, neoplasm, membranous glomerulonephritis', 'coronary artery disease, type 2 diabetes', 'coronary artery disease, CAD, type 2 diabetes', 'type 2 diabetic, CAD', 'CAD, diabetes', 'CAD', 'type 2 diabetes, CAD', 'nephropathy, hypertensive', 'renal disease, hypertensive, nephropathy', 'glomerulosclerosis, proteinuria', 'glomerulosclerosis, atrophy, interstitial fibrosis, proteinuria, chronic renal failure', 'uraemia, nephropathy', 'atrophy, fibrosis, nephropathy', 'focal segmental glomerulosclerosis, end-stage renal disease', 'myocardial infarctions, renal dysfunction', 'cardiac arrhythmias', 'glioblastoma', 'glioblastoma multiforme, GBM', 'glioma', 'GBM', 'toxicities, toxicities, lymphopenia, neutropenia', 'hyperparathyroidism', 'Primary hyperparathyroidism', 'bleeding, hypotension', 'Hemorrhage', 'Nonalcoholic fatty liver disease', 'nonalcoholic fatty liver disease, NAFLD, obesity', 'hyperinsulinemia, insulin resistance', 'obesity, hyperinsulinemia, insulin resistance, NAFLD', 'ANCA positive vasculitis', 'Antineutrophil cytoplasmic antibody (ANCA)--associated vasculitis', \"Graves' disease, vasculitis\", 'vasculitic, skin rash, arthritis, pyrexia, parotiditis', 'Coronary heart disease, cerebrovascular disease', 'myocardial infarctions, strokes', 'cardiovascular disease, CVD, strokes, stroke, CVD, gastrointestinal bleeding, hemorrhagic strokes', 'CVD, CVD', 'CVD', 'bleeding, gastrointestinal bleeding', 'hemorrhagic strokes', 'myocardial infarction, strokes', 'thrombosis, thrombocytopenia, HIT, HIT, HIT', 'HIT, hepatic impairment', 'heart failure, renal dysfunction, obesity', 'obesity', 'HIT, HIT', 'Rhabdomyolysis, ischemic stroke', 'heroin abuse', 'rhabdomyolysis, ischemic stroke', 'unconsciousness', 'rhabdomyolysis, acute renal failure, respiratory failure', 'aphasia, weakness', 'cerebral ischemic infarction', 'rhabdomyolysis, stroke', 'bipolar disorder, mitochondrial dysfunction', 'hyperlocomotion', 'mania, bipolar disorder', 'fulminant liver failure', 'fulminant liver failure, AKI', 'confusion, paranoia', 'NSCLC', 'non-small-cell lung cancer, NSCLC', 'NSCLC, toxicity', 'fatigue, dyspnea, stomatitis, anemia, thrombocytopenia', 'Pneumonitis', 'chest pain, acute coronary syndrome', 'chest pain, coronary vasospasm, ischemia', 'coronary stenosis', 'myocardial ischemia, chest pain, ischemic', 'posterior reversible encephalopathy syndrome', 'Posterior leukoencephalopathy, neurotoxicity', 'alcoholic cirrhosis, posterior leukoencephalopathy, posterior reversible encephalopathy syndrome', 'Posterior reversible encephalopathy syndrome', 'hypothermia, cerebral edema, intracranial hypertension, fulminant hepatic failure', 'cerebral edema, fulminant hepatic failure, FHF, hypothermia', 'FHF, cerebral edema', 'hyperventilation, paralysis', 'hypothermia', 'cerebral edema, intracranial hypertension', 'FHF, cerebral edema, overdose, hypothermia', 'Binasal visual field defects', 'visual defects, epilepsy, seizure', 'Bilateral visual field abnormalities, epilepsy', 'retinal toxicity', 'HIV infection', 'HIV seroconversion', 'memory deficits', 'HIV disease', 'depression, HIV disease', 'depression, Depression', 'Depression', 'Neuroinflammation, seizures', 'status epilepticus, SE', 'SE', 'SE, hypertrophied', 'neuroinflammatory, seizures', 'cognitive dysfunction', 'deterioration of learning and short-term memory', 'fulminant eosinophilic, hypersensitivity, myocarditis, drug hypersensitivity', 'hypersensitivity, myocarditis', 'cardiogenic shock', 'myocarditis', \"Parkinson's disease, PD\", 'neuropsychiatric symptoms, PD', 'neuropsychiatric-like behaviors', 'parkinsonism', 'parkinsonian disability, dyskinesia, neuropsychiatric-like behaviors', 'neuropsychiatric-like behavior', 'neuropsychiatric disorders, PD', 'Renal dysfunction, nephrotoxic', 'hepatotoxicity, acute liver failure, ALF', 'ALF, ALF, chronic liver disease, CLD, ALF', 'ALF, ALF, CLD', 'ALF, ALF, ALF, CLD', 'neuropathic pain', 'pain, inflammation, diabetic neuropathy', 'hyperalgesia, neuropathic', 'thrombocytopenia, HIT', 'Thrombosis, thrombocytopenia, HIT', 'HIT', 'HIT, thrombosis, thrombosis', 'paralysis, adductor spasmodic dysphonia', 'adductor spasmodic dysphonia, ADSD, throat pain', 'paralysis, ADSD', 'spasmodic dysphonia', 'ADSD', 'Mitochondrial impairment, cardiac dysfunction', 'cocaine abuse, left ventricular dysfunction', 'mitochondrial abnormalities', 'mitochondrial abnormalities, cardiac dysfunction, diastolic dysfunction', 'cardiac dysfunction, mitochondrial defect', 'acute leukemia, anemia', 'hemoglobinuria', 'anemia, anemia', 'hemolysis', 'diabetic nephropathy', 'type 1 diabetes, nephropathy, diabetic nephropathy, diabetic nephropathy, fibrosis, diabetes', 'fibrosis, nephropathy', 'diabetic nephropathy, diabetes complications', 'mantle cell lymphoma', \"Mantle cell lymphoma, MCL, B-cell non-Hodgkin's lymphoma\", 'MCL', 'MCL, tumor', 'tumor, tumor', 'necrotic', 'tumor, MCL', 'Syncope, hyperkalemia', 'myocardial infarction, loss of consciousness, bradycardia, hyperkalemia', 'hyperkalemia, renal disturbance', 'Osteoporosis', 'osteoporosis', 'Musculoskeletal pain', 'osteoporosis, pain, pain, osteoporosis', 'meningitis', 'bacteremia, meningitis', 'weakness, pneumonia', 'bacteremia, infection', 'interstitial nephritis, bacteremia', 'bacteremia', 'convulsion, convulsion', 'convulsion, convulsion, convulsive', \"dementia, Alzheimer's disease\", 'memory deterioration', 'cognitive deficits, glucose hypometabolism, AD']\n"
     ]
    }
   ],
   "source": [
    "# Set to keep track of seen items\n",
    "seen = set()\n",
    "# List to keep only unique items, preserving the order\n",
    "unique_list = []\n",
    "\n",
    "for item in filtered_corpus:\n",
    "    if item not in seen:\n",
    "        unique_list.append(item)\n",
    "        seen.add(item)\n",
    "        \n",
    "        \n",
    "filtered_corpus = unique_list\n",
    "print(\"Unique List:\", unique_list)"
   ]
  },
  {
   "cell_type": "code",
   "execution_count": 47,
   "id": "9cdda223",
   "metadata": {},
   "outputs": [
    {
     "data": {
      "text/plain": [
       "array(['a significant rise in systolic blood pressure',\n",
       "       'abdominal infections', 'abdominal pain', ..., \"wilson's disease\",\n",
       "       'wiskott-aldrich syndrome', 'xdr-tb'], dtype=object)"
      ]
     },
     "execution_count": 47,
     "metadata": {},
     "output_type": "execute_result"
    }
   ],
   "source": [
    "# Define a tokenizer that splits on commas\n",
    "from sklearn.feature_extraction.text import CountVectorizer\n",
    "def custom_tokenizer(text):\n",
    "    return [phrase.strip() for phrase in text.split(',')]\n",
    "\n",
    "\n",
    "# Initialize CountVectorizer with this custom tokenizer\n",
    "vectorizer = CountVectorizer(tokenizer=custom_tokenizer)\n",
    "\n",
    "# Create the term-document matrix\n",
    "term_doc_mat = vectorizer.fit_transform(filtered_corpus).T\n",
    "\n",
    "# Get feature names to see how terms have been tokenized\n",
    "feature_names = vectorizer.get_feature_names_out()\n",
    "feature_names"
   ]
  },
  {
   "cell_type": "code",
   "execution_count": 48,
   "id": "2db43b1e",
   "metadata": {},
   "outputs": [],
   "source": [
    "def cossim(vec1, vec2):   \n",
    "    ### WRITE YOUR OWN CODE HERE\n",
    "    dot_prod = np.dot(vec1, vec2)\n",
    "    normaliser = np.sum(vec1**2)**0.5 * np.sum(vec2**2)**0.5\n",
    "    return dot_prod / normaliser "
   ]
  },
  {
   "cell_type": "code",
   "execution_count": 142,
   "id": "9d14bf39",
   "metadata": {
    "scrolled": true
   },
   "outputs": [
    {
     "name": "stdout",
     "output_type": "stream",
     "text": [
      "(1348, 1694)\n"
     ]
    }
   ],
   "source": [
    "print(term_doc_mat.shape)\n",
    "def get_term_vector(vectorizer, term_doc_mat, word):\n",
    "    index = vectorizer.vocabulary_[word]\n",
    "    term_vec = term_doc_mat[index].toarray()\n",
    "    \n",
    "    return term_vec.flatten()"
   ]
  },
  {
   "cell_type": "code",
   "execution_count": 51,
   "id": "01c45eb9",
   "metadata": {},
   "outputs": [],
   "source": [
    "import numpy as np\n",
    "\n",
    "def cossim(vec1, vec2):\n",
    "    dot_prod = np.dot(vec1, vec2)\n",
    "    normaliser = np.linalg.norm(vec1) * np.linalg.norm(vec2)  # This is more numerically stable and cleaner\n",
    "    return dot_prod / normaliser if normaliser != 0 else 0\n",
    "\n",
    "def calculate_similarities(vectorizer, term_doc_mat, target_word):\n",
    "    # Get the vector for the target word\n",
    "    target_vector = get_term_vector(vectorizer, term_doc_mat, target_word)\n",
    "\n",
    "    # Dictionary to hold similarity scores\n",
    "    similarity_scores = {}\n",
    "\n",
    "    # Iterate over every word in the feature space\n",
    "    for word in vectorizer.get_feature_names_out():\n",
    "        word_vector = get_term_vector(vectorizer, term_doc_mat, word)\n",
    "        # Calculate cosine similarity and store it in the dictionary\n",
    "        similarity_scores[word] = cossim(target_vector, word_vector)\n",
    "    \n",
    "    return similarity_scores\n",
    "\n",
    "# Calculate similarities for 'ulcers'\n",
    "similarity_scores = calculate_similarities(vectorizer, term_doc_mat, 'depression')\n"
   ]
  },
  {
   "cell_type": "code",
   "execution_count": 145,
   "id": "fece201a",
   "metadata": {},
   "outputs": [
    {
     "name": "stdout",
     "output_type": "stream",
     "text": [
      "Top 5 similar terms to 'paralysis': [('depression', 1.0000000000000002), ('impulsiveness', 0.4082482904638631), ('attention-deficit hyperactivity disorder', 0.23570226039551587), ('hypomania', 0.23570226039551587), ('impaired memory', 0.23570226039551587), ('psychotic', 0.23570226039551587)]\n",
      "Bottom 5 similar terms to 'paralysis': [('weight gain', 0.0), ('weight loss', 0.0), ('white matter', 0.0), ('wilson disease', 0.0), ('wiskott-aldrich syndrome', 0.0), ('xdr-tb', 0.0)]\n"
     ]
    }
   ],
   "source": [
    "# Sorting the dictionary by similarity score\n",
    "sorted_scores = sorted(similarity_scores.items(), key=lambda item: item[1], reverse=True)\n",
    "\n",
    "# Top 5 similar terms\n",
    "top_5 = sorted_scores[:6]\n",
    "print(\"Top 5 similar terms to 'paralysis':\", top_5)\n",
    "\n",
    "# Bottom 5 similar terms\n",
    "bottom_5 = sorted_scores[-6:]\n",
    "print(\"Bottom 5 similar terms to 'paralysis':\", bottom_5)\n"
   ]
  },
  {
   "cell_type": "code",
   "execution_count": 148,
   "id": "3de46ec8",
   "metadata": {
    "scrolled": false
   },
   "outputs": [
    {
     "data": {
      "text/plain": [
       "[('depression', 1.0000000000000002),\n",
       " ('impulsiveness', 0.4082482904638631),\n",
       " ('attention-deficit hyperactivity disorder', 0.23570226039551587),\n",
       " ('hypomania', 0.23570226039551587),\n",
       " ('impaired memory', 0.23570226039551587),\n",
       " ('psychotic', 0.23570226039551587)]"
      ]
     },
     "execution_count": 148,
     "metadata": {},
     "output_type": "execute_result"
    }
   ],
   "source": [
    "top_5 #removing the first result as it is the actual query."
   ]
  },
  {
   "cell_type": "code",
   "execution_count": 149,
   "id": "3e3af111",
   "metadata": {
    "scrolled": false
   },
   "outputs": [
    {
     "data": {
      "text/plain": [
       "[('weight gain', 0.0),\n",
       " ('weight loss', 0.0),\n",
       " ('white matter', 0.0),\n",
       " ('wilson disease', 0.0),\n",
       " ('wiskott-aldrich syndrome', 0.0),\n",
       " ('xdr-tb', 0.0)]"
      ]
     },
     "execution_count": 149,
     "metadata": {},
     "output_type": "execute_result"
    }
   ],
   "source": [
    "bottom_5"
   ]
  }
 ],
 "metadata": {
  "kernelspec": {
   "display_name": "text_analytics",
   "language": "python",
   "name": "text_analytics"
  },
  "language_info": {
   "codemirror_mode": {
    "name": "ipython",
    "version": 3
   },
   "file_extension": ".py",
   "mimetype": "text/x-python",
   "name": "python",
   "nbconvert_exporter": "python",
   "pygments_lexer": "ipython3",
   "version": "3.11.8"
  },
  "varInspector": {
   "cols": {
    "lenName": 16,
    "lenType": 16,
    "lenVar": 40
   },
   "kernels_config": {
    "python": {
     "delete_cmd_postfix": "",
     "delete_cmd_prefix": "del ",
     "library": "var_list.py",
     "varRefreshCmd": "print(var_dic_list())"
    },
    "r": {
     "delete_cmd_postfix": ") ",
     "delete_cmd_prefix": "rm(",
     "library": "var_list.r",
     "varRefreshCmd": "cat(var_dic_list()) "
    }
   },
   "types_to_exclude": [
    "module",
    "function",
    "builtin_function_or_method",
    "instance",
    "_Feature"
   ],
   "window_display": false
  }
 },
 "nbformat": 4,
 "nbformat_minor": 5
}
